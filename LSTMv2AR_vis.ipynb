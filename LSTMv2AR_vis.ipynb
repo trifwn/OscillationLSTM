{
 "cells": [
  {
   "cell_type": "code",
   "execution_count": null,
   "metadata": {},
   "outputs": [],
   "source": [
    "import IPython\n",
    "import IPython.display\n",
    "import os\n",
    "\n",
    "import numpy as np\n",
    "\n",
    "import tensorflow as tf\n",
    "from tensorflow.keras.layers import LSTM, LeakyReLU ,Flatten , Dense, Dropout\n",
    "\n",
    "import matplotlib.pyplot as plt"
   ]
  },
  {
   "cell_type": "code",
   "execution_count": null,
   "metadata": {},
   "outputs": [],
   "source": [
    "print(tf.__version__)"
   ]
  },
  {
   "cell_type": "code",
   "execution_count": null,
   "metadata": {},
   "outputs": [],
   "source": [
    "gpus = tf.config.experimental.list_physical_devices('GPU')\n",
    "if gpus:\n",
    "    try:\n",
    "        # Currently, memory growth needs to be the same across GPUs\n",
    "        for gpu in gpus:\n",
    "            tf.config.experimental.set_memory_growth(gpu, True)\n",
    "        logical_gpus = tf.config.experimental.list_logical_devices('GPU')\n",
    "        print(len(gpus), \"Physical GPUs,\", len(logical_gpus), \"Logical GPUs\")\n",
    "    except RuntimeError as e:\n",
    "        # Memory growth must be set before GPUs have been initialized\n",
    "        print(e)\n",
    "tf.test.is_built_with_cuda()"
   ]
  },
  {
   "cell_type": "markdown",
   "metadata": {},
   "source": [
    "# Import Data"
   ]
  },
  {
   "cell_type": "code",
   "execution_count": null,
   "metadata": {},
   "outputs": [],
   "source": [
    "InputData = np.genfromtxt('Data/InputData.csv',delimiter=\",\")\n",
    "t = np.genfromtxt('Data/time.csv',delimiter=\",\")\n",
    "Data = np.genfromtxt('Data/OutputData.csv',delimiter=\",\")\n",
    "print(f\"OutData: %s, \\nInputData: %s, \\nTime: %s\" %(np.shape(Data),np.shape(InputData),np.shape(t)))"
   ]
  },
  {
   "cell_type": "markdown",
   "metadata": {},
   "source": [
    "# Split The Data"
   ]
  },
  {
   "cell_type": "code",
   "execution_count": null,
   "metadata": {},
   "outputs": [],
   "source": [
    "n = Data.shape[1]\n",
    "train_df = Data[:, 0:int(n*0.7):]\n",
    "val_df = Data[:,int(n*0.7):int(n*0.9):]\n",
    "test_df = Data[:,int(n*0.9):]\n",
    "\n",
    "num_features = Data.shape[1]\n"
   ]
  },
  {
   "cell_type": "markdown",
   "metadata": {},
   "source": [
    "# Normalize Data"
   ]
  },
  {
   "cell_type": "code",
   "execution_count": null,
   "metadata": {},
   "outputs": [],
   "source": [
    "train_mean = train_df.mean()\n",
    "train_std = train_df.std()\n",
    "\n",
    "train_df = (train_df - train_mean) / train_std\n",
    "val_df = (val_df - train_mean) / train_std\n",
    "test_df = (test_df - train_mean) / train_std"
   ]
  },
  {
   "cell_type": "code",
   "execution_count": null,
   "metadata": {},
   "outputs": [],
   "source": [
    "example_ind = 63\n",
    "plt.plot(t,train_df[:,example_ind])\n"
   ]
  },
  {
   "cell_type": "markdown",
   "metadata": {},
   "source": [
    "# Data Windowing"
   ]
  },
  {
   "cell_type": "code",
   "execution_count": null,
   "metadata": {},
   "outputs": [],
   "source": [
    "from window import WindowGenerator"
   ]
  },
  {
   "cell_type": "code",
   "execution_count": null,
   "metadata": {},
   "outputs": [],
   "source": [
    "OUT_STEPS = 15\n",
    "multi_window = WindowGenerator(input_width=30,\n",
    "                               label_width=OUT_STEPS,\n",
    "                               shift=OUT_STEPS,\n",
    "                               train_df=train_df,\n",
    "                               val_df=val_df,\n",
    "                               test_df=test_df)\n",
    "\n",
    "multi_window.plotexample()\n",
    "multi_window"
   ]
  },
  {
   "cell_type": "markdown",
   "metadata": {},
   "source": [
    "# FeedBack Model"
   ]
  },
  {
   "cell_type": "code",
   "execution_count": null,
   "metadata": {},
   "outputs": [],
   "source": [
    "class FeedBack(tf.keras.Model):\n",
    "    def __init__(self, units, out_steps):\n",
    "        super().__init__()\n",
    "        self.out_steps = out_steps\n",
    "        self.units = units\n",
    "\n",
    "        self.l1 = LSTM(units, activation='tanh', return_sequences=True,return_state=True,name = \"LSTM1\")\n",
    "        self.l2 = Dropout(0.2)\n",
    "        self.l3 = LSTM(units, activation='tanh', return_sequences=True,return_state=True,name = \"LSTM2\")\n",
    "        self.l4 = Dropout(0.2)\n",
    "        self.l5 = Flatten(name = \"Flat\")\n",
    "        self.l6 = Dense(units,activation=None, use_bias=True,name=\"Dense1\")\n",
    "        self.l7 = LeakyReLU(alpha=0.4,name = \"LR3\")\n",
    "        self.l8 = Dense(units=1,name=\"Output\")\n",
    "\n",
    "    def warmup(self, inputs):\n",
    "        inp = inputs                                 #Input        => inputs.shape      => (batch, time, features)\n",
    "        x, *carry_state1 = self.l1(inp)              #LSTM 1       => x.shape           => (batch, timesteps,lstm_units)\n",
    "        x = self.l2(x)                               #LEAKY RELU 1 => x.shape           => (batch, timesteps,lstm_units)\n",
    "        x, *carry_state2  = self.l3(x)               #LSTM_2       => x.shape           => (batch, timesteps,lstm_units)\n",
    "        x = self.l4(x)                               #Leaky_ReLU_2 => x.shape           => (batch, timesteps,lstm_units)\n",
    "        x = self.l5(x)                               #Flatten      => x.shape           => (batch, timesteps * lstm_units)\n",
    "        x = self.l6(x)                               #Dense_1      => x.shape           => (batch, lstm_units)\n",
    "        x = self.l7(x)                               #Leaky_ReLU_3 => x.shape           => (batch, lstm_units)\n",
    "        prediction = self.l8(x)                      #Dense_2      => predictions.shape => (batch, 1)\n",
    "        \n",
    "        return prediction , carry_state1 ,carry_state2"
   ]
  },
  {
   "cell_type": "code",
   "execution_count": null,
   "metadata": {},
   "outputs": [],
   "source": [
    "def call(self, inputs, training=None):\n",
    "  # Use a TensorArray to capture dynamically unrolled outputs.\n",
    "  predictions = inputs\n",
    "  # Initialize the LSTM state.\n",
    "  prediction, carry_state1, carry_state2 = self.warmup(inputs)\n",
    "  # Insert the first prediction.\n",
    "  predictions = tf.concat(axis=1, values = [predictions,tf.expand_dims(prediction,axis=2)]) # <<<< note the cast\n",
    "  # Run the rest of the prediction steps.\n",
    "  for n in range(1, self.out_steps):\n",
    "    # Use the last prediction as input.\n",
    "    inp = predictions[:,n:,:]\n",
    "    # Execute one lstm step.\n",
    "    x, *carry_state1 = self.l1(inp , initial_state= [*carry_state1],\n",
    "                                            training=training) #LSTM\n",
    "    x = self.l2(x) #LEAKY RELU\n",
    "    x, *carry_state2 = self.l3(x, initial_state= [*carry_state2], \n",
    "                                            training=training) #LSTM\n",
    "    x = self.l4(x) #LEAKY RELU\n",
    "    x = self.l5(x) #FLATEN\n",
    "    x = self.l6(x) #DENSE/\n",
    "    x = self.l7(x) #LEAKY RELU\n",
    "    prediction = self.l8(x) #DENSELOL\n",
    "\n",
    "    predictions = tf.concat(axis=1, values = [predictions,tf.expand_dims(prediction,axis=2)]) # <<<< note the cast\n",
    "\n",
    "  # predictions.shape => (time, batch, features)\n",
    "  return predictions[:,-OUT_STEPS:,:]\n",
    "\n",
    "FeedBack.call = call"
   ]
  },
  {
   "cell_type": "code",
   "execution_count": null,
   "metadata": {},
   "outputs": [],
   "source": [
    "model =  FeedBack(units=64, out_steps=OUT_STEPS)\n",
    "model(multi_window.example[0]).shape"
   ]
  },
  {
   "cell_type": "code",
   "execution_count": null,
   "metadata": {},
   "outputs": [],
   "source": [
    "models = os.listdir(\"Models/\")\n",
    "print(models)\n",
    "print(f\"Models/{models[3]}\")"
   ]
  },
  {
   "cell_type": "code",
   "execution_count": null,
   "metadata": {},
   "outputs": [],
   "source": [
    "model.load_weights(f\"Models/{models[3]}\")"
   ]
  },
  {
   "cell_type": "code",
   "execution_count": null,
   "metadata": {},
   "outputs": [],
   "source": [
    "startTime = 250\n",
    "exampleCase = 31\n",
    "CaseParameters = InputData[exampleCase]\n",
    "print(\"W: {}\\nZ: {}\\nX0: {}\\nV0: {}\".format(*CaseParameters))\n",
    "multi_window.plot( inputs=train_df[startTime:startTime+multi_window.total_window_size, exampleCase], model=model)"
   ]
  },
  {
   "cell_type": "code",
   "execution_count": null,
   "metadata": {},
   "outputs": [],
   "source": [
    "def CalcCase(data, window, model):\n",
    "    inputsRT = data[:window.input_width]\n",
    "    outputsRT = data[:window.input_width]\n",
    "    \n",
    "    iw = window.input_width\n",
    "    shift = window.shift\n",
    "    i=0\n",
    "    while(iw+shift*i<t.shape[0]):\n",
    "        predRT = np.squeeze(model(np.reshape(inputsRT, (1, inputsRT.shape[0], 1))))\n",
    "        outputsRT = np.hstack([outputsRT, predRT])\n",
    "        inputsRT = outputsRT[-iw:]\n",
    "        i+=1\n",
    "    print(\"We had to execute {} calls\\nPredicted {} timesteps\".format(i,np.shape(outputsRT[iw:])[0]))\n",
    "    return  outputsRT"
   ]
  },
  {
   "cell_type": "code",
   "execution_count": null,
   "metadata": {},
   "outputs": [],
   "source": [
    "predData = []\n",
    "for i in range(train_df.shape[1]):\n",
    "    print(\"\\nTest Case:{}\".format(i))\n",
    "    testCase = train_df[:,i]\n",
    "    ts  = CalcCase(testCase,multi_window,model)\n",
    "    predData.append(ts)\n",
    "predData =np.array(predData)"
   ]
  },
  {
   "cell_type": "markdown",
   "metadata": {},
   "source": [
    "# Create Animation"
   ]
  },
  {
   "cell_type": "code",
   "execution_count": null,
   "metadata": {},
   "outputs": [],
   "source": [
    "from pltfigure import pltfigure"
   ]
  },
  {
   "cell_type": "code",
   "execution_count": null,
   "metadata": {},
   "outputs": [],
   "source": [
    "predData = np.array(predData)\n",
    "pltfigure(train_df.T,predData[:,:t.shape[0]],t,\"Data\",\"Prediction\",'Graphs/datasetPredAR.gif')"
   ]
  }
 ],
 "metadata": {
  "interpreter": {
   "hash": "916dbcbb3f70747c44a77c7bcd40155683ae19c65e1c03b4aa3499c5328201f1"
  },
  "kernelspec": {
   "display_name": "Python 3.6.8 64-bit",
   "language": "python",
   "name": "python3"
  },
  "language_info": {
   "codemirror_mode": {
    "name": "ipython",
    "version": 3
   },
   "file_extension": ".py",
   "mimetype": "text/x-python",
   "name": "python",
   "nbconvert_exporter": "python",
   "pygments_lexer": "ipython3",
   "version": "3.6.8"
  },
  "orig_nbformat": 4
 },
 "nbformat": 4,
 "nbformat_minor": 2
}
