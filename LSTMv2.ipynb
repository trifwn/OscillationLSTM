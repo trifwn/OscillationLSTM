{
 "cells": [
  {
   "cell_type": "markdown",
   "metadata": {},
   "source": [
    "# Imports"
   ]
  },
  {
   "cell_type": "code",
   "execution_count": null,
   "metadata": {},
   "outputs": [],
   "source": [
    "%load_ext autoreload\n",
    "%autoreload 2"
   ]
  },
  {
   "cell_type": "code",
   "execution_count": null,
   "metadata": {},
   "outputs": [],
   "source": [
    "import os\n",
    "import time\n",
    "from datetime import datetime\n",
    "\n",
    "from threading import Thread\n",
    "import IPython\n",
    "import IPython.display\n",
    "\n",
    "import numpy as np\n",
    "from math import *\n",
    "\n",
    "import tensorflow as tf\n",
    "from tensorflow.keras.layers import LSTM, LeakyReLU ,Flatten , Dense,Dropout\n",
    "from tensorflow.keras.callbacks import TensorBoard, ModelCheckpoint\n",
    "\n",
    "import matplotlib.pyplot as plt\n",
    "from pltfigure import pltfigure"
   ]
  },
  {
   "cell_type": "code",
   "execution_count": null,
   "metadata": {},
   "outputs": [],
   "source": [
    "print(tf.__version__)"
   ]
  },
  {
   "cell_type": "code",
   "execution_count": null,
   "metadata": {},
   "outputs": [],
   "source": [
    "gpus = tf.config.experimental.list_physical_devices('GPU')\n",
    "if gpus:\n",
    "    try:\n",
    "        # Currently, memory growth needs to be the same across GPUs\n",
    "        for gpu in gpus:\n",
    "            tf.config.experimental.set_memory_growth(gpu, True)\n",
    "        logical_gpus = tf.config.experimental.list_logical_devices('GPU')\n",
    "        print(len(gpus), \"Physical GPUs,\", len(logical_gpus), \"Logical GPUs\")\n",
    "    except RuntimeError as e:\n",
    "        # Memory growth must be set before GPUs have been initialized\n",
    "        print(e)\n",
    "tf.test.is_built_with_cuda()"
   ]
  },
  {
   "cell_type": "code",
   "execution_count": null,
   "metadata": {},
   "outputs": [],
   "source": [
    "tf.executing_eagerly()"
   ]
  },
  {
   "cell_type": "markdown",
   "metadata": {},
   "source": [
    "# DATASET"
   ]
  },
  {
   "cell_type": "code",
   "execution_count": null,
   "metadata": {},
   "outputs": [],
   "source": [
    "InputData = np.genfromtxt('Data/InputDataBenchmark.csv',delimiter=\",\")\n",
    "t = np.genfromtxt('Data/timeBenchmark.csv',delimiter=\",\")\n",
    "Data = np.genfromtxt('Data/OutputDataBenchmark.csv',delimiter=\",\")\n",
    "print(f\"OutData: %s, \\nInputData: %s, \\nTime: %s\" %(np.shape(Data),np.shape(InputData),np.shape(t)))"
   ]
  },
  {
   "cell_type": "code",
   "execution_count": null,
   "metadata": {},
   "outputs": [],
   "source": [
    "example_ind = 5\n",
    "\n",
    "plt.plot(t,Data[:,example_ind])\n",
    "plt.grid()"
   ]
  },
  {
   "cell_type": "markdown",
   "metadata": {},
   "source": [
    "# Split The Data"
   ]
  },
  {
   "cell_type": "markdown",
   "metadata": {},
   "source": [
    "You'll use a (70%, 20%, 10%) split for the training, validation, and test sets. Note the data is not being randomly shuffled before splitting. This is for two reasons:\n",
    "\n",
    "    It ensures that chopping the data into windows of consecutive samples is still possible.\n",
    "    It ensures that the validation/test results are more realistic, being evaluated on the data collected after the model was trained.\n"
   ]
  },
  {
   "cell_type": "code",
   "execution_count": null,
   "metadata": {},
   "outputs": [],
   "source": [
    "n = Data.shape[1]\n",
    "train_df = Data[:, 0:int(n*0.7):]\n",
    "meta_train_df = InputData.T[:, 0:int(n*0.7):]\n",
    "\n",
    "val_df = Data[:,int(n*0.7):int(n*0.9):]\n",
    "meta_val_df = InputData.T[:,int(n*0.7):int(n*0.9):]\n",
    "\n",
    "test_df = Data[:,int(n*0.9):]\n",
    "meta_test_df = InputData.T[:,int(n*0.9):]\n",
    "\n",
    "num_features = Data.shape[1]\n"
   ]
  },
  {
   "cell_type": "markdown",
   "metadata": {},
   "source": [
    "# Normalize Data"
   ]
  },
  {
   "cell_type": "code",
   "execution_count": null,
   "metadata": {},
   "outputs": [],
   "source": [
    "train_mean = train_df.mean()\n",
    "train_std = train_df.std()\n",
    "\n",
    "train_df = (train_df - train_mean) / train_std\n",
    "val_df = (val_df - train_mean) / train_std\n",
    "test_df = (test_df - train_mean) / train_std"
   ]
  },
  {
   "cell_type": "code",
   "execution_count": null,
   "metadata": {},
   "outputs": [],
   "source": [
    "plt.plot(t,train_df[:,example_ind])\n"
   ]
  },
  {
   "cell_type": "markdown",
   "metadata": {},
   "source": [
    "# Data Windowing"
   ]
  },
  {
   "cell_type": "code",
   "execution_count": null,
   "metadata": {},
   "outputs": [],
   "source": [
    "from window import WindowGenerator"
   ]
  },
  {
   "cell_type": "markdown",
   "metadata": {},
   "source": [
    "### Example of window"
   ]
  },
  {
   "cell_type": "code",
   "execution_count": null,
   "metadata": {},
   "outputs": [],
   "source": [
    "wExample = WindowGenerator(input_width=30, label_width=1, shift=1,\n",
    "                            train_df=train_df,val_df=val_df,test_df=test_df, \n",
    "                            batch_size=5,\n",
    "                            md_train_df =meta_train_df, md_test_df =meta_test_df,md_val_df=meta_val_df)\n",
    "wExample"
   ]
  },
  {
   "cell_type": "markdown",
   "metadata": {},
   "source": [
    "### Create tf.data.Datasets"
   ]
  },
  {
   "cell_type": "code",
   "execution_count": null,
   "metadata": {},
   "outputs": [],
   "source": [
    "wExample.make_dataset(data=train_df,added_data=meta_train_df).element_spec"
   ]
  },
  {
   "cell_type": "markdown",
   "metadata": {},
   "source": [
    "### Plot/Example"
   ]
  },
  {
   "cell_type": "code",
   "execution_count": null,
   "metadata": {},
   "outputs": [],
   "source": [
    "wExample.plotexample()\n",
    "print(f'Inputs shape (Batchsize, timesteps,features): {wExample.example[1].shape}')\n",
    "print(f'Labels shape (Batchsize, timesteps,features): {wExample.example[0].shape}')\n"
   ]
  },
  {
   "cell_type": "markdown",
   "metadata": {},
   "source": [
    "# Plot Particular"
   ]
  },
  {
   "cell_type": "code",
   "execution_count": null,
   "metadata": {},
   "outputs": [],
   "source": [
    "OUT_STEPS = 30\n",
    "wExample2 = WindowGenerator(input_width=30, label_width=OUT_STEPS,\n",
    "                            shift=OUT_STEPS, train_df=train_df, val_df=val_df, test_df=test_df,batch_size=5,\n",
    "                            md_train_df =meta_train_df, md_test_df =meta_test_df,md_val_df=meta_val_df)\n"
   ]
  },
  {
   "cell_type": "code",
   "execution_count": null,
   "metadata": {},
   "outputs": [],
   "source": [
    "wExample2.plotCase(train_df[:,3],t)"
   ]
  },
  {
   "cell_type": "markdown",
   "metadata": {},
   "source": [
    "# LSTM MODEL 1 TimeStep Train"
   ]
  },
  {
   "cell_type": "code",
   "execution_count": null,
   "metadata": {},
   "outputs": [],
   "source": [
    "def compile_and_fit(model, name, window, patience=10, MAX_EPOCHS=500, record=True):\n",
    "\n",
    "    now = datetime.now()\n",
    "    dt_string = now.strftime(\"%d-%m-%Y-%H-%M\")\n",
    "\n",
    "    NAME = name + \"@\"+str(MAX_EPOCHS)+\"@\"+dt_string\n",
    "    filename = os.path.join(\"Models\",  NAME + '.h5')\n",
    "    early_stopping = tf.keras.callbacks.EarlyStopping(monitor='val_loss',\n",
    "                                                      patience=patience,\n",
    "                                                      mode='min')\n",
    "    if record == True:\n",
    "        tensorboard = TensorBoard(log_dir= os.path.join(\"logs\",NAME))\n",
    "        checkpoint = ModelCheckpoint(filename, monitor='val_loss', verbose=0,\n",
    "                                     save_best_only=True, mode='min', save_weights_only=True)\n",
    "        callbacks = [early_stopping, tensorboard, checkpoint]\n",
    "    else:\n",
    "        callbacks = [early_stopping]\n",
    "\n",
    "    model.compile(loss=tf.losses.MeanSquaredError(),\n",
    "                  optimizer=tf.optimizers.Adam(),\n",
    "                  metrics=[tf.metrics.MeanAbsoluteError()])\n",
    "\n",
    "    history = model.fit(window.train, epochs=MAX_EPOCHS,\n",
    "                        validation_data=window.val,\n",
    "                        callbacks=callbacks)  # ,tensorboard,checkpoint])\n",
    "    return history\n",
    "\n",
    "\n",
    "val_performance = {}\n",
    "performance = {}\n"
   ]
  },
  {
   "cell_type": "code",
   "execution_count": null,
   "metadata": {},
   "outputs": [],
   "source": [
    "from network import lstm_model\n",
    "model = lstm_model(units = 64)"
   ]
  },
  {
   "cell_type": "code",
   "execution_count": null,
   "metadata": {},
   "outputs": [],
   "source": [
    "windowOneStep = WindowGenerator(\n",
    "    input_width=30, label_width=1, shift=1,\n",
    "    train_df=train_df,test_df=test_df,val_df=val_df,\n",
    "    batch_size = 1000,\n",
    "    md_train_df =meta_train_df, md_test_df =meta_test_df,md_val_df=meta_val_df)\n",
    "\n",
    "print(windowOneStep)"
   ]
  },
  {
   "cell_type": "code",
   "execution_count": null,
   "metadata": {},
   "outputs": [],
   "source": [
    "windowOneStep.example[0].shape"
   ]
  },
  {
   "cell_type": "code",
   "execution_count": null,
   "metadata": {},
   "outputs": [],
   "source": [
    "model = lstm_model(units = 64)\n",
    "print('Input shape:', windowOneStep.example[0].shape)\n",
    "print('Output shape:', model(windowOneStep.example[0]).shape)"
   ]
  },
  {
   "cell_type": "code",
   "execution_count": null,
   "metadata": {},
   "outputs": [],
   "source": [
    "model.summary()"
   ]
  },
  {
   "cell_type": "code",
   "execution_count": null,
   "metadata": {},
   "outputs": [],
   "source": [
    "%%time\n",
    "history = compile_and_fit(model, \"BenchmarkLSTM\",windowOneStep,MAX_EPOCHS=800 ,patience = 100,record = True)\n",
    "\n",
    "IPython.display.clear_output()\n",
    "\n",
    "val_performance['LSTM'] = model.evaluate(windowOneStep.val)\n",
    "performance['LSTM'] = model.evaluate(windowOneStep.test, verbose=0)"
   ]
  },
  {
   "cell_type": "markdown",
   "metadata": {},
   "source": [
    "# Plotting Results"
   ]
  },
  {
   "cell_type": "markdown",
   "metadata": {},
   "source": [
    "Example Plotting"
   ]
  },
  {
   "cell_type": "code",
   "execution_count": null,
   "metadata": {},
   "outputs": [],
   "source": [
    "windowOneStep.plotexample(model)"
   ]
  },
  {
   "cell_type": "markdown",
   "metadata": {},
   "source": [
    "Plotting Specific Case at Specific Time"
   ]
  },
  {
   "cell_type": "code",
   "execution_count": null,
   "metadata": {},
   "outputs": [],
   "source": [
    "startTime = 200\n",
    "exampleCase = 1\n",
    "CaseParameters = InputData[exampleCase]\n",
    "print(\"W: {}\\nZ: {}\\nX0: {}\\nV0: {}\".format(*CaseParameters))\n",
    "pred = windowOneStep.plotCase( val_df[:, exampleCase],t, model=model,metadata=InputData[exampleCase],\n",
    "                               options = {\"showLines\" : False,  \"yLabel\" :'x', \"xLabel\" :'Timesteps'})"
   ]
  },
  {
   "cell_type": "markdown",
   "metadata": {},
   "source": [
    "# Try to produce TimeSeries"
   ]
  },
  {
   "cell_type": "code",
   "execution_count": null,
   "metadata": {},
   "outputs": [],
   "source": [
    "def CalcCase(data, window, model,metadata = None):\n",
    "    inputs = data[:window.input_width]\n",
    "    inputsRT = data[:window.input_width]\n",
    "    if metadata is not None:\n",
    "        inputs = np.hstack([inputs,metadata])\n",
    "        inputsRT = np.hstack([inputsRT,metadata])\n",
    "    outputs = data[:window.input_width]\n",
    "    outputsRT = data[:window.input_width]\n",
    "    \n",
    "    shift = window.shift\n",
    "    for i, time in enumerate(t[window.input_width::shift]):\n",
    "        pred = np.squeeze(model(np.reshape(inputs, (1, inputs.shape[0], 1))))\n",
    "        predRT = np.squeeze(model(np.reshape(inputsRT, (1, inputsRT.shape[0], 1))))\n",
    "\n",
    "        outputs = np.hstack([outputs, pred])\n",
    "        outputsRT = np.hstack([outputsRT, predRT])\n",
    "\n",
    "        inputs = data[i:i+window.input_width]\n",
    "        inputsRT = outputsRT[-window.input_width:]\n",
    "        if metadata is not None:\n",
    "            inputsRT = np.hstack([inputsRT,metadata])\n",
    "            inputs = np.hstack([inputs,metadata])\n",
    "\n",
    "    return outputs, outputsRT"
   ]
  },
  {
   "cell_type": "code",
   "execution_count": null,
   "metadata": {},
   "outputs": [],
   "source": [
    "predData = []\n",
    "predDataRT = []\n",
    "for i in range(val_df.shape[1]):\n",
    "    print(i)\n",
    "    testCase = val_df[:,i]\n",
    "    testMetaData = InputData[i,:]\n",
    "    ts1 ,ts2 = CalcCase(testCase,windowOneStep,model,metadata=testMetaData)\n",
    "    predData.append(ts1)\n",
    "    predDataRT.append(ts2)\n",
    "predData = np.array(predData)\n",
    "predDataRT = np.array(predDataRT)\n"
   ]
  },
  {
   "cell_type": "markdown",
   "metadata": {},
   "source": [
    "# Plot Individually"
   ]
  },
  {
   "cell_type": "code",
   "execution_count": null,
   "metadata": {},
   "outputs": [],
   "source": [
    "def plotCase(outputs, outputsRT, window, data, index):\n",
    "    fig = plt.figure()\n",
    "    axes = fig.add_axes([0, 0, 1, 1])\n",
    "    iw = window.input_width\n",
    "\n",
    "    axes.plot(t[:iw], data[:iw], label=\"Input\", linewidth=1.5)\n",
    "    axes.plot(t[iw:], data[iw:], label=\"Target\", linestyle=\"dotted\",linewidth=1.5)\n",
    "    axes.plot(t[iw:], outputs[iw:], label=\"AR Predictions\", \n",
    "                c='#2ca02c',linewidth = 1)\n",
    "    axes.plot(t[iw:], outputsRT[iw:], label='Predictions',\n",
    "                c='#ff7f0e',linewidth = 1)\n",
    "\n",
    "    axes.grid()\n",
    "    axes.legend()\n",
    "    axes.set_title(\"Test Case\")\n",
    "    extent=axes.get_window_extent().transformed(fig.dpi_scale_trans.inverted())\n",
    "    fig.savefig(\"Graphs/Agogos\" + str(index) + '.png',\n",
    "                dpi = 1000)\n",
    "    plt.show()"
   ]
  },
  {
   "cell_type": "code",
   "execution_count": null,
   "metadata": {},
   "outputs": [],
   "source": [
    "ts1 ,ts2 = CalcCase(val_df[:,3],windowOneStep,model,metadata=meta_val_df[3,:])\n",
    "plotCase(ts1,ts2,windowOneStep,testCase,i)"
   ]
  },
  {
   "cell_type": "markdown",
   "metadata": {},
   "source": [
    "# Produce Animation"
   ]
  },
  {
   "cell_type": "code",
   "execution_count": null,
   "metadata": {},
   "outputs": [],
   "source": [
    "from pltfigure import pltfigure"
   ]
  },
  {
   "cell_type": "code",
   "execution_count": null,
   "metadata": {},
   "outputs": [],
   "source": [
    "pltfigure(val_df.T,predData,t,\"Data\",\"Prediction\",'Graphs/BenchmarkPred.gif')\n",
    "pltfigure(val_df.T,predDataRT,t,\"Data\",\"Prediction\",'Graphs/BenchmarkPredRT.gif')"
   ]
  }
 ],
 "metadata": {
  "interpreter": {
   "hash": "31f2aee4e71d21fbe5cf8b01ff0e069b9275f58929596ceb00d14d90e3e16cd6"
  },
  "kernelspec": {
   "display_name": "Python 3.6.8 64-bit",
   "language": "python",
   "name": "python3"
  },
  "language_info": {
   "codemirror_mode": {
    "name": "ipython",
    "version": 3
   },
   "file_extension": ".py",
   "mimetype": "text/x-python",
   "name": "python",
   "nbconvert_exporter": "python",
   "pygments_lexer": "ipython3",
   "version": "3.9.12"
  },
  "orig_nbformat": 4
 },
 "nbformat": 4,
 "nbformat_minor": 2
}
