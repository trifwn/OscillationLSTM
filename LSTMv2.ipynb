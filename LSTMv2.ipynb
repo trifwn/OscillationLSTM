{
 "cells": [
  {
   "cell_type": "markdown",
   "metadata": {},
   "source": [
    "# Imports"
   ]
  },
  {
   "cell_type": "code",
   "execution_count": null,
   "metadata": {},
   "outputs": [],
   "source": [
    "import os\n",
    "import time\n",
    "from datetime import datetime\n",
    "\n",
    "from threading import Thread\n",
    "import IPython\n",
    "import IPython.display\n",
    "\n",
    "import numpy as np\n",
    "from math import *\n",
    "\n",
    "import tensorflow as tf\n",
    "from tensorflow.keras.layers import LSTM, LeakyReLU ,Flatten , Dense\n",
    "from tensorflow.keras.callbacks import TensorBoard, ModelCheckpoint\n",
    "\n",
    "import matplotlib.pyplot as plt\n",
    "from pltfigure import pltfigure"
   ]
  },
  {
   "cell_type": "code",
   "execution_count": null,
   "metadata": {},
   "outputs": [],
   "source": [
    "print(tf.__version__)"
   ]
  },
  {
   "cell_type": "code",
   "execution_count": null,
   "metadata": {},
   "outputs": [],
   "source": [
    "gpus = tf.config.experimental.list_physical_devices('GPU')\n",
    "if gpus:\n",
    "    try:\n",
    "        # Currently, memory growth needs to be the same across GPUs\n",
    "        for gpu in gpus:\n",
    "            tf.config.experimental.set_memory_growth(gpu, True)\n",
    "        logical_gpus = tf.config.experimental.list_logical_devices('GPU')\n",
    "        print(len(gpus), \"Physical GPUs,\", len(logical_gpus), \"Logical GPUs\")\n",
    "    except RuntimeError as e:\n",
    "        # Memory growth must be set before GPUs have been initialized\n",
    "        print(e)\n",
    "tf.test.is_built_with_cuda()"
   ]
  },
  {
   "cell_type": "code",
   "execution_count": null,
   "metadata": {},
   "outputs": [],
   "source": [
    "tf.executing_eagerly()"
   ]
  },
  {
   "cell_type": "markdown",
   "metadata": {},
   "source": [
    "# DATASET"
   ]
  },
  {
   "cell_type": "code",
   "execution_count": null,
   "metadata": {},
   "outputs": [],
   "source": [
    "InputData = np.genfromtxt('Data/InputData.csv',delimiter=\",\")\n",
    "t = np.genfromtxt('Data/time.csv',delimiter=\",\")\n",
    "Data = np.genfromtxt('Data/OutputData.csv',delimiter=\",\")\n",
    "print(f\"OutData: %s, \\nInputData: %s, \\nTime: %s\" %(np.shape(Data),np.shape(InputData),np.shape(t)))"
   ]
  },
  {
   "cell_type": "code",
   "execution_count": null,
   "metadata": {},
   "outputs": [],
   "source": [
    "plt.plot(t,Data[:,61])\n",
    "plt.grid()"
   ]
  },
  {
   "cell_type": "markdown",
   "metadata": {},
   "source": [
    "# Split The Data"
   ]
  },
  {
   "cell_type": "markdown",
   "metadata": {},
   "source": [
    "You'll use a (70%, 20%, 10%) split for the training, validation, and test sets. Note the data is not being randomly shuffled before splitting. This is for two reasons:\n",
    "\n",
    "    It ensures that chopping the data into windows of consecutive samples is still possible.\n",
    "    It ensures that the validation/test results are more realistic, being evaluated on the data collected after the model was trained.\n"
   ]
  },
  {
   "cell_type": "code",
   "execution_count": null,
   "metadata": {},
   "outputs": [],
   "source": [
    "n = Data.shape[1]\n",
    "train_df = Data[:, 0:int(n*0.7):]\n",
    "val_df = Data[:,int(n*0.7):int(n*0.9):]\n",
    "test_df = Data[:,int(n*0.9):]\n",
    "\n",
    "num_features = Data.shape[1]\n"
   ]
  },
  {
   "cell_type": "markdown",
   "metadata": {},
   "source": [
    "# Normalize Data"
   ]
  },
  {
   "cell_type": "code",
   "execution_count": null,
   "metadata": {},
   "outputs": [],
   "source": [
    "train_mean = train_df.mean()\n",
    "train_std = train_df.std()\n",
    "\n",
    "train_df = (train_df - train_mean) / train_std\n",
    "val_df = (val_df - train_mean) / train_std\n",
    "test_df = (test_df - train_mean) / train_std"
   ]
  },
  {
   "cell_type": "code",
   "execution_count": null,
   "metadata": {},
   "outputs": [],
   "source": [
    "example_ind = 61\n",
    "plt.plot(t,train_df[:,example_ind])\n"
   ]
  },
  {
   "cell_type": "markdown",
   "metadata": {},
   "source": [
    "# Data Windowing"
   ]
  },
  {
   "cell_type": "code",
   "execution_count": null,
   "metadata": {},
   "outputs": [],
   "source": [
    "from window import WindowGenerator"
   ]
  },
  {
   "cell_type": "markdown",
   "metadata": {},
   "source": [
    "### Example of window"
   ]
  },
  {
   "cell_type": "code",
   "execution_count": null,
   "metadata": {},
   "outputs": [],
   "source": [
    "wExample = WindowGenerator(input_width=30, label_width=1, shift=1,train_df=train_df,val_df=val_df,test_df=test_df)\n",
    "wExample"
   ]
  },
  {
   "cell_type": "markdown",
   "metadata": {},
   "source": [
    "### Example of slicing"
   ]
  },
  {
   "cell_type": "code",
   "execution_count": null,
   "metadata": {},
   "outputs": [],
   "source": [
    "# Stack three slices, the length of the total window.\n",
    "example_window = tf.stack([np.array(train_df[:wExample.total_window_size,:]),\n",
    "                           np.array(train_df[100:100+wExample.total_window_size,:]),\n",
    "                           np.array(train_df[200:200+wExample.total_window_size,:])])\n",
    "example_inputs, example_labels = wExample.split_window(example_window)\n",
    "\n",
    "print('Shapes are: (batch, time, features)')\n",
    "print(f'Data shape: {example_window.shape}')\n",
    "print(f'Inputs shape: {example_inputs.shape}')\n",
    "print(f'Labels shape: {example_labels.shape}')"
   ]
  },
  {
   "cell_type": "markdown",
   "metadata": {},
   "source": [
    "### Create tf.data.Datasets"
   ]
  },
  {
   "cell_type": "code",
   "execution_count": null,
   "metadata": {},
   "outputs": [],
   "source": [
    "wExample.train.element_spec"
   ]
  },
  {
   "cell_type": "markdown",
   "metadata": {},
   "source": [
    "### Plot/Example"
   ]
  },
  {
   "cell_type": "code",
   "execution_count": null,
   "metadata": {},
   "outputs": [],
   "source": [
    "wExample.plotexample()\n",
    "print(f'Inputs shape (batch, timesteps,features): {example_inputs.shape}')\n",
    "print(f'Labels shape (batch, timesteps,features): {example_labels.shape}')\n"
   ]
  },
  {
   "cell_type": "markdown",
   "metadata": {},
   "source": [
    "# Plot Particular"
   ]
  },
  {
   "cell_type": "code",
   "execution_count": null,
   "metadata": {},
   "outputs": [],
   "source": [
    "OUT_STEPS = 30\n",
    "wExample2 = WindowGenerator(input_width=30, label_width=OUT_STEPS,\n",
    "                            shift=OUT_STEPS, train_df=train_df, val_df=val_df, test_df=test_df)\n"
   ]
  },
  {
   "cell_type": "code",
   "execution_count": null,
   "metadata": {},
   "outputs": [],
   "source": [
    "wExample2.plot(train_df[:,63])"
   ]
  },
  {
   "cell_type": "markdown",
   "metadata": {},
   "source": [
    "# LSTM MODEL 1 TimeStep Train"
   ]
  },
  {
   "cell_type": "code",
   "execution_count": null,
   "metadata": {},
   "outputs": [],
   "source": [
    "def compile_and_fit(model, name, window, patience=10, MAX_EPOCHS=500, record=True):\n",
    "\n",
    "    now = datetime.now()\n",
    "    dt_string = now.strftime(\"%d-%m-%Y-%H:%M\")\n",
    "\n",
    "    NAME = name + \"@\"+str(MAX_EPOCHS)+\"@\"+dt_string\n",
    "    filename = os.path.join(\"Models\",  NAME + '.h5')\n",
    "\n",
    "    early_stopping = tf.keras.callbacks.EarlyStopping(monitor='val_loss',\n",
    "                                                      patience=patience,\n",
    "                                                      mode='min')\n",
    "    if record == True:\n",
    "        tensorboard = TensorBoard(log_dir=\"logs/{}\".format(NAME))\n",
    "        checkpoint = ModelCheckpoint(filename, monitor='val_loss', verbose=0,\n",
    "                                     save_best_only=True, mode='min', save_weights_only=True)\n",
    "        callbacks = [early_stopping, tensorboard, checkpoint]\n",
    "    else:\n",
    "        callbacks = [early_stopping]\n",
    "\n",
    "    model.compile(loss=tf.losses.MeanSquaredError(),\n",
    "                  optimizer=tf.optimizers.Adam(),\n",
    "                  metrics=[tf.metrics.MeanAbsoluteError()])\n",
    "\n",
    "    history = model.fit(window.train, epochs=MAX_EPOCHS,\n",
    "                        validation_data=window.val,\n",
    "                        batch_size=16,\n",
    "                        callbacks=callbacks)  # ,tensorboard,checkpoint])\n",
    "    return history\n",
    "\n",
    "\n",
    "val_performance = {}\n",
    "performance = {}\n"
   ]
  },
  {
   "cell_type": "code",
   "execution_count": null,
   "metadata": {},
   "outputs": [],
   "source": [
    "lstm_model = tf.keras.models.Sequential([\n",
    "    # Shape [batch, time] => [batch, time, lstm_units]\n",
    "    LSTM(256, activation='tanh', return_sequences=True,name = \"LSTM1\"),\n",
    "    LeakyReLU(alpha=0.4,name = \"LR1\"),\n",
    "    LSTM(256, activation='tanh', return_sequences=True,name = \"LSTM2\"),\n",
    "    LeakyReLU(alpha=0.4,name = \"LR2\"),\n",
    "    Flatten(name = \"Flat\"),\n",
    "    Dense(256,activation=None, use_bias=True,name=\"Dense1\"),\n",
    "    LeakyReLU(alpha=0.4,name = \"LR3\"),\n",
    "    Dense(units=1,name=\"Output\")\n",
    "])"
   ]
  },
  {
   "cell_type": "code",
   "execution_count": null,
   "metadata": {},
   "outputs": [],
   "source": [
    "windowOneStep = WindowGenerator(\n",
    "    input_width=30, label_width=1, shift=1,train_df=train_df,test_df=test_df,val_df=val_df)\n",
    "print('Input shape:', windowOneStep.example[0].shape)\n",
    "print('Output shape:', lstm_model(windowOneStep.example[0]).shape)"
   ]
  },
  {
   "cell_type": "code",
   "execution_count": null,
   "metadata": {},
   "outputs": [],
   "source": [
    "windowOneStep"
   ]
  },
  {
   "cell_type": "code",
   "execution_count": null,
   "metadata": {},
   "outputs": [],
   "source": [
    "%%time\n",
    "history = compile_and_fit(lstm_model, \"LSTM_bigger\",windowOneStep,patience = 10,record = False)\n",
    "\n",
    "IPython.display.clear_output()\n",
    "\n",
    "val_performance['LSTM'] = lstm_model.evaluate(windowOneStep.val)\n",
    "performance['LSTM'] = lstm_model.evaluate(windowOneStep.test, verbose=0)"
   ]
  },
  {
   "cell_type": "markdown",
   "metadata": {},
   "source": [
    "# Plotting Results"
   ]
  },
  {
   "cell_type": "markdown",
   "metadata": {},
   "source": [
    "Example Plotting"
   ]
  },
  {
   "cell_type": "code",
   "execution_count": null,
   "metadata": {},
   "outputs": [],
   "source": [
    "windowOneStep.plotexample(lstm_model)"
   ]
  },
  {
   "cell_type": "markdown",
   "metadata": {},
   "source": [
    "Plotting Specific Case at Specific Time"
   ]
  },
  {
   "cell_type": "code",
   "execution_count": null,
   "metadata": {},
   "outputs": [],
   "source": [
    "startTime = 200\n",
    "exampleCase = 31\n",
    "CaseParameters = InputData[exampleCase]\n",
    "print(\"W: {}\\nZ: {}\\nX0: {}\\nV0: {}\".format(*CaseParameters))\n",
    "windowOneStep.plot( inputs=train_df[startTime:startTime + windowOneStep.input_width+1, exampleCase], model=lstm_model)"
   ]
  },
  {
   "cell_type": "markdown",
   "metadata": {},
   "source": [
    "# Try to produce TimeSeries"
   ]
  },
  {
   "cell_type": "code",
   "execution_count": 1,
   "metadata": {},
   "outputs": [],
   "source": [
    "def CalcCase(data, window, model):\n",
    "    inputs = data[:window.input_width]\n",
    "    inputsRT = data[:window.input_width]\n",
    "    outputs = data[window.input_width:window.input_width+window.label_width]\n",
    "    outputsRT = data[window.input_width:window.input_width+window.label_width]\n",
    "    print(np.shape(inputs), np.shape(outputs))\n",
    "    \n",
    "    for step in t[window.input_width:]:\n",
    "        \n",
    "        pred = np.squeeze(model(np.reshape(inputs,(1,inputs.shape[0],1))))\n",
    "        predRT = np.squeeze(model(np.reshape(inputsRT,(1,inputs.shape[0],1))))\n",
    "        outputs = np.vstack([outputs,pred])\n",
    "        outputsRT = np.vstack([outputsRT,predRT])\n",
    "\n",
    "        inputs = data[step:step+window.input_width]\n",
    "        inputsRT = outputsRT[-window.input_width:]\n",
    "    return outputs,outputsRT\n",
    "\n",
    "def plotCase(outputs,outputsRT,data,index):\n",
    "    fig = plt.figure()\n",
    "    axes = fig.add_axes([0, 0, 1, 1])\n",
    "    axes.plot(t, outputs, label=\"Real Time Pred\", linewidth=1.5)\n",
    "    axes.plot(t, outputsRT, label=\"Input Pred\", linewidth=1.5)   \n",
    "    axes.plot(t[:],data, label=\"Target\",linestyle=\"dotted\",linewidth=2)\n",
    "    axes.grid()\n",
    "    axes.legend()\n",
    "    axes.set_title(\"Test Case\")\n",
    "    extent = axes.get_window_extent().transformed(fig.dpi_scale_trans.inverted())\n",
    "    fig.savefig(\"Graphs/Agogos\" + str(index) + '.png',\n",
    "                bbox_inches=extent.expanded(1.2, 1.3),\n",
    "                dpi=1000)\n",
    "    plt.show()\n"
   ]
  },
  {
   "cell_type": "code",
   "execution_count": null,
   "metadata": {},
   "outputs": [],
   "source": [
    "testCase = train_df[:,63]\n",
    "out1 ,out2 = CalcCase(testCase,windowOneStep,lstm_model)\n",
    "plotCase(out1,out2,testCase)"
   ]
  }
 ],
 "metadata": {
  "interpreter": {
   "hash": "31f2aee4e71d21fbe5cf8b01ff0e069b9275f58929596ceb00d14d90e3e16cd6"
  },
  "kernelspec": {
   "display_name": "Python 3.6.8 64-bit",
   "language": "python",
   "name": "python3"
  },
  "language_info": {
   "codemirror_mode": {
    "name": "ipython",
    "version": 3
   },
   "file_extension": ".py",
   "mimetype": "text/x-python",
   "name": "python",
   "nbconvert_exporter": "python",
   "pygments_lexer": "ipython3",
   "version": "3.6.8"
  },
  "orig_nbformat": 4
 },
 "nbformat": 4,
 "nbformat_minor": 2
}
