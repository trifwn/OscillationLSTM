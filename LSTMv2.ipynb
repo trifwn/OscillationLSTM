{
 "cells": [
  {
   "cell_type": "markdown",
   "metadata": {},
   "source": [
    "# Imports"
   ]
  },
  {
   "cell_type": "code",
   "execution_count": 1,
   "metadata": {},
   "outputs": [],
   "source": [
    "import os\n",
    "import time\n",
    "from datetime import datetime\n",
    "\n",
    "from threading import Thread\n",
    "import IPython\n",
    "import IPython.display\n",
    "\n",
    "import numpy as np\n",
    "from math import *\n",
    "\n",
    "import tensorflow as tf\n",
    "from tensorflow.keras.layers import LSTM, LeakyReLU ,Flatten , Dense\n",
    "from tensorflow.keras.callbacks import TensorBoard, ModelCheckpoint\n",
    "\n",
    "import matplotlib.pyplot as plt\n",
    "from pltfigure import pltfigure"
   ]
  },
  {
   "cell_type": "code",
   "execution_count": 2,
   "metadata": {},
   "outputs": [
    {
     "name": "stdout",
     "output_type": "stream",
     "text": [
      "2.6.0\n"
     ]
    }
   ],
   "source": [
    "print(tf.__version__)"
   ]
  },
  {
   "cell_type": "code",
   "execution_count": 3,
   "metadata": {},
   "outputs": [
    {
     "name": "stdout",
     "output_type": "stream",
     "text": [
      "3 Physical GPUs, 3 Logical GPUs\n"
     ]
    },
    {
     "data": {
      "text/plain": [
       "True"
      ]
     },
     "execution_count": 3,
     "metadata": {},
     "output_type": "execute_result"
    }
   ],
   "source": [
    "gpus = tf.config.experimental.list_physical_devices('GPU')\n",
    "if gpus:\n",
    "    try:\n",
    "        # Currently, memory growth needs to be the same across GPUs\n",
    "        for gpu in gpus:\n",
    "            tf.config.experimental.set_memory_growth(gpu, True)\n",
    "        logical_gpus = tf.config.experimental.list_logical_devices('GPU')\n",
    "        print(len(gpus), \"Physical GPUs,\", len(logical_gpus), \"Logical GPUs\")\n",
    "    except RuntimeError as e:\n",
    "        # Memory growth must be set before GPUs have been initialized\n",
    "        print(e)\n",
    "tf.test.is_built_with_cuda()"
   ]
  },
  {
   "cell_type": "code",
   "execution_count": 4,
   "metadata": {},
   "outputs": [
    {
     "data": {
      "text/plain": [
       "True"
      ]
     },
     "execution_count": 4,
     "metadata": {},
     "output_type": "execute_result"
    }
   ],
   "source": [
    "tf.executing_eagerly()"
   ]
  },
  {
   "cell_type": "markdown",
   "metadata": {},
   "source": [
    "# DATASET"
   ]
  },
  {
   "cell_type": "code",
   "execution_count": 5,
   "metadata": {},
   "outputs": [
    {
     "name": "stdout",
     "output_type": "stream",
     "text": [
      "(100, 4)\n"
     ]
    }
   ],
   "source": [
    "#This is parameter space\n",
    "# m*x''+c*x'+mx = 0\n",
    "# => x'' + 2jwx' +w^2 x =0 , j = c/(2wm) , w = sqrt(k/m)\n",
    "w = np.linspace(0.01, 1, 10)\n",
    "z = np.linspace(0.01, 0.99, 10)\n",
    "x0 = 1\n",
    "v0 = 0\n",
    "\n",
    "t = np.linspace(0.1, 100, 1000)\n",
    "\n",
    "\n",
    "inputData = np.array(np.meshgrid(w,z,x0,v0)).T.reshape(-1, 4)\n",
    "print(np.shape(inputData))"
   ]
  },
  {
   "cell_type": "code",
   "execution_count": 6,
   "metadata": {},
   "outputs": [],
   "source": [
    "def finalsolution(W,Z,X0,V0,T):\n",
    "    # final sol is x = e^(-zwt) (x0cos(wnt)+ ((v0+z*wn*x0)/wn)*sin(wnt)) wn = w sqrt(1-z**2)\n",
    "    WN = W * np.sqrt(1-Z**2)\n",
    "    try:\n",
    "        res = np.exp(-Z*W*T) * (X0*np.cos(WN*T) + ((V0 + Z *WN *X0)/WN)*np.sin(WN *T))\n",
    "    except RuntimeWarning as e:\n",
    "        print(WN)\n",
    "    finally:\n",
    "        return res \n",
    "\n",
    "x = list()\n",
    "\n",
    "for case in inputData:\n",
    "    x.append(finalsolution(case[0],case[1],case[2],case[3],t))\n",
    "Data = np.array(x)\n",
    "Data = np.swapaxes(Data,0,1)"
   ]
  },
  {
   "cell_type": "code",
   "execution_count": 7,
   "metadata": {},
   "outputs": [
    {
     "data": {
      "image/png": "[encoded data removed]",
      "text/plain": [
       "<Figure size 432x288 with 1 Axes>"
      ]
     },
     "metadata": {
      "needs_background": "light"
     },
     "output_type": "display_data"
    }
   ],
   "source": [
    "plt.plot(t,Data[:,32])\n",
    "plt.grid()"
   ]
  },
  {
   "cell_type": "code",
   "execution_count": 8,
   "metadata": {},
   "outputs": [
    {
     "name": "stdout",
     "output_type": "stream",
     "text": [
      "(100, 1000) (1000, 1000)\n"
     ]
    }
   ],
   "source": [
    "zeroline = np.zeros((np.shape(x)[1],len(t)))\n",
    "print(np.shape(x),np.shape(zeroline))\n",
    "#pltfigure(zeroline,x,t,\"Dataset\",\"Zeroline\",'dataset2.gif')"
   ]
  },
  {
   "cell_type": "markdown",
   "metadata": {},
   "source": [
    "# Split The Data"
   ]
  },
  {
   "cell_type": "markdown",
   "metadata": {},
   "source": [
    "You'll use a (70%, 20%, 10%) split for the training, validation, and test sets. Note the data is not being randomly shuffled before splitting. This is for two reasons:\n",
    "\n",
    "    It ensures that chopping the data into windows of consecutive samples is still possible.\n",
    "    It ensures that the validation/test results are more realistic, being evaluated on the data collected after the model was trained.\n"
   ]
  },
  {
   "cell_type": "code",
   "execution_count": 9,
   "metadata": {},
   "outputs": [],
   "source": [
    "n = Data.shape[1]\n",
    "train_df = Data[:, 0:int(n*0.7):]\n",
    "val_df = Data[:,int(n*0.7):int(n*0.9):]\n",
    "test_df = Data[:,int(n*0.9):]\n",
    "\n",
    "num_features = Data.shape[1]\n"
   ]
  },
  {
   "cell_type": "markdown",
   "metadata": {},
   "source": [
    "# Normalize Data"
   ]
  },
  {
   "cell_type": "code",
   "execution_count": 10,
   "metadata": {},
   "outputs": [],
   "source": [
    "train_mean = train_df.mean()\n",
    "train_std = train_df.std()\n",
    "\n",
    "train_df = (train_df - train_mean) / train_std\n",
    "val_df = (val_df - train_mean) / train_std\n",
    "test_df = (test_df - train_mean) / train_std"
   ]
  },
  {
   "cell_type": "code",
   "execution_count": 11,
   "metadata": {},
   "outputs": [
    {
     "data": {
      "text/plain": [
       "[<matplotlib.lines.Line2D at 0x7f82dc0960f0>]"
      ]
     },
     "execution_count": 11,
     "metadata": {},
     "output_type": "execute_result"
    },
    {
     "data": {
      "image/png": "[encoded data removed]",
      "text/plain": [
       "<Figure size 432x288 with 1 Axes>"
      ]
     },
     "metadata": {
      "needs_background": "light"
     },
     "output_type": "display_data"
    }
   ],
   "source": [
    "example_ind = 32\n",
    "plt.plot(t,train_df[:,example_ind])\n"
   ]
  },
  {
   "cell_type": "markdown",
   "metadata": {},
   "source": [
    "# Data Windowing"
   ]
  },
  {
   "cell_type": "code",
   "execution_count": 12,
   "metadata": {},
   "outputs": [],
   "source": [
    "class WindowGenerator():\n",
    "  def __init__(self, input_width, label_width, shift,\n",
    "               train_df=train_df, val_df=val_df, test_df=test_df):\n",
    "    # Store the raw data.\n",
    "    self.train_df = train_df\n",
    "    self.val_df = val_df\n",
    "    self.test_df = test_df\n",
    "\n",
    "\n",
    "    # Work out the window parameters.\n",
    "    self.input_width = input_width\n",
    "    self.label_width = label_width\n",
    "    self.shift = shift\n",
    "\n",
    "    self.total_window_size = input_width + shift\n",
    "\n",
    "    self.input_slice = slice(0, input_width)\n",
    "    self.input_indices = np.arange(self.total_window_size)[self.input_slice]\n",
    "\n",
    "    self.label_start = self.total_window_size - self.label_width\n",
    "    self.labels_slice = slice(self.label_start, None)\n",
    "    self.label_indices = np.arange(self.total_window_size)[self.labels_slice]\n",
    "\n",
    "  def __repr__(self):\n",
    "    return '\\n'.join([\n",
    "        f'Total window size: {self.total_window_size}',\n",
    "        f'Input indices: {self.input_indices}',\n",
    "        f'Label indices: {self.label_indices}'])\n",
    "\n",
    "  def split_window(self, data):\n",
    "    inputs = tf.stack(\n",
    "      [data[:,self.input_slice,i] for i in range(0,data.shape[2]) ] , axis=0\n",
    "    )\n",
    "    labels = tf.stack(\n",
    "      [data[:,self.labels_slice,i] for i in range(0,data.shape[2]) ] , axis=0\n",
    "    )\n",
    "\n",
    "    shape = [tf.shape(inputs)[k] for k in range(3)]\n",
    "    inputs = tf.reshape(inputs, [shape[0]*shape[1], shape[2], 1])\n",
    "    shape = [tf.shape(labels)[k] for k in range(3)]\n",
    "    labels = tf.reshape(labels, [shape[0]*shape[1], shape[2], 1])\n",
    "\n",
    "    # Slicing doesn't preserve static shape information, so set the shapes\n",
    "    # manually. This way the `tf.data.Datasets` are easier to inspect.\n",
    "    inputs.set_shape([None, self.input_width,1])\n",
    "    labels.set_shape([None, self.label_width,1])\n",
    "\n",
    "    return inputs, labels\n",
    "\n",
    "  def plot(self, model=None, plot_col='x', max_subplots=3):\n",
    "    inputs, labels = self.example\n",
    "    plt.figure(figsize=(12, 8))\n",
    "    max_n = min(max_subplots, len(inputs))\n",
    "    for n in range(max_n):\n",
    "      plt.subplot(max_n, 1, n+1)\n",
    "      plt.ylabel(f'{plot_col} [normed]')\n",
    "      plt.plot(self.input_indices, inputs[n,:,:],\n",
    "                label='Inputs', marker='.', zorder=-10)\n",
    "      plt.scatter(self.label_indices, labels[n,:,:],\n",
    "                  edgecolors='k', label='Labels', c='#2ca02c', s=64)\n",
    "\n",
    "      if model is not None:\n",
    "        predictions = model(inputs)\n",
    "        plt.scatter(self.label_indices, predictions[n,:],\n",
    "                    marker='X', edgecolors='k', label='Predictions',\n",
    "                    c='#ff7f0e', s=64)\n",
    "\n",
    "      if n == 0:\n",
    "        plt.legend()\n",
    "\n",
    "    plt.xlabel('Timesteps')\n",
    "\n",
    "  def make_dataset(self, data,batch_size):\n",
    "    data = np.array(data, dtype=np.float32)\n",
    "\n",
    "    ds = tf.keras.preprocessing.timeseries_dataset_from_array(\n",
    "        data= data,\n",
    "        targets=None,\n",
    "        sequence_length=self.total_window_size,\n",
    "        sequence_stride=1,\n",
    "        shuffle=True,\n",
    "        batch_size=batch_size)\n",
    "    ds = ds.map(self.split_window)\n",
    "    return ds\n",
    "\n",
    "  @property\n",
    "  def train(self,batch_size=10):\n",
    "    return self.make_dataset(self.train_df,batch_size)\n",
    "\n",
    "  @property\n",
    "  def val(self,batch_size=10):\n",
    "    return self.make_dataset(self.val_df,batch_size)\n",
    "\n",
    "  @property\n",
    "  def test(self,batch_size=10):\n",
    "    return self.make_dataset(self.test_df,batch_size)\n",
    "\n",
    "  @property\n",
    "  def example(self):\n",
    "    \"\"\"Get and cache an example batch of `inputs, labels` for plotting.\"\"\"\n",
    "    result = getattr(self, '_example', None)\n",
    "    if result is None:\n",
    "      # No example batch was found, so get one from the `.train` dataset\n",
    "      result = next(iter(self.train))\n",
    "      # And cache it for next time\n",
    "      self._example = result\n",
    "    return result\n",
    "\n"
   ]
  },
  {
   "cell_type": "markdown",
   "metadata": {},
   "source": [
    "### Example of window"
   ]
  },
  {
   "cell_type": "code",
   "execution_count": 13,
   "metadata": {},
   "outputs": [],
   "source": [
    "w1 = WindowGenerator(input_width=30, label_width=1, shift=1)\n",
    "# w1.plot(lstm_model)"
   ]
  },
  {
   "cell_type": "markdown",
   "metadata": {},
   "source": [
    "### Example of slicing"
   ]
  },
  {
   "cell_type": "code",
   "execution_count": 14,
   "metadata": {},
   "outputs": [
    {
     "name": "stdout",
     "output_type": "stream",
     "text": [
      "Shapes are: (batch, time, features)\n",
      "Data shape: (3, 31, 70)\n",
      "Inputs shape: (210, 30, 1)\n",
      "Labels shape: (210, 1, 1)\n"
     ]
    }
   ],
   "source": [
    "# Stack three slices, the length of the total window.\n",
    "example_window = tf.stack([np.array(train_df[:w1.total_window_size,:]),\n",
    "                           np.array(train_df[100:100+w1.total_window_size,:]),\n",
    "                           np.array(train_df[200:200+w1.total_window_size,:])])\n",
    "example_inputs, example_labels = w1.split_window(example_window)\n",
    "\n",
    "print('Shapes are: (batch, time, features)')\n",
    "print(f'Data shape: {example_window.shape}')\n",
    "print(f'Inputs shape: {example_inputs.shape}')\n",
    "print(f'Labels shape: {example_labels.shape}')"
   ]
  },
  {
   "cell_type": "markdown",
   "metadata": {},
   "source": [
    "### Create tf.data.Datasets"
   ]
  },
  {
   "cell_type": "code",
   "execution_count": 15,
   "metadata": {},
   "outputs": [
    {
     "data": {
      "text/plain": [
       "(TensorSpec(shape=(None, 30, 1), dtype=tf.float32, name=None),\n",
       " TensorSpec(shape=(None, 1, 1), dtype=tf.float32, name=None))"
      ]
     },
     "execution_count": 15,
     "metadata": {},
     "output_type": "execute_result"
    }
   ],
   "source": [
    "w1.train.element_spec"
   ]
  },
  {
   "cell_type": "markdown",
   "metadata": {},
   "source": [
    "### Plot/Example"
   ]
  },
  {
   "cell_type": "code",
   "execution_count": 16,
   "metadata": {},
   "outputs": [
    {
     "name": "stdout",
     "output_type": "stream",
     "text": [
      "Inputs shape (batch, timesteps,features): (700, 30, 1)\n",
      "Labels shape (batch, timesteps,features): (700, 1, 1)\n"
     ]
    }
   ],
   "source": [
    "example_inputs, example_labels = w1.example\n",
    "print(f'Inputs shape (batch, timesteps,features): {example_inputs.shape}')\n",
    "print(f'Labels shape (batch, timesteps,features): {example_labels.shape}')\n"
   ]
  },
  {
   "cell_type": "code",
   "execution_count": 17,
   "metadata": {},
   "outputs": [
    {
     "data": {
      "image/png": "[encoded data removed]",
      "text/plain": [
       "<Figure size 864x576 with 3 Axes>"
      ]
     },
     "metadata": {
      "needs_background": "light"
     },
     "output_type": "display_data"
    }
   ],
   "source": [
    "w1.plot()"
   ]
  },
  {
   "cell_type": "markdown",
   "metadata": {},
   "source": [
    "# LSTM MODEL 1 TimeStep Train"
   ]
  },
  {
   "cell_type": "code",
   "execution_count": 18,
   "metadata": {},
   "outputs": [],
   "source": [
    "def compile_and_fit(model,name, window, patience=30,MAX_EPOCHS = 500):\n",
    "\n",
    "  now = datetime.now()\n",
    "  dt_string = now.strftime(\"%d-%m-%Y-%H:%M\")\n",
    "\n",
    "  NAME = name +\"@\"+str(MAX_EPOCHS)+\"@\"+dt_string\n",
    "  filename = os.path.join(\"Models\",  NAME +'.h5')\n",
    "  tensorboard = TensorBoard(log_dir=\"logs/{}\".format(NAME))\n",
    "\n",
    "  checkpoint = ModelCheckpoint(filename, monitor='val_loss', verbose=0, save_best_only=True,mode = 'min')\n",
    "\n",
    "  early_stopping = tf.keras.callbacks.EarlyStopping(monitor='val_loss',\n",
    "                                                    patience=patience,\n",
    "                                                    mode='min')\n",
    "\n",
    "  model.compile(loss=tf.losses.MeanSquaredError(),\n",
    "                optimizer=tf.optimizers.Adam(),\n",
    "                metrics=[tf.metrics.MeanAbsoluteError()])\n",
    "\n",
    "  history = model.fit(window.train, epochs=MAX_EPOCHS,\n",
    "                      validation_data=window.val,\n",
    "                      batch_size=16,\n",
    "                      callbacks=[early_stopping,tensorboard,checkpoint])\n",
    "  return history\n",
    "\n",
    "val_performance = {}\n",
    "performance = {}"
   ]
  },
  {
   "cell_type": "code",
   "execution_count": 24,
   "metadata": {},
   "outputs": [],
   "source": [
    "lstm_model = tf.keras.models.Sequential([\n",
    "    # Shape [batch, time] => [batch, time, lstm_units]\n",
    "    LSTM(256, activation='tanh', return_sequences=True,name = \"LSTM1\"),\n",
    "    LeakyReLU(alpha=0.4,name = \"LR1\"),\n",
    "    LSTM(256, activation='tanh', return_sequences=True,name = \"LSTM2\"),\n",
    "    LeakyReLU(alpha=0.4,name = \"LR2\"),\n",
    "    Flatten(name = \"Flat\"),\n",
    "    Dense(256,activation=None, use_bias=True,name=\"Dense1\"),\n",
    "    LeakyReLU(alpha=0.4,name = \"LR3\"),\n",
    "    Dense(units=1,name=\"Output\")\n",
    "])"
   ]
  },
  {
   "cell_type": "code",
   "execution_count": 25,
   "metadata": {},
   "outputs": [
    {
     "name": "stdout",
     "output_type": "stream",
     "text": [
      "Input shape: (700, 30, 1)\n",
      "Output shape: (700, 1)\n"
     ]
    }
   ],
   "source": [
    "wide_window = WindowGenerator(\n",
    "    input_width=30, label_width=1, shift=1)\n",
    "\n",
    "print('Input shape:', wide_window.example[0].shape)\n",
    "print('Output shape:', lstm_model(wide_window.example[0]).shape)"
   ]
  },
  {
   "cell_type": "code",
   "execution_count": 26,
   "metadata": {},
   "outputs": [
    {
     "name": "stdout",
     "output_type": "stream",
     "text": [
      "Epoch 1/500\n",
      "97/97 [==============================] - 8s 51ms/step - loss: 0.0465 - mean_absolute_error: 0.0923 - val_loss: 0.0336 - val_mean_absolute_error: 0.0774\n",
      "Epoch 2/500\n",
      "97/97 [==============================] - 4s 40ms/step - loss: 0.0024 - mean_absolute_error: 0.0250 - val_loss: 0.0045 - val_mean_absolute_error: 0.0236\n",
      "Epoch 3/500\n",
      "97/97 [==============================] - 4s 40ms/step - loss: 5.4987e-04 - mean_absolute_error: 0.0132 - val_loss: 0.0031 - val_mean_absolute_error: 0.0193\n",
      "Epoch 4/500\n",
      "97/97 [==============================] - 4s 40ms/step - loss: 4.8593e-04 - mean_absolute_error: 0.0127 - val_loss: 0.0028 - val_mean_absolute_error: 0.0233\n",
      "Epoch 5/500\n",
      "97/97 [==============================] - 4s 40ms/step - loss: 7.5816e-04 - mean_absolute_error: 0.0169 - val_loss: 0.0024 - val_mean_absolute_error: 0.0210\n",
      "Epoch 6/500\n",
      "97/97 [==============================] - 4s 40ms/step - loss: 2.2015e-04 - mean_absolute_error: 0.0083 - val_loss: 0.0035 - val_mean_absolute_error: 0.0202\n",
      "Epoch 7/500\n",
      "97/97 [==============================] - 4s 40ms/step - loss: 2.3187e-04 - mean_absolute_error: 0.0085 - val_loss: 0.0022 - val_mean_absolute_error: 0.0196\n",
      "Epoch 8/500\n",
      "97/97 [==============================] - 4s 39ms/step - loss: 4.1833e-04 - mean_absolute_error: 0.0125 - val_loss: 0.0018 - val_mean_absolute_error: 0.0177\n",
      "Epoch 9/500\n",
      "97/97 [==============================] - 4s 40ms/step - loss: 2.4297e-04 - mean_absolute_error: 0.0095 - val_loss: 0.0016 - val_mean_absolute_error: 0.0197\n",
      "Epoch 10/500\n",
      "97/97 [==============================] - 4s 40ms/step - loss: 2.5979e-04 - mean_absolute_error: 0.0097 - val_loss: 0.0019 - val_mean_absolute_error: 0.0151\n",
      "Epoch 11/500\n",
      "97/97 [==============================] - 4s 40ms/step - loss: 1.0047e-04 - mean_absolute_error: 0.0059 - val_loss: 0.0013 - val_mean_absolute_error: 0.0123\n",
      "Epoch 12/500\n",
      "97/97 [==============================] - 4s 40ms/step - loss: 0.0021 - mean_absolute_error: 0.0226 - val_loss: 0.0026 - val_mean_absolute_error: 0.0198\n",
      "Epoch 13/500\n",
      "97/97 [==============================] - 4s 40ms/step - loss: 1.7469e-04 - mean_absolute_error: 0.0075 - val_loss: 0.0020 - val_mean_absolute_error: 0.0159\n",
      "Epoch 14/500\n",
      "97/97 [==============================] - 4s 40ms/step - loss: 1.0180e-04 - mean_absolute_error: 0.0057 - val_loss: 0.0014 - val_mean_absolute_error: 0.0140\n",
      "Epoch 15/500\n",
      "97/97 [==============================] - 4s 40ms/step - loss: 5.6896e-05 - mean_absolute_error: 0.0040 - val_loss: 0.0012 - val_mean_absolute_error: 0.0123\n",
      "Epoch 16/500\n",
      "97/97 [==============================] - 4s 40ms/step - loss: 1.8879e-04 - mean_absolute_error: 0.0079 - val_loss: 0.0013 - val_mean_absolute_error: 0.0159\n",
      "Epoch 17/500\n",
      "97/97 [==============================] - 4s 40ms/step - loss: 7.2775e-05 - mean_absolute_error: 0.0048 - val_loss: 0.0012 - val_mean_absolute_error: 0.0130\n",
      "Epoch 18/500\n",
      "97/97 [==============================] - 4s 40ms/step - loss: 8.1749e-04 - mean_absolute_error: 0.0157 - val_loss: 0.0014 - val_mean_absolute_error: 0.0122\n",
      "Epoch 19/500\n",
      "97/97 [==============================] - 4s 40ms/step - loss: 4.7651e-05 - mean_absolute_error: 0.0039 - val_loss: 9.0610e-04 - val_mean_absolute_error: 0.0106\n",
      "Epoch 20/500\n",
      "97/97 [==============================] - 4s 40ms/step - loss: 6.3945e-05 - mean_absolute_error: 0.0049 - val_loss: 9.4190e-04 - val_mean_absolute_error: 0.0141\n",
      "Epoch 21/500\n",
      "97/97 [==============================] - 4s 40ms/step - loss: 4.0264e-05 - mean_absolute_error: 0.0037 - val_loss: 8.1694e-04 - val_mean_absolute_error: 0.0116\n",
      "Epoch 22/500\n",
      "97/97 [==============================] - 4s 40ms/step - loss: 3.6315e-05 - mean_absolute_error: 0.0035 - val_loss: 5.8731e-04 - val_mean_absolute_error: 0.0083\n",
      "Epoch 23/500\n",
      "97/97 [==============================] - 4s 40ms/step - loss: 2.4561e-04 - mean_absolute_error: 0.0089 - val_loss: 8.5380e-04 - val_mean_absolute_error: 0.0097\n",
      "Epoch 24/500\n",
      "97/97 [==============================] - 4s 40ms/step - loss: 1.3361e-04 - mean_absolute_error: 0.0071 - val_loss: 6.9005e-04 - val_mean_absolute_error: 0.0143\n",
      "Epoch 25/500\n",
      "97/97 [==============================] - 4s 41ms/step - loss: 4.2192e-05 - mean_absolute_error: 0.0038 - val_loss: 6.2308e-04 - val_mean_absolute_error: 0.0108\n",
      "Epoch 26/500\n",
      "97/97 [==============================] - 4s 40ms/step - loss: 6.5496e-04 - mean_absolute_error: 0.0153 - val_loss: 7.8012e-04 - val_mean_absolute_error: 0.0111\n",
      "Epoch 27/500\n",
      "97/97 [==============================] - 4s 40ms/step - loss: 4.6808e-04 - mean_absolute_error: 0.0130 - val_loss: 7.2998e-04 - val_mean_absolute_error: 0.0136\n",
      "Epoch 28/500\n",
      "97/97 [==============================] - 4s 40ms/step - loss: 3.2792e-05 - mean_absolute_error: 0.0032 - val_loss: 6.9442e-04 - val_mean_absolute_error: 0.0101\n",
      "Epoch 29/500\n",
      "97/97 [==============================] - 4s 40ms/step - loss: 5.6753e-05 - mean_absolute_error: 0.0045 - val_loss: 4.3219e-04 - val_mean_absolute_error: 0.0067\n",
      "Epoch 30/500\n",
      "97/97 [==============================] - 4s 40ms/step - loss: 9.9397e-05 - mean_absolute_error: 0.0061 - val_loss: 3.4065e-04 - val_mean_absolute_error: 0.0061\n",
      "Epoch 31/500\n",
      "97/97 [==============================] - 4s 40ms/step - loss: 3.2948e-05 - mean_absolute_error: 0.0033 - val_loss: 3.6350e-04 - val_mean_absolute_error: 0.0073\n",
      "Epoch 32/500\n",
      "97/97 [==============================] - 4s 40ms/step - loss: 2.2602e-04 - mean_absolute_error: 0.0099 - val_loss: 4.7715e-04 - val_mean_absolute_error: 0.0103\n",
      "Epoch 33/500\n",
      "97/97 [==============================] - 4s 40ms/step - loss: 6.1505e-05 - mean_absolute_error: 0.0045 - val_loss: 3.9898e-04 - val_mean_absolute_error: 0.0100\n",
      "Epoch 34/500\n",
      "97/97 [==============================] - 4s 40ms/step - loss: 0.0114 - mean_absolute_error: 0.0570 - val_loss: 0.0041 - val_mean_absolute_error: 0.0366\n",
      "Epoch 35/500\n",
      "97/97 [==============================] - 4s 40ms/step - loss: 8.0916e-04 - mean_absolute_error: 0.0160 - val_loss: 0.0016 - val_mean_absolute_error: 0.0178\n",
      "Epoch 36/500\n",
      "97/97 [==============================] - 4s 40ms/step - loss: 8.2993e-05 - mean_absolute_error: 0.0050 - val_loss: 0.0013 - val_mean_absolute_error: 0.0134\n",
      "Epoch 37/500\n",
      "97/97 [==============================] - 4s 40ms/step - loss: 6.5828e-05 - mean_absolute_error: 0.0046 - val_loss: 0.0011 - val_mean_absolute_error: 0.0124\n",
      "Epoch 38/500\n",
      "97/97 [==============================] - 4s 40ms/step - loss: 6.0961e-05 - mean_absolute_error: 0.0046 - val_loss: 0.0011 - val_mean_absolute_error: 0.0142\n",
      "Epoch 39/500\n",
      "97/97 [==============================] - 4s 40ms/step - loss: 5.0099e-05 - mean_absolute_error: 0.0039 - val_loss: 0.0011 - val_mean_absolute_error: 0.0125\n",
      "Epoch 40/500\n",
      "97/97 [==============================] - 4s 40ms/step - loss: 6.3218e-05 - mean_absolute_error: 0.0051 - val_loss: 0.0012 - val_mean_absolute_error: 0.0155\n",
      "Epoch 41/500\n",
      "97/97 [==============================] - 4s 40ms/step - loss: 4.3260e-05 - mean_absolute_error: 0.0038 - val_loss: 9.0364e-04 - val_mean_absolute_error: 0.0132\n",
      "Epoch 42/500\n",
      "97/97 [==============================] - 4s 40ms/step - loss: 4.5575e-05 - mean_absolute_error: 0.0040 - val_loss: 7.2755e-04 - val_mean_absolute_error: 0.0099\n",
      "Epoch 43/500\n",
      "97/97 [==============================] - 4s 40ms/step - loss: 3.7886e-05 - mean_absolute_error: 0.0037 - val_loss: 6.9380e-04 - val_mean_absolute_error: 0.0120\n",
      "Epoch 44/500\n",
      "97/97 [==============================] - 4s 40ms/step - loss: 7.2274e-05 - mean_absolute_error: 0.0054 - val_loss: 6.8745e-04 - val_mean_absolute_error: 0.0095\n",
      "Epoch 45/500\n",
      "97/97 [==============================] - 4s 40ms/step - loss: 3.6239e-05 - mean_absolute_error: 0.0036 - val_loss: 6.1685e-04 - val_mean_absolute_error: 0.0104\n",
      "Epoch 46/500\n",
      "97/97 [==============================] - 4s 40ms/step - loss: 4.9387e-05 - mean_absolute_error: 0.0047 - val_loss: 5.8331e-04 - val_mean_absolute_error: 0.0127\n",
      "Epoch 47/500\n",
      "97/97 [==============================] - 4s 40ms/step - loss: 4.1282e-05 - mean_absolute_error: 0.0040 - val_loss: 5.2890e-04 - val_mean_absolute_error: 0.0133\n",
      "Epoch 48/500\n",
      "97/97 [==============================] - 4s 40ms/step - loss: 6.4376e-05 - mean_absolute_error: 0.0052 - val_loss: 5.0902e-04 - val_mean_absolute_error: 0.0161\n",
      "Epoch 49/500\n",
      "97/97 [==============================] - 4s 40ms/step - loss: 6.0949e-05 - mean_absolute_error: 0.0051 - val_loss: 4.1718e-04 - val_mean_absolute_error: 0.0067\n",
      "Epoch 50/500\n",
      "97/97 [==============================] - 4s 40ms/step - loss: 4.4760e-05 - mean_absolute_error: 0.0045 - val_loss: 5.4915e-04 - val_mean_absolute_error: 0.0089\n",
      "Epoch 51/500\n",
      "97/97 [==============================] - 4s 40ms/step - loss: 3.6503e-05 - mean_absolute_error: 0.0039 - val_loss: 5.2930e-04 - val_mean_absolute_error: 0.0110\n",
      "Epoch 52/500\n",
      "97/97 [==============================] - 4s 40ms/step - loss: 8.3482e-05 - mean_absolute_error: 0.0062 - val_loss: 5.0877e-04 - val_mean_absolute_error: 0.0117\n",
      "Epoch 53/500\n",
      "97/97 [==============================] - 4s 40ms/step - loss: 1.8074e-04 - mean_absolute_error: 0.0077 - val_loss: 7.1437e-04 - val_mean_absolute_error: 0.0178\n",
      "Epoch 54/500\n",
      "97/97 [==============================] - 4s 40ms/step - loss: 1.0592e-04 - mean_absolute_error: 0.0057 - val_loss: 4.4281e-04 - val_mean_absolute_error: 0.0073\n",
      "Epoch 55/500\n",
      "97/97 [==============================] - 4s 40ms/step - loss: 4.3204e-05 - mean_absolute_error: 0.0044 - val_loss: 4.9238e-04 - val_mean_absolute_error: 0.0131\n",
      "Epoch 56/500\n",
      "97/97 [==============================] - 4s 40ms/step - loss: 5.1862e-05 - mean_absolute_error: 0.0045 - val_loss: 3.9607e-04 - val_mean_absolute_error: 0.0065\n",
      "Epoch 57/500\n",
      "97/97 [==============================] - 4s 40ms/step - loss: 1.2262e-04 - mean_absolute_error: 0.0073 - val_loss: 2.6265e-04 - val_mean_absolute_error: 0.0090\n",
      "Epoch 58/500\n",
      "97/97 [==============================] - 4s 40ms/step - loss: 4.8686e-05 - mean_absolute_error: 0.0041 - val_loss: 2.7721e-04 - val_mean_absolute_error: 0.0065\n",
      "Epoch 59/500\n",
      "97/97 [==============================] - 4s 40ms/step - loss: 2.3866e-05 - mean_absolute_error: 0.0031 - val_loss: 2.7084e-04 - val_mean_absolute_error: 0.0079\n",
      "Epoch 60/500\n",
      "97/97 [==============================] - 4s 40ms/step - loss: 1.0100e-04 - mean_absolute_error: 0.0067 - val_loss: 2.8333e-04 - val_mean_absolute_error: 0.0099\n",
      "Epoch 61/500\n",
      "97/97 [==============================] - 4s 40ms/step - loss: 3.3977e-05 - mean_absolute_error: 0.0036 - val_loss: 1.9669e-04 - val_mean_absolute_error: 0.0053\n",
      "Epoch 62/500\n",
      "97/97 [==============================] - 4s 40ms/step - loss: 2.8151e-04 - mean_absolute_error: 0.0107 - val_loss: 4.2900e-04 - val_mean_absolute_error: 0.0146\n",
      "Epoch 63/500\n",
      "97/97 [==============================] - 4s 40ms/step - loss: 2.0206e-04 - mean_absolute_error: 0.0073 - val_loss: 3.7562e-04 - val_mean_absolute_error: 0.0072\n",
      "Epoch 64/500\n",
      "97/97 [==============================] - 4s 40ms/step - loss: 1.4139e-05 - mean_absolute_error: 0.0021 - val_loss: 1.4779e-04 - val_mean_absolute_error: 0.0042\n",
      "Epoch 65/500\n",
      "97/97 [==============================] - 4s 40ms/step - loss: 7.6165e-05 - mean_absolute_error: 0.0058 - val_loss: 2.7205e-04 - val_mean_absolute_error: 0.0126\n",
      "Epoch 66/500\n",
      "97/97 [==============================] - 4s 40ms/step - loss: 2.4481e-04 - mean_absolute_error: 0.0105 - val_loss: 2.3340e-04 - val_mean_absolute_error: 0.0130\n",
      "Epoch 67/500\n",
      "97/97 [==============================] - 4s 40ms/step - loss: 7.2478e-05 - mean_absolute_error: 0.0055 - val_loss: 2.7949e-04 - val_mean_absolute_error: 0.0082\n",
      "Epoch 68/500\n",
      "97/97 [==============================] - 4s 40ms/step - loss: 1.8727e-05 - mean_absolute_error: 0.0027 - val_loss: 2.0953e-04 - val_mean_absolute_error: 0.0047\n",
      "Epoch 69/500\n",
      "97/97 [==============================] - 4s 40ms/step - loss: 1.6342e-04 - mean_absolute_error: 0.0059 - val_loss: 2.8659e-04 - val_mean_absolute_error: 0.0068\n",
      "Epoch 70/500\n",
      "97/97 [==============================] - 4s 40ms/step - loss: 7.4469e-05 - mean_absolute_error: 0.0050 - val_loss: 2.5804e-04 - val_mean_absolute_error: 0.0052\n",
      "Epoch 71/500\n",
      "97/97 [==============================] - 4s 40ms/step - loss: 1.7987e-04 - mean_absolute_error: 0.0079 - val_loss: 1.7052e-04 - val_mean_absolute_error: 0.0041\n",
      "Epoch 72/500\n",
      "97/97 [==============================] - 4s 40ms/step - loss: 2.3201e-05 - mean_absolute_error: 0.0029 - val_loss: 1.7107e-04 - val_mean_absolute_error: 0.0041\n",
      "Epoch 73/500\n",
      "97/97 [==============================] - 4s 40ms/step - loss: 9.9662e-05 - mean_absolute_error: 0.0055 - val_loss: 2.7471e-04 - val_mean_absolute_error: 0.0059\n",
      "Epoch 74/500\n",
      "97/97 [==============================] - 4s 40ms/step - loss: 3.0141e-04 - mean_absolute_error: 0.0105 - val_loss: 1.6901e-04 - val_mean_absolute_error: 0.0056\n",
      "Epoch 75/500\n",
      "97/97 [==============================] - 4s 40ms/step - loss: 2.7756e-05 - mean_absolute_error: 0.0034 - val_loss: 1.4289e-04 - val_mean_absolute_error: 0.0048\n",
      "Epoch 76/500\n",
      "97/97 [==============================] - 4s 40ms/step - loss: 1.3403e-04 - mean_absolute_error: 0.0072 - val_loss: 1.8685e-04 - val_mean_absolute_error: 0.0077\n",
      "Epoch 77/500\n",
      "97/97 [==============================] - 4s 40ms/step - loss: 8.9231e-05 - mean_absolute_error: 0.0054 - val_loss: 1.2388e-04 - val_mean_absolute_error: 0.0059\n",
      "Epoch 78/500\n",
      "97/97 [==============================] - 4s 40ms/step - loss: 2.1524e-05 - mean_absolute_error: 0.0028 - val_loss: 1.7054e-04 - val_mean_absolute_error: 0.0047\n",
      "Epoch 79/500\n",
      "97/97 [==============================] - 4s 40ms/step - loss: 2.3391e-05 - mean_absolute_error: 0.0031 - val_loss: 3.1079e-04 - val_mean_absolute_error: 0.0139\n",
      "Epoch 80/500\n",
      "97/97 [==============================] - 4s 40ms/step - loss: 7.5391e-05 - mean_absolute_error: 0.0055 - val_loss: 1.5070e-04 - val_mean_absolute_error: 0.0064\n",
      "Epoch 81/500\n",
      "97/97 [==============================] - 4s 40ms/step - loss: 1.7352e-04 - mean_absolute_error: 0.0076 - val_loss: 7.8287e-04 - val_mean_absolute_error: 0.0118\n",
      "Epoch 82/500\n",
      "97/97 [==============================] - 4s 40ms/step - loss: 0.0234 - mean_absolute_error: 0.0740 - val_loss: 0.0091 - val_mean_absolute_error: 0.0533\n",
      "Epoch 83/500\n",
      "97/97 [==============================] - 4s 40ms/step - loss: 3.4217e-04 - mean_absolute_error: 0.0092 - val_loss: 0.0013 - val_mean_absolute_error: 0.0119\n",
      "Epoch 84/500\n",
      "97/97 [==============================] - 4s 40ms/step - loss: 6.7089e-05 - mean_absolute_error: 0.0040 - val_loss: 0.0013 - val_mean_absolute_error: 0.0125\n",
      "Epoch 85/500\n",
      "97/97 [==============================] - 4s 40ms/step - loss: 6.2071e-05 - mean_absolute_error: 0.0040 - val_loss: 0.0012 - val_mean_absolute_error: 0.0132\n",
      "Epoch 86/500\n",
      "97/97 [==============================] - 4s 40ms/step - loss: 5.5119e-05 - mean_absolute_error: 0.0039 - val_loss: 9.3626e-04 - val_mean_absolute_error: 0.0124\n",
      "Epoch 87/500\n",
      "97/97 [==============================] - 4s 40ms/step - loss: 4.3817e-05 - mean_absolute_error: 0.0034 - val_loss: 9.6426e-04 - val_mean_absolute_error: 0.0112\n",
      "Epoch 88/500\n",
      "97/97 [==============================] - 4s 40ms/step - loss: 4.5676e-05 - mean_absolute_error: 0.0038 - val_loss: 8.3898e-04 - val_mean_absolute_error: 0.0098\n",
      "Epoch 89/500\n",
      "97/97 [==============================] - 4s 40ms/step - loss: 3.7429e-05 - mean_absolute_error: 0.0033 - val_loss: 8.9150e-04 - val_mean_absolute_error: 0.0124\n",
      "Epoch 90/500\n",
      "97/97 [==============================] - 4s 40ms/step - loss: 3.7498e-05 - mean_absolute_error: 0.0035 - val_loss: 8.0739e-04 - val_mean_absolute_error: 0.0096\n",
      "Epoch 91/500\n",
      "97/97 [==============================] - 4s 40ms/step - loss: 4.3570e-05 - mean_absolute_error: 0.0036 - val_loss: 8.3425e-04 - val_mean_absolute_error: 0.0101\n",
      "Epoch 92/500\n",
      "97/97 [==============================] - 4s 40ms/step - loss: 4.1355e-05 - mean_absolute_error: 0.0034 - val_loss: 8.7696e-04 - val_mean_absolute_error: 0.0117\n",
      "Epoch 93/500\n",
      "97/97 [==============================] - 4s 40ms/step - loss: 3.0501e-05 - mean_absolute_error: 0.0029 - val_loss: 6.6961e-04 - val_mean_absolute_error: 0.0092\n",
      "Epoch 94/500\n",
      "97/97 [==============================] - 4s 40ms/step - loss: 3.5046e-05 - mean_absolute_error: 0.0032 - val_loss: 6.3513e-04 - val_mean_absolute_error: 0.0107\n",
      "Epoch 95/500\n",
      "97/97 [==============================] - 4s 40ms/step - loss: 8.6605e-05 - mean_absolute_error: 0.0051 - val_loss: 6.5052e-04 - val_mean_absolute_error: 0.0101\n",
      "Epoch 96/500\n",
      "97/97 [==============================] - 4s 40ms/step - loss: 3.2545e-05 - mean_absolute_error: 0.0033 - val_loss: 6.4289e-04 - val_mean_absolute_error: 0.0103\n",
      "Epoch 97/500\n",
      "97/97 [==============================] - 4s 40ms/step - loss: 2.9784e-05 - mean_absolute_error: 0.0032 - val_loss: 6.2468e-04 - val_mean_absolute_error: 0.0094\n",
      "Epoch 98/500\n",
      "97/97 [==============================] - 4s 40ms/step - loss: 2.6509e-05 - mean_absolute_error: 0.0028 - val_loss: 6.0232e-04 - val_mean_absolute_error: 0.0091\n",
      "Epoch 99/500\n",
      "97/97 [==============================] - 4s 40ms/step - loss: 4.0556e-05 - mean_absolute_error: 0.0036 - val_loss: 5.7584e-04 - val_mean_absolute_error: 0.0084\n",
      "Epoch 100/500\n",
      "97/97 [==============================] - 4s 40ms/step - loss: 4.4640e-05 - mean_absolute_error: 0.0037 - val_loss: 5.5676e-04 - val_mean_absolute_error: 0.0081\n",
      "Epoch 101/500\n",
      "97/97 [==============================] - 4s 40ms/step - loss: 2.3401e-05 - mean_absolute_error: 0.0028 - val_loss: 4.4440e-04 - val_mean_absolute_error: 0.0088\n",
      "Epoch 102/500\n",
      "97/97 [==============================] - 4s 40ms/step - loss: 2.5316e-05 - mean_absolute_error: 0.0030 - val_loss: 5.5328e-04 - val_mean_absolute_error: 0.0102\n",
      "Epoch 103/500\n",
      "97/97 [==============================] - 4s 41ms/step - loss: 1.1297e-04 - mean_absolute_error: 0.0075 - val_loss: 4.4991e-04 - val_mean_absolute_error: 0.0090\n",
      "Epoch 104/500\n",
      "97/97 [==============================] - 4s 40ms/step - loss: 2.5412e-05 - mean_absolute_error: 0.0028 - val_loss: 4.7654e-04 - val_mean_absolute_error: 0.0093\n",
      "Epoch 105/500\n",
      "97/97 [==============================] - 4s 40ms/step - loss: 2.9106e-05 - mean_absolute_error: 0.0033 - val_loss: 4.3835e-04 - val_mean_absolute_error: 0.0074\n",
      "Epoch 106/500\n",
      "97/97 [==============================] - 4s 40ms/step - loss: 2.6714e-05 - mean_absolute_error: 0.0030 - val_loss: 3.9274e-04 - val_mean_absolute_error: 0.0064\n",
      "Epoch 107/500\n",
      "97/97 [==============================] - 4s 40ms/step - loss: 2.9691e-05 - mean_absolute_error: 0.0031 - val_loss: 2.8254e-04 - val_mean_absolute_error: 0.0075\n",
      "Epoch 108/500\n",
      "97/97 [==============================] - 4s 40ms/step - loss: 6.6915e-05 - mean_absolute_error: 0.0051 - val_loss: 4.3085e-04 - val_mean_absolute_error: 0.0103\n",
      "Epoch 109/500\n",
      "97/97 [==============================] - 4s 40ms/step - loss: 9.7312e-05 - mean_absolute_error: 0.0062 - val_loss: 3.3723e-04 - val_mean_absolute_error: 0.0065\n",
      "Epoch 110/500\n",
      "97/97 [==============================] - 4s 40ms/step - loss: 1.8749e-05 - mean_absolute_error: 0.0027 - val_loss: 3.7677e-04 - val_mean_absolute_error: 0.0066\n",
      "Epoch 111/500\n",
      "97/97 [==============================] - 4s 40ms/step - loss: 1.1466e-04 - mean_absolute_error: 0.0063 - val_loss: 3.0466e-04 - val_mean_absolute_error: 0.0082\n",
      "Epoch 112/500\n",
      "97/97 [==============================] - 4s 40ms/step - loss: 7.2103e-05 - mean_absolute_error: 0.0054 - val_loss: 4.6527e-04 - val_mean_absolute_error: 0.0117\n",
      "Epoch 113/500\n",
      "97/97 [==============================] - 4s 40ms/step - loss: 3.5147e-05 - mean_absolute_error: 0.0038 - val_loss: 2.5128e-04 - val_mean_absolute_error: 0.0052\n",
      "Epoch 114/500\n",
      "97/97 [==============================] - 4s 41ms/step - loss: 3.9599e-05 - mean_absolute_error: 0.0040 - val_loss: 3.8767e-04 - val_mean_absolute_error: 0.0100\n",
      "Epoch 115/500\n",
      "97/97 [==============================] - 4s 40ms/step - loss: 2.8378e-05 - mean_absolute_error: 0.0034 - val_loss: 3.1092e-04 - val_mean_absolute_error: 0.0070\n",
      "Epoch 116/500\n",
      "97/97 [==============================] - 4s 41ms/step - loss: 5.6194e-05 - mean_absolute_error: 0.0048 - val_loss: 3.7495e-04 - val_mean_absolute_error: 0.0081\n",
      "Epoch 117/500\n",
      "97/97 [==============================] - 4s 40ms/step - loss: 2.8955e-05 - mean_absolute_error: 0.0037 - val_loss: 2.1407e-04 - val_mean_absolute_error: 0.0049\n",
      "Epoch 118/500\n",
      "97/97 [==============================] - 4s 40ms/step - loss: 9.3448e-05 - mean_absolute_error: 0.0063 - val_loss: 5.1942e-04 - val_mean_absolute_error: 0.0132\n",
      "Epoch 119/500\n",
      "97/97 [==============================] - 4s 41ms/step - loss: 1.5582e-04 - mean_absolute_error: 0.0077 - val_loss: 4.4882e-04 - val_mean_absolute_error: 0.0069\n",
      "Epoch 120/500\n",
      "97/97 [==============================] - 4s 40ms/step - loss: 3.8893e-05 - mean_absolute_error: 0.0040 - val_loss: 2.1795e-04 - val_mean_absolute_error: 0.0047\n",
      "Epoch 121/500\n",
      "97/97 [==============================] - 4s 41ms/step - loss: 2.0311e-04 - mean_absolute_error: 0.0087 - val_loss: 2.9794e-04 - val_mean_absolute_error: 0.0073\n",
      "Epoch 122/500\n",
      "97/97 [==============================] - 4s 41ms/step - loss: 1.4229e-05 - mean_absolute_error: 0.0023 - val_loss: 2.3460e-04 - val_mean_absolute_error: 0.0053\n",
      "Epoch 123/500\n",
      "97/97 [==============================] - 4s 40ms/step - loss: 1.3054e-05 - mean_absolute_error: 0.0022 - val_loss: 2.7989e-04 - val_mean_absolute_error: 0.0051\n",
      "Epoch 124/500\n",
      "97/97 [==============================] - 4s 40ms/step - loss: 4.6547e-04 - mean_absolute_error: 0.0106 - val_loss: 0.0012 - val_mean_absolute_error: 0.0240\n",
      "Epoch 125/500\n",
      "97/97 [==============================] - 4s 40ms/step - loss: 2.0771e-04 - mean_absolute_error: 0.0081 - val_loss: 4.4466e-04 - val_mean_absolute_error: 0.0093\n",
      "Epoch 126/500\n",
      "97/97 [==============================] - 4s 40ms/step - loss: 1.5838e-05 - mean_absolute_error: 0.0024 - val_loss: 2.4978e-04 - val_mean_absolute_error: 0.0056\n",
      "Epoch 127/500\n",
      "97/97 [==============================] - 4s 40ms/step - loss: 2.0441e-05 - mean_absolute_error: 0.0027 - val_loss: 2.4135e-04 - val_mean_absolute_error: 0.0050\n",
      "Epoch 128/500\n",
      "97/97 [==============================] - 4s 41ms/step - loss: 1.0824e-05 - mean_absolute_error: 0.0019 - val_loss: 1.8031e-04 - val_mean_absolute_error: 0.0063\n",
      "Epoch 129/500\n",
      "97/97 [==============================] - 4s 40ms/step - loss: 3.9124e-05 - mean_absolute_error: 0.0039 - val_loss: 2.4324e-04 - val_mean_absolute_error: 0.0059\n",
      "Epoch 130/500\n",
      "97/97 [==============================] - 4s 40ms/step - loss: 9.4537e-06 - mean_absolute_error: 0.0017 - val_loss: 1.9138e-04 - val_mean_absolute_error: 0.0050\n",
      "Epoch 131/500\n",
      "97/97 [==============================] - 4s 40ms/step - loss: 1.3933e-05 - mean_absolute_error: 0.0022 - val_loss: 1.9271e-04 - val_mean_absolute_error: 0.0080\n",
      "Epoch 132/500\n",
      "97/97 [==============================] - 4s 40ms/step - loss: 1.9119e-05 - mean_absolute_error: 0.0029 - val_loss: 1.9827e-04 - val_mean_absolute_error: 0.0058\n",
      "Epoch 133/500\n",
      "97/97 [==============================] - 4s 41ms/step - loss: 4.8221e-05 - mean_absolute_error: 0.0045 - val_loss: 1.8224e-04 - val_mean_absolute_error: 0.0055\n",
      "Epoch 134/500\n",
      "97/97 [==============================] - 4s 41ms/step - loss: 3.3247e-04 - mean_absolute_error: 0.0104 - val_loss: 3.6427e-04 - val_mean_absolute_error: 0.0084\n",
      "Epoch 135/500\n",
      "97/97 [==============================] - 4s 40ms/step - loss: 1.8104e-05 - mean_absolute_error: 0.0027 - val_loss: 2.9586e-04 - val_mean_absolute_error: 0.0077\n",
      "Epoch 136/500\n",
      "97/97 [==============================] - 4s 40ms/step - loss: 1.2438e-05 - mean_absolute_error: 0.0021 - val_loss: 1.4846e-04 - val_mean_absolute_error: 0.0047\n",
      "Epoch 137/500\n",
      "97/97 [==============================] - 4s 40ms/step - loss: 2.5968e-05 - mean_absolute_error: 0.0030 - val_loss: 1.1692e-04 - val_mean_absolute_error: 0.0032\n",
      "Epoch 138/500\n",
      "97/97 [==============================] - 4s 40ms/step - loss: 1.1830e-05 - mean_absolute_error: 0.0022 - val_loss: 1.3777e-04 - val_mean_absolute_error: 0.0054\n",
      "Epoch 139/500\n",
      "97/97 [==============================] - 4s 40ms/step - loss: 3.3962e-05 - mean_absolute_error: 0.0037 - val_loss: 1.7702e-04 - val_mean_absolute_error: 0.0047\n",
      "Epoch 140/500\n",
      "97/97 [==============================] - 4s 40ms/step - loss: 1.3461e-04 - mean_absolute_error: 0.0074 - val_loss: 1.1542e-04 - val_mean_absolute_error: 0.0067\n",
      "Epoch 141/500\n",
      "97/97 [==============================] - 4s 40ms/step - loss: 3.2371e-05 - mean_absolute_error: 0.0030 - val_loss: 1.2141e-04 - val_mean_absolute_error: 0.0038\n",
      "Epoch 142/500\n",
      "97/97 [==============================] - 4s 40ms/step - loss: 8.2386e-06 - mean_absolute_error: 0.0018 - val_loss: 1.5058e-04 - val_mean_absolute_error: 0.0051\n",
      "Epoch 143/500\n",
      "97/97 [==============================] - 4s 40ms/step - loss: 0.0014 - mean_absolute_error: 0.0189 - val_loss: 6.0512e-04 - val_mean_absolute_error: 0.0134\n",
      "Epoch 144/500\n",
      "97/97 [==============================] - 4s 40ms/step - loss: 8.3333e-05 - mean_absolute_error: 0.0051 - val_loss: 2.9859e-04 - val_mean_absolute_error: 0.0068\n",
      "Epoch 145/500\n",
      "97/97 [==============================] - 4s 41ms/step - loss: 1.5567e-05 - mean_absolute_error: 0.0024 - val_loss: 2.0863e-04 - val_mean_absolute_error: 0.0051\n",
      "Epoch 146/500\n",
      "97/97 [==============================] - 4s 40ms/step - loss: 1.4007e-05 - mean_absolute_error: 0.0022 - val_loss: 1.3987e-04 - val_mean_absolute_error: 0.0044\n",
      "Epoch 147/500\n",
      "97/97 [==============================] - 4s 40ms/step - loss: 1.0244e-05 - mean_absolute_error: 0.0019 - val_loss: 1.4601e-04 - val_mean_absolute_error: 0.0049\n",
      "Epoch 148/500\n",
      "97/97 [==============================] - 4s 40ms/step - loss: 8.4924e-06 - mean_absolute_error: 0.0017 - val_loss: 1.6275e-04 - val_mean_absolute_error: 0.0077\n",
      "Epoch 149/500\n",
      "97/97 [==============================] - 4s 40ms/step - loss: 1.6868e-05 - mean_absolute_error: 0.0028 - val_loss: 1.0949e-04 - val_mean_absolute_error: 0.0031\n",
      "Epoch 150/500\n",
      "97/97 [==============================] - 4s 40ms/step - loss: 1.1868e-05 - mean_absolute_error: 0.0022 - val_loss: 1.5086e-04 - val_mean_absolute_error: 0.0061\n",
      "Epoch 151/500\n",
      "97/97 [==============================] - 4s 40ms/step - loss: 3.5367e-05 - mean_absolute_error: 0.0044 - val_loss: 1.4331e-04 - val_mean_absolute_error: 0.0055\n",
      "Epoch 152/500\n",
      "97/97 [==============================] - 4s 40ms/step - loss: 6.6013e-06 - mean_absolute_error: 0.0016 - val_loss: 9.3178e-05 - val_mean_absolute_error: 0.0036\n",
      "Epoch 153/500\n",
      "97/97 [==============================] - 4s 40ms/step - loss: 1.6970e-05 - mean_absolute_error: 0.0028 - val_loss: 1.0829e-04 - val_mean_absolute_error: 0.0073\n",
      "Epoch 154/500\n",
      "97/97 [==============================] - 4s 41ms/step - loss: 1.0445e-05 - mean_absolute_error: 0.0020 - val_loss: 8.7248e-05 - val_mean_absolute_error: 0.0040\n",
      "Epoch 155/500\n",
      "97/97 [==============================] - 4s 40ms/step - loss: 4.4696e-05 - mean_absolute_error: 0.0045 - val_loss: 1.4585e-04 - val_mean_absolute_error: 0.0061\n",
      "Epoch 156/500\n",
      "97/97 [==============================] - 4s 40ms/step - loss: 3.5967e-05 - mean_absolute_error: 0.0041 - val_loss: 1.1452e-04 - val_mean_absolute_error: 0.0047\n",
      "Epoch 157/500\n",
      "97/97 [==============================] - 4s 41ms/step - loss: 2.3390e-05 - mean_absolute_error: 0.0030 - val_loss: 1.0808e-04 - val_mean_absolute_error: 0.0034\n",
      "Epoch 158/500\n",
      "97/97 [==============================] - 4s 40ms/step - loss: 8.0991e-06 - mean_absolute_error: 0.0019 - val_loss: 7.2695e-05 - val_mean_absolute_error: 0.0027\n",
      "Epoch 159/500\n",
      "97/97 [==============================] - 4s 40ms/step - loss: 1.3686e-05 - mean_absolute_error: 0.0025 - val_loss: 8.9472e-05 - val_mean_absolute_error: 0.0048\n",
      "Epoch 160/500\n",
      "97/97 [==============================] - 4s 40ms/step - loss: 3.2232e-05 - mean_absolute_error: 0.0038 - val_loss: 8.6063e-05 - val_mean_absolute_error: 0.0036\n",
      "Epoch 161/500\n",
      "97/97 [==============================] - 4s 41ms/step - loss: 1.0193e-04 - mean_absolute_error: 0.0067 - val_loss: 1.4038e-04 - val_mean_absolute_error: 0.0045\n",
      "Epoch 162/500\n",
      "97/97 [==============================] - 4s 40ms/step - loss: 1.9573e-05 - mean_absolute_error: 0.0027 - val_loss: 1.0170e-04 - val_mean_absolute_error: 0.0040\n",
      "Epoch 163/500\n",
      "97/97 [==============================] - 4s 40ms/step - loss: 9.3020e-05 - mean_absolute_error: 0.0064 - val_loss: 1.0131e-04 - val_mean_absolute_error: 0.0035\n",
      "Epoch 164/500\n",
      "97/97 [==============================] - 4s 41ms/step - loss: 1.2510e-05 - mean_absolute_error: 0.0023 - val_loss: 1.0475e-04 - val_mean_absolute_error: 0.0037\n",
      "Epoch 165/500\n",
      "97/97 [==============================] - 4s 40ms/step - loss: 8.7487e-05 - mean_absolute_error: 0.0054 - val_loss: 7.1488e-05 - val_mean_absolute_error: 0.0043\n",
      "Epoch 166/500\n",
      "97/97 [==============================] - 4s 40ms/step - loss: 1.2871e-04 - mean_absolute_error: 0.0072 - val_loss: 1.4144e-04 - val_mean_absolute_error: 0.0060\n",
      "Epoch 167/500\n",
      "97/97 [==============================] - 4s 40ms/step - loss: 1.9100e-05 - mean_absolute_error: 0.0025 - val_loss: 7.8482e-05 - val_mean_absolute_error: 0.0035\n",
      "Epoch 168/500\n",
      "97/97 [==============================] - 4s 40ms/step - loss: 4.7363e-06 - mean_absolute_error: 0.0013 - val_loss: 7.1426e-05 - val_mean_absolute_error: 0.0030\n",
      "Epoch 169/500\n",
      "97/97 [==============================] - 4s 40ms/step - loss: 3.1196e-05 - mean_absolute_error: 0.0035 - val_loss: 1.1607e-04 - val_mean_absolute_error: 0.0072\n",
      "Epoch 170/500\n",
      "97/97 [==============================] - 4s 41ms/step - loss: 9.4309e-04 - mean_absolute_error: 0.0185 - val_loss: 0.0011 - val_mean_absolute_error: 0.0255\n",
      "Epoch 171/500\n",
      "97/97 [==============================] - 4s 40ms/step - loss: 1.1581e-04 - mean_absolute_error: 0.0061 - val_loss: 1.8831e-04 - val_mean_absolute_error: 0.0042\n",
      "Epoch 172/500\n",
      "97/97 [==============================] - 4s 40ms/step - loss: 6.7896e-06 - mean_absolute_error: 0.0014 - val_loss: 9.6580e-05 - val_mean_absolute_error: 0.0031\n",
      "Epoch 173/500\n",
      "97/97 [==============================] - 4s 40ms/step - loss: 5.4978e-06 - mean_absolute_error: 0.0014 - val_loss: 1.0859e-04 - val_mean_absolute_error: 0.0037\n",
      "Epoch 174/500\n",
      "97/97 [==============================] - 4s 41ms/step - loss: 7.4405e-06 - mean_absolute_error: 0.0018 - val_loss: 9.9386e-05 - val_mean_absolute_error: 0.0032\n",
      "Epoch 175/500\n",
      "97/97 [==============================] - 4s 40ms/step - loss: 3.7397e-06 - mean_absolute_error: 0.0011 - val_loss: 8.7088e-05 - val_mean_absolute_error: 0.0031\n",
      "Epoch 176/500\n",
      "97/97 [==============================] - 4s 40ms/step - loss: 2.8402e-06 - mean_absolute_error: 9.7515e-04 - val_loss: 7.6898e-05 - val_mean_absolute_error: 0.0025\n",
      "Epoch 177/500\n",
      "97/97 [==============================] - 4s 41ms/step - loss: 4.2801e-06 - mean_absolute_error: 0.0012 - val_loss: 8.2895e-05 - val_mean_absolute_error: 0.0052\n",
      "Epoch 178/500\n",
      "97/97 [==============================] - 4s 40ms/step - loss: 6.5848e-06 - mean_absolute_error: 0.0016 - val_loss: 6.1970e-05 - val_mean_absolute_error: 0.0047\n",
      "Epoch 179/500\n",
      "97/97 [==============================] - 4s 40ms/step - loss: 8.9481e-06 - mean_absolute_error: 0.0021 - val_loss: 6.3508e-05 - val_mean_absolute_error: 0.0029\n",
      "Epoch 180/500\n",
      "97/97 [==============================] - 4s 40ms/step - loss: 2.7087e-05 - mean_absolute_error: 0.0033 - val_loss: 8.6884e-05 - val_mean_absolute_error: 0.0052\n",
      "Epoch 181/500\n",
      "97/97 [==============================] - 4s 40ms/step - loss: 2.5376e-05 - mean_absolute_error: 0.0031 - val_loss: 5.9714e-05 - val_mean_absolute_error: 0.0033\n",
      "Epoch 182/500\n",
      "97/97 [==============================] - 4s 40ms/step - loss: 1.0920e-05 - mean_absolute_error: 0.0022 - val_loss: 9.7487e-05 - val_mean_absolute_error: 0.0055\n",
      "Epoch 183/500\n",
      "97/97 [==============================] - 4s 40ms/step - loss: 3.2132e-05 - mean_absolute_error: 0.0036 - val_loss: 5.1924e-05 - val_mean_absolute_error: 0.0028\n",
      "Epoch 184/500\n",
      "97/97 [==============================] - 4s 40ms/step - loss: 7.9128e-06 - mean_absolute_error: 0.0018 - val_loss: 6.8783e-05 - val_mean_absolute_error: 0.0036\n",
      "Epoch 185/500\n",
      "97/97 [==============================] - 4s 40ms/step - loss: 5.6106e-06 - mean_absolute_error: 0.0015 - val_loss: 5.6575e-05 - val_mean_absolute_error: 0.0031\n",
      "Epoch 186/500\n",
      "97/97 [==============================] - 4s 40ms/step - loss: 6.1389e-05 - mean_absolute_error: 0.0049 - val_loss: 1.0764e-04 - val_mean_absolute_error: 0.0048\n",
      "Epoch 187/500\n",
      "97/97 [==============================] - 4s 41ms/step - loss: 3.9124e-05 - mean_absolute_error: 0.0034 - val_loss: 1.6689e-04 - val_mean_absolute_error: 0.0093\n",
      "Epoch 188/500\n",
      "97/97 [==============================] - 4s 40ms/step - loss: 9.1249e-05 - mean_absolute_error: 0.0056 - val_loss: 4.3725e-05 - val_mean_absolute_error: 0.0032\n",
      "Epoch 189/500\n",
      "97/97 [==============================] - 4s 40ms/step - loss: 2.5933e-05 - mean_absolute_error: 0.0029 - val_loss: 6.0017e-05 - val_mean_absolute_error: 0.0027\n",
      "Epoch 190/500\n",
      "97/97 [==============================] - 4s 40ms/step - loss: 7.8981e-06 - mean_absolute_error: 0.0017 - val_loss: 4.4040e-05 - val_mean_absolute_error: 0.0024\n",
      "Epoch 191/500\n",
      "97/97 [==============================] - 4s 40ms/step - loss: 4.3537e-06 - mean_absolute_error: 0.0014 - val_loss: 5.1049e-05 - val_mean_absolute_error: 0.0030\n",
      "Epoch 192/500\n",
      "97/97 [==============================] - 4s 40ms/step - loss: 1.0367e-04 - mean_absolute_error: 0.0059 - val_loss: 1.7212e-04 - val_mean_absolute_error: 0.0077\n",
      "Epoch 193/500\n",
      "97/97 [==============================] - 4s 40ms/step - loss: 3.2097e-05 - mean_absolute_error: 0.0036 - val_loss: 8.1568e-05 - val_mean_absolute_error: 0.0062\n",
      "Epoch 194/500\n",
      "97/97 [==============================] - 4s 40ms/step - loss: 4.6790e-05 - mean_absolute_error: 0.0046 - val_loss: 9.8308e-05 - val_mean_absolute_error: 0.0049\n",
      "Epoch 195/500\n",
      "97/97 [==============================] - 4s 41ms/step - loss: 3.7636e-05 - mean_absolute_error: 0.0037 - val_loss: 2.1560e-04 - val_mean_absolute_error: 0.0103\n",
      "Epoch 196/500\n",
      "97/97 [==============================] - 4s 40ms/step - loss: 2.8635e-05 - mean_absolute_error: 0.0031 - val_loss: 7.4080e-05 - val_mean_absolute_error: 0.0046\n",
      "Epoch 197/500\n",
      "97/97 [==============================] - 4s 40ms/step - loss: 4.8330e-05 - mean_absolute_error: 0.0045 - val_loss: 6.8115e-05 - val_mean_absolute_error: 0.0025\n",
      "Epoch 198/500\n",
      "97/97 [==============================] - 4s 40ms/step - loss: 6.2241e-06 - mean_absolute_error: 0.0016 - val_loss: 4.2394e-05 - val_mean_absolute_error: 0.0030\n",
      "Epoch 199/500\n",
      "97/97 [==============================] - 4s 40ms/step - loss: 1.6698e-05 - mean_absolute_error: 0.0025 - val_loss: 7.3366e-05 - val_mean_absolute_error: 0.0065\n",
      "Epoch 200/500\n",
      "97/97 [==============================] - 4s 40ms/step - loss: 0.0029 - mean_absolute_error: 0.0302 - val_loss: 5.3125e-04 - val_mean_absolute_error: 0.0134\n",
      "Epoch 201/500\n",
      "97/97 [==============================] - 4s 40ms/step - loss: 3.3267e-05 - mean_absolute_error: 0.0034 - val_loss: 3.0393e-04 - val_mean_absolute_error: 0.0066\n",
      "Epoch 202/500\n",
      "97/97 [==============================] - 4s 40ms/step - loss: 1.1996e-05 - mean_absolute_error: 0.0018 - val_loss: 2.1528e-04 - val_mean_absolute_error: 0.0049\n",
      "Epoch 203/500\n",
      "97/97 [==============================] - 4s 40ms/step - loss: 9.6739e-06 - mean_absolute_error: 0.0016 - val_loss: 1.9638e-04 - val_mean_absolute_error: 0.0051\n",
      "Epoch 204/500\n",
      "97/97 [==============================] - 4s 40ms/step - loss: 6.8798e-06 - mean_absolute_error: 0.0013 - val_loss: 1.8311e-04 - val_mean_absolute_error: 0.0046\n",
      "Epoch 205/500\n",
      "97/97 [==============================] - 4s 41ms/step - loss: 5.5646e-06 - mean_absolute_error: 0.0011 - val_loss: 1.1594e-04 - val_mean_absolute_error: 0.0038\n",
      "Epoch 206/500\n",
      "97/97 [==============================] - 4s 40ms/step - loss: 6.5269e-06 - mean_absolute_error: 0.0014 - val_loss: 1.1443e-04 - val_mean_absolute_error: 0.0033\n",
      "Epoch 207/500\n",
      "97/97 [==============================] - 4s 40ms/step - loss: 7.3555e-06 - mean_absolute_error: 0.0016 - val_loss: 1.0635e-04 - val_mean_absolute_error: 0.0035\n",
      "Epoch 208/500\n",
      "97/97 [==============================] - 4s 40ms/step - loss: 7.1042e-06 - mean_absolute_error: 0.0016 - val_loss: 1.2042e-04 - val_mean_absolute_error: 0.0032\n",
      "Epoch 209/500\n",
      "97/97 [==============================] - 4s 41ms/step - loss: 5.9677e-06 - mean_absolute_error: 0.0014 - val_loss: 7.7537e-05 - val_mean_absolute_error: 0.0026\n",
      "Epoch 210/500\n",
      "97/97 [==============================] - 4s 40ms/step - loss: 2.9769e-06 - mean_absolute_error: 8.9413e-04 - val_loss: 8.1233e-05 - val_mean_absolute_error: 0.0031\n",
      "Epoch 211/500\n",
      "97/97 [==============================] - 4s 40ms/step - loss: 3.9329e-06 - mean_absolute_error: 0.0011 - val_loss: 7.2879e-05 - val_mean_absolute_error: 0.0023\n",
      "Epoch 212/500\n",
      "97/97 [==============================] - 4s 41ms/step - loss: 3.0482e-06 - mean_absolute_error: 0.0010 - val_loss: 7.1707e-05 - val_mean_absolute_error: 0.0025\n",
      "Epoch 213/500\n",
      "97/97 [==============================] - 4s 40ms/step - loss: 3.5267e-06 - mean_absolute_error: 0.0011 - val_loss: 6.2829e-05 - val_mean_absolute_error: 0.0022\n",
      "Epoch 214/500\n",
      "97/97 [==============================] - 4s 40ms/step - loss: 1.1344e-05 - mean_absolute_error: 0.0021 - val_loss: 4.9484e-05 - val_mean_absolute_error: 0.0027\n",
      "Epoch 215/500\n",
      "97/97 [==============================] - 4s 40ms/step - loss: 5.4688e-06 - mean_absolute_error: 0.0014 - val_loss: 5.5284e-05 - val_mean_absolute_error: 0.0020\n",
      "Epoch 216/500\n",
      "97/97 [==============================] - 4s 41ms/step - loss: 1.7393e-05 - mean_absolute_error: 0.0025 - val_loss: 8.3100e-05 - val_mean_absolute_error: 0.0045\n",
      "Epoch 217/500\n",
      "97/97 [==============================] - 4s 40ms/step - loss: 1.1120e-05 - mean_absolute_error: 0.0019 - val_loss: 4.9330e-05 - val_mean_absolute_error: 0.0023\n",
      "Epoch 218/500\n",
      "97/97 [==============================] - 4s 41ms/step - loss: 2.6442e-06 - mean_absolute_error: 9.8812e-04 - val_loss: 4.0705e-05 - val_mean_absolute_error: 0.0031\n",
      "Epoch 219/500\n",
      "97/97 [==============================] - 4s 41ms/step - loss: 1.6720e-05 - mean_absolute_error: 0.0023 - val_loss: 3.8911e-05 - val_mean_absolute_error: 0.0020\n",
      "Epoch 220/500\n",
      "97/97 [==============================] - 4s 40ms/step - loss: 2.3795e-05 - mean_absolute_error: 0.0029 - val_loss: 6.3105e-05 - val_mean_absolute_error: 0.0031\n",
      "Epoch 221/500\n",
      "97/97 [==============================] - 4s 41ms/step - loss: 6.2119e-06 - mean_absolute_error: 0.0016 - val_loss: 6.4032e-05 - val_mean_absolute_error: 0.0023\n",
      "Epoch 222/500\n",
      "97/97 [==============================] - 4s 41ms/step - loss: 5.2952e-06 - mean_absolute_error: 0.0015 - val_loss: 4.8499e-05 - val_mean_absolute_error: 0.0020\n",
      "Epoch 223/500\n",
      "97/97 [==============================] - 4s 41ms/step - loss: 1.8737e-05 - mean_absolute_error: 0.0027 - val_loss: 3.8974e-05 - val_mean_absolute_error: 0.0020\n",
      "Epoch 224/500\n",
      "97/97 [==============================] - 4s 40ms/step - loss: 2.6329e-05 - mean_absolute_error: 0.0033 - val_loss: 1.8628e-04 - val_mean_absolute_error: 0.0115\n",
      "Epoch 225/500\n",
      "97/97 [==============================] - 4s 40ms/step - loss: 1.0195e-04 - mean_absolute_error: 0.0058 - val_loss: 6.5491e-05 - val_mean_absolute_error: 0.0024\n",
      "Epoch 226/500\n",
      "97/97 [==============================] - 4s 40ms/step - loss: 1.0951e-05 - mean_absolute_error: 0.0020 - val_loss: 9.2516e-05 - val_mean_absolute_error: 0.0034\n",
      "Epoch 227/500\n",
      "97/97 [==============================] - 4s 41ms/step - loss: 1.5570e-05 - mean_absolute_error: 0.0025 - val_loss: 5.3301e-05 - val_mean_absolute_error: 0.0021\n",
      "Epoch 228/500\n",
      "97/97 [==============================] - 4s 40ms/step - loss: 7.0419e-05 - mean_absolute_error: 0.0054 - val_loss: 7.2437e-05 - val_mean_absolute_error: 0.0035\n",
      "Epoch 229/500\n",
      "97/97 [==============================] - 4s 40ms/step - loss: 2.0387e-05 - mean_absolute_error: 0.0031 - val_loss: 5.7838e-05 - val_mean_absolute_error: 0.0054\n",
      "Epoch 230/500\n",
      "97/97 [==============================] - 4s 40ms/step - loss: 1.0185e-05 - mean_absolute_error: 0.0021 - val_loss: 5.6099e-05 - val_mean_absolute_error: 0.0021\n",
      "Epoch 231/500\n",
      "97/97 [==============================] - 4s 40ms/step - loss: 3.6349e-06 - mean_absolute_error: 0.0012 - val_loss: 4.0718e-05 - val_mean_absolute_error: 0.0024\n",
      "Epoch 232/500\n",
      "97/97 [==============================] - 4s 41ms/step - loss: 3.3145e-04 - mean_absolute_error: 0.0094 - val_loss: 2.3266e-04 - val_mean_absolute_error: 0.0073\n",
      "Epoch 233/500\n",
      "97/97 [==============================] - 4s 40ms/step - loss: 1.2402e-05 - mean_absolute_error: 0.0022 - val_loss: 6.6406e-05 - val_mean_absolute_error: 0.0026\n",
      "Epoch 234/500\n",
      "97/97 [==============================] - 4s 40ms/step - loss: 3.2607e-06 - mean_absolute_error: 0.0011 - val_loss: 4.2554e-05 - val_mean_absolute_error: 0.0018\n",
      "Epoch 235/500\n",
      "97/97 [==============================] - 4s 41ms/step - loss: 1.0210e-05 - mean_absolute_error: 0.0019 - val_loss: 5.9028e-05 - val_mean_absolute_error: 0.0031\n",
      "Epoch 236/500\n",
      "97/97 [==============================] - 4s 41ms/step - loss: 2.4864e-06 - mean_absolute_error: 9.2879e-04 - val_loss: 5.1645e-05 - val_mean_absolute_error: 0.0024\n",
      "Epoch 237/500\n",
      "97/97 [==============================] - 4s 41ms/step - loss: 4.9129e-06 - mean_absolute_error: 0.0015 - val_loss: 6.0032e-05 - val_mean_absolute_error: 0.0027\n",
      "Epoch 238/500\n",
      "97/97 [==============================] - 4s 40ms/step - loss: 1.6919e-05 - mean_absolute_error: 0.0027 - val_loss: 7.6455e-05 - val_mean_absolute_error: 0.0034\n",
      "Epoch 239/500\n",
      "97/97 [==============================] - 4s 40ms/step - loss: 3.8024e-06 - mean_absolute_error: 0.0012 - val_loss: 3.3234e-05 - val_mean_absolute_error: 0.0025\n",
      "Epoch 240/500\n",
      "97/97 [==============================] - 4s 40ms/step - loss: 2.3393e-06 - mean_absolute_error: 0.0010 - val_loss: 3.4939e-05 - val_mean_absolute_error: 0.0017\n",
      "Epoch 241/500\n",
      "97/97 [==============================] - 4s 40ms/step - loss: 1.8968e-05 - mean_absolute_error: 0.0025 - val_loss: 6.1073e-05 - val_mean_absolute_error: 0.0042\n",
      "Epoch 242/500\n",
      "97/97 [==============================] - 4s 41ms/step - loss: 1.0024e-04 - mean_absolute_error: 0.0068 - val_loss: 1.1295e-04 - val_mean_absolute_error: 0.0034\n",
      "Epoch 243/500\n",
      "97/97 [==============================] - 4s 40ms/step - loss: 2.4672e-05 - mean_absolute_error: 0.0032 - val_loss: 6.8701e-05 - val_mean_absolute_error: 0.0041\n",
      "Epoch 244/500\n",
      "97/97 [==============================] - 4s 40ms/step - loss: 1.2131e-05 - mean_absolute_error: 0.0024 - val_loss: 7.2923e-05 - val_mean_absolute_error: 0.0028\n",
      "Epoch 245/500\n",
      "97/97 [==============================] - 4s 41ms/step - loss: 9.4008e-06 - mean_absolute_error: 0.0019 - val_loss: 3.5852e-05 - val_mean_absolute_error: 0.0024\n",
      "Epoch 246/500\n",
      "97/97 [==============================] - 4s 40ms/step - loss: 4.2588e-05 - mean_absolute_error: 0.0036 - val_loss: 6.1961e-05 - val_mean_absolute_error: 0.0063\n",
      "Epoch 247/500\n",
      "97/97 [==============================] - 4s 40ms/step - loss: 9.7050e-05 - mean_absolute_error: 0.0052 - val_loss: 5.5880e-05 - val_mean_absolute_error: 0.0027\n",
      "Epoch 248/500\n",
      "97/97 [==============================] - 4s 40ms/step - loss: 3.8793e-06 - mean_absolute_error: 0.0013 - val_loss: 3.4779e-05 - val_mean_absolute_error: 0.0019\n",
      "Epoch 249/500\n",
      "97/97 [==============================] - 4s 41ms/step - loss: 2.6157e-06 - mean_absolute_error: 0.0011 - val_loss: 4.1453e-05 - val_mean_absolute_error: 0.0028\n",
      "Epoch 250/500\n",
      "97/97 [==============================] - 4s 40ms/step - loss: 3.3862e-06 - mean_absolute_error: 0.0012 - val_loss: 2.9874e-05 - val_mean_absolute_error: 0.0019\n",
      "Epoch 251/500\n",
      "97/97 [==============================] - 4s 40ms/step - loss: 1.3154e-04 - mean_absolute_error: 0.0069 - val_loss: 7.4928e-05 - val_mean_absolute_error: 0.0046\n",
      "Epoch 252/500\n",
      "97/97 [==============================] - 4s 40ms/step - loss: 6.0730e-05 - mean_absolute_error: 0.0049 - val_loss: 5.0045e-05 - val_mean_absolute_error: 0.0029\n",
      "Epoch 253/500\n",
      "97/97 [==============================] - 4s 40ms/step - loss: 2.8483e-06 - mean_absolute_error: 0.0011 - val_loss: 4.7402e-05 - val_mean_absolute_error: 0.0023\n",
      "Epoch 254/500\n",
      "97/97 [==============================] - 4s 41ms/step - loss: 2.1736e-05 - mean_absolute_error: 0.0026 - val_loss: 3.7954e-05 - val_mean_absolute_error: 0.0022\n",
      "Epoch 255/500\n",
      "97/97 [==============================] - 4s 40ms/step - loss: 2.5044e-05 - mean_absolute_error: 0.0032 - val_loss: 3.4929e-05 - val_mean_absolute_error: 0.0031\n",
      "Epoch 256/500\n",
      "97/97 [==============================] - 4s 41ms/step - loss: 1.4798e-05 - mean_absolute_error: 0.0025 - val_loss: 4.2978e-05 - val_mean_absolute_error: 0.0030\n",
      "Epoch 257/500\n",
      "97/97 [==============================] - 4s 40ms/step - loss: 6.4244e-06 - mean_absolute_error: 0.0016 - val_loss: 2.4378e-05 - val_mean_absolute_error: 0.0027\n",
      "Epoch 258/500\n",
      "97/97 [==============================] - 4s 40ms/step - loss: 3.4974e-06 - mean_absolute_error: 0.0011 - val_loss: 2.2964e-05 - val_mean_absolute_error: 0.0015\n",
      "Epoch 259/500\n",
      "97/97 [==============================] - 4s 40ms/step - loss: 3.6216e-04 - mean_absolute_error: 0.0091 - val_loss: 8.4845e-04 - val_mean_absolute_error: 0.0238\n",
      "Epoch 260/500\n",
      "97/97 [==============================] - 4s 41ms/step - loss: 9.6929e-05 - mean_absolute_error: 0.0051 - val_loss: 3.9858e-05 - val_mean_absolute_error: 0.0021\n",
      "Epoch 261/500\n",
      "97/97 [==============================] - 4s 40ms/step - loss: 4.3174e-06 - mean_absolute_error: 0.0013 - val_loss: 3.9100e-05 - val_mean_absolute_error: 0.0019\n",
      "Epoch 262/500\n",
      "97/97 [==============================] - 4s 40ms/step - loss: 3.1373e-06 - mean_absolute_error: 0.0011 - val_loss: 3.6700e-05 - val_mean_absolute_error: 0.0018\n",
      "Epoch 263/500\n",
      "97/97 [==============================] - 4s 40ms/step - loss: 3.0451e-06 - mean_absolute_error: 0.0011 - val_loss: 2.4821e-05 - val_mean_absolute_error: 0.0018\n",
      "Epoch 264/500\n",
      "97/97 [==============================] - 4s 40ms/step - loss: 2.0051e-06 - mean_absolute_error: 8.4466e-04 - val_loss: 2.5853e-05 - val_mean_absolute_error: 0.0018\n",
      "Epoch 265/500\n",
      "97/97 [==============================] - 4s 41ms/step - loss: 7.7463e-06 - mean_absolute_error: 0.0018 - val_loss: 4.5660e-05 - val_mean_absolute_error: 0.0021\n",
      "Epoch 266/500\n",
      "97/97 [==============================] - 4s 40ms/step - loss: 2.7409e-06 - mean_absolute_error: 0.0010 - val_loss: 2.3275e-05 - val_mean_absolute_error: 0.0015\n",
      "Epoch 267/500\n",
      "97/97 [==============================] - 4s 40ms/step - loss: 1.9331e-05 - mean_absolute_error: 0.0028 - val_loss: 4.9068e-05 - val_mean_absolute_error: 0.0026\n",
      "Epoch 268/500\n",
      "97/97 [==============================] - 4s 41ms/step - loss: 8.2633e-06 - mean_absolute_error: 0.0019 - val_loss: 2.6990e-05 - val_mean_absolute_error: 0.0025\n",
      "Epoch 269/500\n",
      "97/97 [==============================] - 4s 40ms/step - loss: 2.1553e-06 - mean_absolute_error: 9.0551e-04 - val_loss: 2.2231e-05 - val_mean_absolute_error: 0.0020\n",
      "Epoch 270/500\n",
      "97/97 [==============================] - 4s 40ms/step - loss: 7.6259e-05 - mean_absolute_error: 0.0052 - val_loss: 1.0488e-04 - val_mean_absolute_error: 0.0040\n",
      "Epoch 271/500\n",
      "97/97 [==============================] - 4s 40ms/step - loss: 2.5622e-05 - mean_absolute_error: 0.0033 - val_loss: 9.1111e-05 - val_mean_absolute_error: 0.0035\n",
      "Epoch 272/500\n",
      "97/97 [==============================] - 4s 40ms/step - loss: 4.8889e-06 - mean_absolute_error: 0.0013 - val_loss: 2.3145e-05 - val_mean_absolute_error: 0.0014\n",
      "Epoch 273/500\n",
      "97/97 [==============================] - 4s 40ms/step - loss: 8.7358e-06 - mean_absolute_error: 0.0018 - val_loss: 2.3824e-05 - val_mean_absolute_error: 0.0025\n",
      "Epoch 274/500\n",
      "97/97 [==============================] - 4s 40ms/step - loss: 2.4716e-05 - mean_absolute_error: 0.0032 - val_loss: 7.1359e-05 - val_mean_absolute_error: 0.0061\n",
      "Epoch 275/500\n",
      "97/97 [==============================] - 4s 40ms/step - loss: 2.4922e-05 - mean_absolute_error: 0.0027 - val_loss: 4.0635e-05 - val_mean_absolute_error: 0.0021\n",
      "Epoch 276/500\n",
      "97/97 [==============================] - 4s 41ms/step - loss: 2.2089e-06 - mean_absolute_error: 9.3172e-04 - val_loss: 1.5845e-05 - val_mean_absolute_error: 0.0018\n",
      "Epoch 277/500\n",
      "97/97 [==============================] - 4s 40ms/step - loss: 1.2006e-04 - mean_absolute_error: 0.0064 - val_loss: 7.0814e-05 - val_mean_absolute_error: 0.0034\n",
      "Epoch 278/500\n",
      "97/97 [==============================] - 4s 40ms/step - loss: 6.1179e-05 - mean_absolute_error: 0.0042 - val_loss: 3.1597e-05 - val_mean_absolute_error: 0.0020\n",
      "Epoch 279/500\n",
      "97/97 [==============================] - 4s 40ms/step - loss: 4.2282e-06 - mean_absolute_error: 0.0013 - val_loss: 1.7706e-05 - val_mean_absolute_error: 0.0012\n",
      "Epoch 280/500\n",
      "97/97 [==============================] - 4s 40ms/step - loss: 1.0790e-06 - mean_absolute_error: 6.4199e-04 - val_loss: 2.1119e-05 - val_mean_absolute_error: 0.0014\n",
      "Epoch 281/500\n",
      "97/97 [==============================] - 4s 40ms/step - loss: 2.3511e-05 - mean_absolute_error: 0.0028 - val_loss: 1.9716e-05 - val_mean_absolute_error: 0.0030\n",
      "Epoch 282/500\n",
      "97/97 [==============================] - 4s 40ms/step - loss: 2.8444e-06 - mean_absolute_error: 0.0011 - val_loss: 2.0370e-05 - val_mean_absolute_error: 0.0013\n",
      "Epoch 283/500\n",
      "97/97 [==============================] - 4s 40ms/step - loss: 2.8971e-06 - mean_absolute_error: 0.0011 - val_loss: 1.1325e-05 - val_mean_absolute_error: 0.0014\n",
      "Epoch 284/500\n",
      "97/97 [==============================] - 4s 41ms/step - loss: 7.5758e-06 - mean_absolute_error: 0.0017 - val_loss: 1.0265e-05 - val_mean_absolute_error: 0.0012\n",
      "Epoch 285/500\n",
      "97/97 [==============================] - 4s 40ms/step - loss: 1.5118e-05 - mean_absolute_error: 0.0023 - val_loss: 1.7569e-05 - val_mean_absolute_error: 0.0014\n",
      "Epoch 286/500\n",
      "97/97 [==============================] - 4s 40ms/step - loss: 2.0337e-04 - mean_absolute_error: 0.0068 - val_loss: 9.8226e-05 - val_mean_absolute_error: 0.0066\n",
      "Epoch 287/500\n",
      "97/97 [==============================] - 4s 40ms/step - loss: 1.3747e-04 - mean_absolute_error: 0.0073 - val_loss: 8.4206e-05 - val_mean_absolute_error: 0.0034\n",
      "Epoch 288/500\n",
      "97/97 [==============================] - 4s 41ms/step - loss: 4.7269e-06 - mean_absolute_error: 0.0013 - val_loss: 3.4480e-05 - val_mean_absolute_error: 0.0017\n",
      "Epoch 289/500\n",
      "97/97 [==============================] - 4s 40ms/step - loss: 4.5494e-06 - mean_absolute_error: 0.0013 - val_loss: 3.5896e-05 - val_mean_absolute_error: 0.0023\n",
      "Epoch 290/500\n",
      "97/97 [==============================] - 4s 40ms/step - loss: 3.3591e-05 - mean_absolute_error: 0.0038 - val_loss: 3.3829e-05 - val_mean_absolute_error: 0.0019\n",
      "Epoch 291/500\n",
      "97/97 [==============================] - 4s 40ms/step - loss: 2.2176e-06 - mean_absolute_error: 8.0933e-04 - val_loss: 2.0195e-05 - val_mean_absolute_error: 0.0014\n",
      "Epoch 292/500\n",
      "97/97 [==============================] - 4s 40ms/step - loss: 1.5657e-06 - mean_absolute_error: 7.9801e-04 - val_loss: 1.3677e-05 - val_mean_absolute_error: 0.0011\n",
      "Epoch 293/500\n",
      "97/97 [==============================] - 4s 41ms/step - loss: 2.2718e-06 - mean_absolute_error: 9.0352e-04 - val_loss: 1.4245e-05 - val_mean_absolute_error: 0.0012\n",
      "Epoch 294/500\n",
      "97/97 [==============================] - 4s 40ms/step - loss: 2.3994e-06 - mean_absolute_error: 8.8491e-04 - val_loss: 2.8223e-05 - val_mean_absolute_error: 0.0037\n",
      "Epoch 295/500\n",
      "97/97 [==============================] - 4s 41ms/step - loss: 3.3981e-06 - mean_absolute_error: 0.0013 - val_loss: 1.1568e-05 - val_mean_absolute_error: 0.0016\n",
      "Epoch 296/500\n",
      "97/97 [==============================] - 4s 40ms/step - loss: 7.0571e-06 - mean_absolute_error: 0.0015 - val_loss: 2.2714e-05 - val_mean_absolute_error: 0.0019\n",
      "Epoch 297/500\n",
      "97/97 [==============================] - 4s 40ms/step - loss: 2.8733e-05 - mean_absolute_error: 0.0034 - val_loss: 4.3599e-05 - val_mean_absolute_error: 0.0021\n",
      "Epoch 298/500\n",
      "97/97 [==============================] - 4s 40ms/step - loss: 1.3966e-04 - mean_absolute_error: 0.0072 - val_loss: 4.2515e-05 - val_mean_absolute_error: 0.0033\n",
      "Epoch 299/500\n",
      "97/97 [==============================] - 4s 40ms/step - loss: 4.6186e-06 - mean_absolute_error: 0.0013 - val_loss: 2.3987e-05 - val_mean_absolute_error: 0.0015\n",
      "Epoch 300/500\n",
      "97/97 [==============================] - 4s 40ms/step - loss: 1.1473e-04 - mean_absolute_error: 0.0062 - val_loss: 8.5082e-05 - val_mean_absolute_error: 0.0042\n",
      "Epoch 301/500\n",
      "97/97 [==============================] - 4s 40ms/step - loss: 7.3169e-06 - mean_absolute_error: 0.0017 - val_loss: 4.3258e-05 - val_mean_absolute_error: 0.0021\n",
      "Epoch 302/500\n",
      "97/97 [==============================] - 4s 40ms/step - loss: 2.0512e-06 - mean_absolute_error: 9.1057e-04 - val_loss: 1.7915e-05 - val_mean_absolute_error: 0.0014\n",
      "Epoch 303/500\n",
      "97/97 [==============================] - 4s 40ms/step - loss: 1.4999e-06 - mean_absolute_error: 7.4948e-04 - val_loss: 1.8513e-05 - val_mean_absolute_error: 0.0012\n",
      "Epoch 304/500\n",
      "97/97 [==============================] - 4s 40ms/step - loss: 1.9186e-06 - mean_absolute_error: 8.6449e-04 - val_loss: 1.7793e-05 - val_mean_absolute_error: 0.0017\n",
      "Epoch 305/500\n",
      "97/97 [==============================] - 4s 40ms/step - loss: 2.2440e-06 - mean_absolute_error: 9.7578e-04 - val_loss: 1.8748e-05 - val_mean_absolute_error: 0.0028\n",
      "Epoch 306/500\n",
      "97/97 [==============================] - 4s 40ms/step - loss: 1.3663e-05 - mean_absolute_error: 0.0023 - val_loss: 2.3742e-05 - val_mean_absolute_error: 0.0016\n",
      "Epoch 307/500\n",
      "97/97 [==============================] - 4s 40ms/step - loss: 2.6154e-06 - mean_absolute_error: 0.0011 - val_loss: 1.5516e-05 - val_mean_absolute_error: 0.0016\n",
      "Epoch 308/500\n",
      "97/97 [==============================] - 4s 40ms/step - loss: 1.6217e-04 - mean_absolute_error: 0.0072 - val_loss: 2.6840e-05 - val_mean_absolute_error: 0.0025\n",
      "Epoch 309/500\n",
      "97/97 [==============================] - 4s 40ms/step - loss: 1.7255e-05 - mean_absolute_error: 0.0027 - val_loss: 4.2509e-05 - val_mean_absolute_error: 0.0036\n",
      "Epoch 310/500\n",
      "97/97 [==============================] - 4s 40ms/step - loss: 4.7462e-06 - mean_absolute_error: 0.0013 - val_loss: 2.4730e-05 - val_mean_absolute_error: 0.0015\n",
      "Epoch 311/500\n",
      "97/97 [==============================] - 4s 40ms/step - loss: 1.9931e-06 - mean_absolute_error: 8.8977e-04 - val_loss: 1.5208e-05 - val_mean_absolute_error: 0.0012\n",
      "Epoch 312/500\n",
      "97/97 [==============================] - 4s 40ms/step - loss: 2.8954e-06 - mean_absolute_error: 0.0010 - val_loss: 3.7005e-05 - val_mean_absolute_error: 0.0043\n",
      "Epoch 313/500\n",
      "97/97 [==============================] - 4s 41ms/step - loss: 9.0870e-06 - mean_absolute_error: 0.0017 - val_loss: 1.0860e-05 - val_mean_absolute_error: 0.0014\n",
      "Epoch 314/500\n",
      "97/97 [==============================] - 4s 40ms/step - loss: 3.6327e-05 - mean_absolute_error: 0.0034 - val_loss: 1.4099e-04 - val_mean_absolute_error: 0.0058\n",
      "Epoch 315/500\n",
      "97/97 [==============================] - 4s 40ms/step - loss: 1.1694e-04 - mean_absolute_error: 0.0066 - val_loss: 4.7728e-05 - val_mean_absolute_error: 0.0035\n",
      "Epoch 316/500\n",
      "97/97 [==============================] - 4s 40ms/step - loss: 2.6306e-06 - mean_absolute_error: 9.1618e-04 - val_loss: 1.7084e-05 - val_mean_absolute_error: 0.0013\n",
      "Epoch 317/500\n",
      "97/97 [==============================] - 4s 40ms/step - loss: 8.7289e-07 - mean_absolute_error: 5.2521e-04 - val_loss: 1.2718e-05 - val_mean_absolute_error: 0.0013\n",
      "Epoch 318/500\n",
      "97/97 [==============================] - 4s 40ms/step - loss: 8.0529e-07 - mean_absolute_error: 5.5020e-04 - val_loss: 2.3686e-05 - val_mean_absolute_error: 0.0016\n",
      "Epoch 319/500\n",
      "97/97 [==============================] - 4s 40ms/step - loss: 7.6489e-06 - mean_absolute_error: 0.0017 - val_loss: 1.2938e-05 - val_mean_absolute_error: 0.0022\n",
      "Epoch 320/500\n",
      "97/97 [==============================] - 4s 40ms/step - loss: 1.4670e-05 - mean_absolute_error: 0.0025 - val_loss: 1.6075e-05 - val_mean_absolute_error: 0.0022\n",
      "Epoch 321/500\n",
      "97/97 [==============================] - 4s 40ms/step - loss: 4.5383e-06 - mean_absolute_error: 0.0013 - val_loss: 1.2464e-05 - val_mean_absolute_error: 0.0021\n",
      "Epoch 322/500\n",
      "97/97 [==============================] - 4s 40ms/step - loss: 1.0119e-05 - mean_absolute_error: 0.0018 - val_loss: 1.0445e-05 - val_mean_absolute_error: 0.0013\n",
      "Epoch 323/500\n",
      "97/97 [==============================] - 4s 40ms/step - loss: 7.2465e-05 - mean_absolute_error: 0.0051 - val_loss: 1.9079e-05 - val_mean_absolute_error: 0.0025\n",
      "Epoch 324/500\n",
      "59/97 [=================>............] - ETA: 1s - loss: 6.8975e-06 - mean_absolute_error: 0.0018"
     ]
    },
    {
     "ename": "KeyboardInterrupt",
     "evalue": "",
     "output_type": "error",
     "traceback": [
      "\u001b[0;31m---------------------------------------------------------------------------\u001b[0m",
      "\u001b[0;31mKeyboardInterrupt\u001b[0m                         Traceback (most recent call last)",
      "\u001b[0;32m<timed exec>\u001b[0m in \u001b[0;36m<module>\u001b[0;34m\u001b[0m\n",
      "\u001b[0;32m<ipython-input-18-48b65fe0d10e>\u001b[0m in \u001b[0;36mcompile_and_fit\u001b[0;34m(model, name, window, patience, MAX_EPOCHS)\u001b[0m\n\u001b[1;32m     21\u001b[0m                       \u001b[0mvalidation_data\u001b[0m\u001b[0;34m=\u001b[0m\u001b[0mwindow\u001b[0m\u001b[0;34m.\u001b[0m\u001b[0mval\u001b[0m\u001b[0;34m,\u001b[0m\u001b[0;34m\u001b[0m\u001b[0;34m\u001b[0m\u001b[0m\n\u001b[1;32m     22\u001b[0m                       \u001b[0mbatch_size\u001b[0m\u001b[0;34m=\u001b[0m\u001b[0;36m16\u001b[0m\u001b[0;34m,\u001b[0m\u001b[0;34m\u001b[0m\u001b[0;34m\u001b[0m\u001b[0m\n\u001b[0;32m---> 23\u001b[0;31m                       callbacks=[early_stopping,tensorboard,checkpoint])\n\u001b[0m\u001b[1;32m     24\u001b[0m   \u001b[0;32mreturn\u001b[0m \u001b[0mhistory\u001b[0m\u001b[0;34m\u001b[0m\u001b[0;34m\u001b[0m\u001b[0m\n\u001b[1;32m     25\u001b[0m \u001b[0;34m\u001b[0m\u001b[0m\n",
      "\u001b[0;32m/usr/local/lib/python3.6/site-packages/keras/engine/training.py\u001b[0m in \u001b[0;36mfit\u001b[0;34m(self, x, y, batch_size, epochs, verbose, callbacks, validation_split, validation_data, shuffle, class_weight, sample_weight, initial_epoch, steps_per_epoch, validation_steps, validation_batch_size, validation_freq, max_queue_size, workers, use_multiprocessing)\u001b[0m\n\u001b[1;32m   1187\u001b[0m               \u001b[0mlogs\u001b[0m \u001b[0;34m=\u001b[0m \u001b[0mtmp_logs\u001b[0m  \u001b[0;31m# No error, now safe to assign to logs.\u001b[0m\u001b[0;34m\u001b[0m\u001b[0;34m\u001b[0m\u001b[0m\n\u001b[1;32m   1188\u001b[0m               \u001b[0mend_step\u001b[0m \u001b[0;34m=\u001b[0m \u001b[0mstep\u001b[0m \u001b[0;34m+\u001b[0m \u001b[0mdata_handler\u001b[0m\u001b[0;34m.\u001b[0m\u001b[0mstep_increment\u001b[0m\u001b[0;34m\u001b[0m\u001b[0;34m\u001b[0m\u001b[0m\n\u001b[0;32m-> 1189\u001b[0;31m               \u001b[0mcallbacks\u001b[0m\u001b[0;34m.\u001b[0m\u001b[0mon_train_batch_end\u001b[0m\u001b[0;34m(\u001b[0m\u001b[0mend_step\u001b[0m\u001b[0;34m,\u001b[0m \u001b[0mlogs\u001b[0m\u001b[0;34m)\u001b[0m\u001b[0;34m\u001b[0m\u001b[0;34m\u001b[0m\u001b[0m\n\u001b[0m\u001b[1;32m   1190\u001b[0m               \u001b[0;32mif\u001b[0m \u001b[0mself\u001b[0m\u001b[0;34m.\u001b[0m\u001b[0mstop_training\u001b[0m\u001b[0;34m:\u001b[0m\u001b[0;34m\u001b[0m\u001b[0;34m\u001b[0m\u001b[0m\n\u001b[1;32m   1191\u001b[0m                 \u001b[0;32mbreak\u001b[0m\u001b[0;34m\u001b[0m\u001b[0;34m\u001b[0m\u001b[0m\n",
      "\u001b[0;32m/usr/local/lib/python3.6/site-packages/keras/callbacks.py\u001b[0m in \u001b[0;36mon_train_batch_end\u001b[0;34m(self, batch, logs)\u001b[0m\n\u001b[1;32m    433\u001b[0m     \"\"\"\n\u001b[1;32m    434\u001b[0m     \u001b[0;32mif\u001b[0m \u001b[0mself\u001b[0m\u001b[0;34m.\u001b[0m\u001b[0m_should_call_train_batch_hooks\u001b[0m\u001b[0;34m:\u001b[0m\u001b[0;34m\u001b[0m\u001b[0;34m\u001b[0m\u001b[0m\n\u001b[0;32m--> 435\u001b[0;31m       \u001b[0mself\u001b[0m\u001b[0;34m.\u001b[0m\u001b[0m_call_batch_hook\u001b[0m\u001b[0;34m(\u001b[0m\u001b[0mModeKeys\u001b[0m\u001b[0;34m.\u001b[0m\u001b[0mTRAIN\u001b[0m\u001b[0;34m,\u001b[0m \u001b[0;34m'end'\u001b[0m\u001b[0;34m,\u001b[0m \u001b[0mbatch\u001b[0m\u001b[0;34m,\u001b[0m \u001b[0mlogs\u001b[0m\u001b[0;34m=\u001b[0m\u001b[0mlogs\u001b[0m\u001b[0;34m)\u001b[0m\u001b[0;34m\u001b[0m\u001b[0;34m\u001b[0m\u001b[0m\n\u001b[0m\u001b[1;32m    436\u001b[0m \u001b[0;34m\u001b[0m\u001b[0m\n\u001b[1;32m    437\u001b[0m   \u001b[0;32mdef\u001b[0m \u001b[0mon_test_batch_begin\u001b[0m\u001b[0;34m(\u001b[0m\u001b[0mself\u001b[0m\u001b[0;34m,\u001b[0m \u001b[0mbatch\u001b[0m\u001b[0;34m,\u001b[0m \u001b[0mlogs\u001b[0m\u001b[0;34m=\u001b[0m\u001b[0;32mNone\u001b[0m\u001b[0;34m)\u001b[0m\u001b[0;34m:\u001b[0m\u001b[0;34m\u001b[0m\u001b[0;34m\u001b[0m\u001b[0m\n",
      "\u001b[0;32m/usr/local/lib/python3.6/site-packages/keras/callbacks.py\u001b[0m in \u001b[0;36m_call_batch_hook\u001b[0;34m(self, mode, hook, batch, logs)\u001b[0m\n\u001b[1;32m    293\u001b[0m       \u001b[0mself\u001b[0m\u001b[0;34m.\u001b[0m\u001b[0m_call_batch_begin_hook\u001b[0m\u001b[0;34m(\u001b[0m\u001b[0mmode\u001b[0m\u001b[0;34m,\u001b[0m \u001b[0mbatch\u001b[0m\u001b[0;34m,\u001b[0m \u001b[0mlogs\u001b[0m\u001b[0;34m)\u001b[0m\u001b[0;34m\u001b[0m\u001b[0;34m\u001b[0m\u001b[0m\n\u001b[1;32m    294\u001b[0m     \u001b[0;32melif\u001b[0m \u001b[0mhook\u001b[0m \u001b[0;34m==\u001b[0m \u001b[0;34m'end'\u001b[0m\u001b[0;34m:\u001b[0m\u001b[0;34m\u001b[0m\u001b[0;34m\u001b[0m\u001b[0m\n\u001b[0;32m--> 295\u001b[0;31m       \u001b[0mself\u001b[0m\u001b[0;34m.\u001b[0m\u001b[0m_call_batch_end_hook\u001b[0m\u001b[0;34m(\u001b[0m\u001b[0mmode\u001b[0m\u001b[0;34m,\u001b[0m \u001b[0mbatch\u001b[0m\u001b[0;34m,\u001b[0m \u001b[0mlogs\u001b[0m\u001b[0;34m)\u001b[0m\u001b[0;34m\u001b[0m\u001b[0;34m\u001b[0m\u001b[0m\n\u001b[0m\u001b[1;32m    296\u001b[0m     \u001b[0;32melse\u001b[0m\u001b[0;34m:\u001b[0m\u001b[0;34m\u001b[0m\u001b[0;34m\u001b[0m\u001b[0m\n\u001b[1;32m    297\u001b[0m       \u001b[0;32mraise\u001b[0m \u001b[0mValueError\u001b[0m\u001b[0;34m(\u001b[0m\u001b[0;34m'Unrecognized hook: {}'\u001b[0m\u001b[0;34m.\u001b[0m\u001b[0mformat\u001b[0m\u001b[0;34m(\u001b[0m\u001b[0mhook\u001b[0m\u001b[0;34m)\u001b[0m\u001b[0;34m)\u001b[0m\u001b[0;34m\u001b[0m\u001b[0;34m\u001b[0m\u001b[0m\n",
      "\u001b[0;32m/usr/local/lib/python3.6/site-packages/keras/callbacks.py\u001b[0m in \u001b[0;36m_call_batch_end_hook\u001b[0;34m(self, mode, batch, logs)\u001b[0m\n\u001b[1;32m    313\u001b[0m       \u001b[0mself\u001b[0m\u001b[0;34m.\u001b[0m\u001b[0m_batch_times\u001b[0m\u001b[0;34m.\u001b[0m\u001b[0mappend\u001b[0m\u001b[0;34m(\u001b[0m\u001b[0mbatch_time\u001b[0m\u001b[0;34m)\u001b[0m\u001b[0;34m\u001b[0m\u001b[0;34m\u001b[0m\u001b[0m\n\u001b[1;32m    314\u001b[0m \u001b[0;34m\u001b[0m\u001b[0m\n\u001b[0;32m--> 315\u001b[0;31m     \u001b[0mself\u001b[0m\u001b[0;34m.\u001b[0m\u001b[0m_call_batch_hook_helper\u001b[0m\u001b[0;34m(\u001b[0m\u001b[0mhook_name\u001b[0m\u001b[0;34m,\u001b[0m \u001b[0mbatch\u001b[0m\u001b[0;34m,\u001b[0m \u001b[0mlogs\u001b[0m\u001b[0;34m)\u001b[0m\u001b[0;34m\u001b[0m\u001b[0;34m\u001b[0m\u001b[0m\n\u001b[0m\u001b[1;32m    316\u001b[0m \u001b[0;34m\u001b[0m\u001b[0m\n\u001b[1;32m    317\u001b[0m     \u001b[0;32mif\u001b[0m \u001b[0mlen\u001b[0m\u001b[0;34m(\u001b[0m\u001b[0mself\u001b[0m\u001b[0;34m.\u001b[0m\u001b[0m_batch_times\u001b[0m\u001b[0;34m)\u001b[0m \u001b[0;34m>=\u001b[0m \u001b[0mself\u001b[0m\u001b[0;34m.\u001b[0m\u001b[0m_num_batches_for_timing_check\u001b[0m\u001b[0;34m:\u001b[0m\u001b[0;34m\u001b[0m\u001b[0;34m\u001b[0m\u001b[0m\n",
      "\u001b[0;32m/usr/local/lib/python3.6/site-packages/keras/callbacks.py\u001b[0m in \u001b[0;36m_call_batch_hook_helper\u001b[0;34m(self, hook_name, batch, logs)\u001b[0m\n\u001b[1;32m    351\u001b[0m     \u001b[0;32mfor\u001b[0m \u001b[0mcallback\u001b[0m \u001b[0;32min\u001b[0m \u001b[0mself\u001b[0m\u001b[0;34m.\u001b[0m\u001b[0mcallbacks\u001b[0m\u001b[0;34m:\u001b[0m\u001b[0;34m\u001b[0m\u001b[0;34m\u001b[0m\u001b[0m\n\u001b[1;32m    352\u001b[0m       \u001b[0mhook\u001b[0m \u001b[0;34m=\u001b[0m \u001b[0mgetattr\u001b[0m\u001b[0;34m(\u001b[0m\u001b[0mcallback\u001b[0m\u001b[0;34m,\u001b[0m \u001b[0mhook_name\u001b[0m\u001b[0;34m)\u001b[0m\u001b[0;34m\u001b[0m\u001b[0;34m\u001b[0m\u001b[0m\n\u001b[0;32m--> 353\u001b[0;31m       \u001b[0mhook\u001b[0m\u001b[0;34m(\u001b[0m\u001b[0mbatch\u001b[0m\u001b[0;34m,\u001b[0m \u001b[0mlogs\u001b[0m\u001b[0;34m)\u001b[0m\u001b[0;34m\u001b[0m\u001b[0;34m\u001b[0m\u001b[0m\n\u001b[0m\u001b[1;32m    354\u001b[0m \u001b[0;34m\u001b[0m\u001b[0m\n\u001b[1;32m    355\u001b[0m     \u001b[0;32mif\u001b[0m \u001b[0mself\u001b[0m\u001b[0;34m.\u001b[0m\u001b[0m_check_timing\u001b[0m\u001b[0;34m:\u001b[0m\u001b[0;34m\u001b[0m\u001b[0;34m\u001b[0m\u001b[0m\n",
      "\u001b[0;32m/usr/local/lib/python3.6/site-packages/keras/callbacks.py\u001b[0m in \u001b[0;36mon_train_batch_end\u001b[0;34m(self, batch, logs)\u001b[0m\n\u001b[1;32m   1026\u001b[0m \u001b[0;34m\u001b[0m\u001b[0m\n\u001b[1;32m   1027\u001b[0m   \u001b[0;32mdef\u001b[0m \u001b[0mon_train_batch_end\u001b[0m\u001b[0;34m(\u001b[0m\u001b[0mself\u001b[0m\u001b[0;34m,\u001b[0m \u001b[0mbatch\u001b[0m\u001b[0;34m,\u001b[0m \u001b[0mlogs\u001b[0m\u001b[0;34m=\u001b[0m\u001b[0;32mNone\u001b[0m\u001b[0;34m)\u001b[0m\u001b[0;34m:\u001b[0m\u001b[0;34m\u001b[0m\u001b[0;34m\u001b[0m\u001b[0m\n\u001b[0;32m-> 1028\u001b[0;31m     \u001b[0mself\u001b[0m\u001b[0;34m.\u001b[0m\u001b[0m_batch_update_progbar\u001b[0m\u001b[0;34m(\u001b[0m\u001b[0mbatch\u001b[0m\u001b[0;34m,\u001b[0m \u001b[0mlogs\u001b[0m\u001b[0;34m)\u001b[0m\u001b[0;34m\u001b[0m\u001b[0;34m\u001b[0m\u001b[0m\n\u001b[0m\u001b[1;32m   1029\u001b[0m \u001b[0;34m\u001b[0m\u001b[0m\n\u001b[1;32m   1030\u001b[0m   \u001b[0;32mdef\u001b[0m \u001b[0mon_test_batch_end\u001b[0m\u001b[0;34m(\u001b[0m\u001b[0mself\u001b[0m\u001b[0;34m,\u001b[0m \u001b[0mbatch\u001b[0m\u001b[0;34m,\u001b[0m \u001b[0mlogs\u001b[0m\u001b[0;34m=\u001b[0m\u001b[0;32mNone\u001b[0m\u001b[0;34m)\u001b[0m\u001b[0;34m:\u001b[0m\u001b[0;34m\u001b[0m\u001b[0;34m\u001b[0m\u001b[0m\n",
      "\u001b[0;32m/usr/local/lib/python3.6/site-packages/keras/callbacks.py\u001b[0m in \u001b[0;36m_batch_update_progbar\u001b[0;34m(self, batch, logs)\u001b[0m\n\u001b[1;32m   1098\u001b[0m     \u001b[0;32mif\u001b[0m \u001b[0mself\u001b[0m\u001b[0;34m.\u001b[0m\u001b[0mverbose\u001b[0m \u001b[0;34m==\u001b[0m \u001b[0;36m1\u001b[0m\u001b[0;34m:\u001b[0m\u001b[0;34m\u001b[0m\u001b[0;34m\u001b[0m\u001b[0m\n\u001b[1;32m   1099\u001b[0m       \u001b[0;31m# Only block async when verbose = 1.\u001b[0m\u001b[0;34m\u001b[0m\u001b[0;34m\u001b[0m\u001b[0;34m\u001b[0m\u001b[0m\n\u001b[0;32m-> 1100\u001b[0;31m       \u001b[0mlogs\u001b[0m \u001b[0;34m=\u001b[0m \u001b[0mtf_utils\u001b[0m\u001b[0;34m.\u001b[0m\u001b[0msync_to_numpy_or_python_type\u001b[0m\u001b[0;34m(\u001b[0m\u001b[0mlogs\u001b[0m\u001b[0;34m)\u001b[0m\u001b[0;34m\u001b[0m\u001b[0;34m\u001b[0m\u001b[0m\n\u001b[0m\u001b[1;32m   1101\u001b[0m       \u001b[0mself\u001b[0m\u001b[0;34m.\u001b[0m\u001b[0mprogbar\u001b[0m\u001b[0;34m.\u001b[0m\u001b[0mupdate\u001b[0m\u001b[0;34m(\u001b[0m\u001b[0mself\u001b[0m\u001b[0;34m.\u001b[0m\u001b[0mseen\u001b[0m\u001b[0;34m,\u001b[0m \u001b[0mlist\u001b[0m\u001b[0;34m(\u001b[0m\u001b[0mlogs\u001b[0m\u001b[0;34m.\u001b[0m\u001b[0mitems\u001b[0m\u001b[0;34m(\u001b[0m\u001b[0;34m)\u001b[0m\u001b[0;34m)\u001b[0m\u001b[0;34m,\u001b[0m \u001b[0mfinalize\u001b[0m\u001b[0;34m=\u001b[0m\u001b[0;32mFalse\u001b[0m\u001b[0;34m)\u001b[0m\u001b[0;34m\u001b[0m\u001b[0;34m\u001b[0m\u001b[0m\n\u001b[1;32m   1102\u001b[0m \u001b[0;34m\u001b[0m\u001b[0m\n",
      "\u001b[0;32m/usr/local/lib/python3.6/site-packages/keras/utils/tf_utils.py\u001b[0m in \u001b[0;36msync_to_numpy_or_python_type\u001b[0;34m(tensors)\u001b[0m\n\u001b[1;32m    514\u001b[0m     \u001b[0;32mreturn\u001b[0m \u001b[0mt\u001b[0m  \u001b[0;31m# Don't turn ragged or sparse tensors to NumPy.\u001b[0m\u001b[0;34m\u001b[0m\u001b[0;34m\u001b[0m\u001b[0m\n\u001b[1;32m    515\u001b[0m \u001b[0;34m\u001b[0m\u001b[0m\n\u001b[0;32m--> 516\u001b[0;31m   \u001b[0;32mreturn\u001b[0m \u001b[0mtf\u001b[0m\u001b[0;34m.\u001b[0m\u001b[0mnest\u001b[0m\u001b[0;34m.\u001b[0m\u001b[0mmap_structure\u001b[0m\u001b[0;34m(\u001b[0m\u001b[0m_to_single_numpy_or_python_type\u001b[0m\u001b[0;34m,\u001b[0m \u001b[0mtensors\u001b[0m\u001b[0;34m)\u001b[0m\u001b[0;34m\u001b[0m\u001b[0;34m\u001b[0m\u001b[0m\n\u001b[0m\u001b[1;32m    517\u001b[0m \u001b[0;34m\u001b[0m\u001b[0m\n\u001b[1;32m    518\u001b[0m \u001b[0;34m\u001b[0m\u001b[0m\n",
      "\u001b[0;32m/usr/local/lib64/python3.6/site-packages/tensorflow/python/util/nest.py\u001b[0m in \u001b[0;36mmap_structure\u001b[0;34m(func, *structure, **kwargs)\u001b[0m\n\u001b[1;32m    867\u001b[0m \u001b[0;34m\u001b[0m\u001b[0m\n\u001b[1;32m    868\u001b[0m   return pack_sequence_as(\n\u001b[0;32m--> 869\u001b[0;31m       \u001b[0mstructure\u001b[0m\u001b[0;34m[\u001b[0m\u001b[0;36m0\u001b[0m\u001b[0;34m]\u001b[0m\u001b[0;34m,\u001b[0m \u001b[0;34m[\u001b[0m\u001b[0mfunc\u001b[0m\u001b[0;34m(\u001b[0m\u001b[0;34m*\u001b[0m\u001b[0mx\u001b[0m\u001b[0;34m)\u001b[0m \u001b[0;32mfor\u001b[0m \u001b[0mx\u001b[0m \u001b[0;32min\u001b[0m \u001b[0mentries\u001b[0m\u001b[0;34m]\u001b[0m\u001b[0;34m,\u001b[0m\u001b[0;34m\u001b[0m\u001b[0;34m\u001b[0m\u001b[0m\n\u001b[0m\u001b[1;32m    870\u001b[0m       expand_composites=expand_composites)\n\u001b[1;32m    871\u001b[0m \u001b[0;34m\u001b[0m\u001b[0m\n",
      "\u001b[0;32m/usr/local/lib64/python3.6/site-packages/tensorflow/python/util/nest.py\u001b[0m in \u001b[0;36m<listcomp>\u001b[0;34m(.0)\u001b[0m\n\u001b[1;32m    867\u001b[0m \u001b[0;34m\u001b[0m\u001b[0m\n\u001b[1;32m    868\u001b[0m   return pack_sequence_as(\n\u001b[0;32m--> 869\u001b[0;31m       \u001b[0mstructure\u001b[0m\u001b[0;34m[\u001b[0m\u001b[0;36m0\u001b[0m\u001b[0;34m]\u001b[0m\u001b[0;34m,\u001b[0m \u001b[0;34m[\u001b[0m\u001b[0mfunc\u001b[0m\u001b[0;34m(\u001b[0m\u001b[0;34m*\u001b[0m\u001b[0mx\u001b[0m\u001b[0;34m)\u001b[0m \u001b[0;32mfor\u001b[0m \u001b[0mx\u001b[0m \u001b[0;32min\u001b[0m \u001b[0mentries\u001b[0m\u001b[0;34m]\u001b[0m\u001b[0;34m,\u001b[0m\u001b[0;34m\u001b[0m\u001b[0;34m\u001b[0m\u001b[0m\n\u001b[0m\u001b[1;32m    870\u001b[0m       expand_composites=expand_composites)\n\u001b[1;32m    871\u001b[0m \u001b[0;34m\u001b[0m\u001b[0m\n",
      "\u001b[0;32m/usr/local/lib/python3.6/site-packages/keras/utils/tf_utils.py\u001b[0m in \u001b[0;36m_to_single_numpy_or_python_type\u001b[0;34m(t)\u001b[0m\n\u001b[1;32m    510\u001b[0m   \u001b[0;32mdef\u001b[0m \u001b[0m_to_single_numpy_or_python_type\u001b[0m\u001b[0;34m(\u001b[0m\u001b[0mt\u001b[0m\u001b[0;34m)\u001b[0m\u001b[0;34m:\u001b[0m\u001b[0;34m\u001b[0m\u001b[0;34m\u001b[0m\u001b[0m\n\u001b[1;32m    511\u001b[0m     \u001b[0;32mif\u001b[0m \u001b[0misinstance\u001b[0m\u001b[0;34m(\u001b[0m\u001b[0mt\u001b[0m\u001b[0;34m,\u001b[0m \u001b[0mtf\u001b[0m\u001b[0;34m.\u001b[0m\u001b[0mTensor\u001b[0m\u001b[0;34m)\u001b[0m\u001b[0;34m:\u001b[0m\u001b[0;34m\u001b[0m\u001b[0;34m\u001b[0m\u001b[0m\n\u001b[0;32m--> 512\u001b[0;31m       \u001b[0mx\u001b[0m \u001b[0;34m=\u001b[0m \u001b[0mt\u001b[0m\u001b[0;34m.\u001b[0m\u001b[0mnumpy\u001b[0m\u001b[0;34m(\u001b[0m\u001b[0;34m)\u001b[0m\u001b[0;34m\u001b[0m\u001b[0;34m\u001b[0m\u001b[0m\n\u001b[0m\u001b[1;32m    513\u001b[0m       \u001b[0;32mreturn\u001b[0m \u001b[0mx\u001b[0m\u001b[0;34m.\u001b[0m\u001b[0mitem\u001b[0m\u001b[0;34m(\u001b[0m\u001b[0;34m)\u001b[0m \u001b[0;32mif\u001b[0m \u001b[0mnp\u001b[0m\u001b[0;34m.\u001b[0m\u001b[0mndim\u001b[0m\u001b[0;34m(\u001b[0m\u001b[0mx\u001b[0m\u001b[0;34m)\u001b[0m \u001b[0;34m==\u001b[0m \u001b[0;36m0\u001b[0m \u001b[0;32melse\u001b[0m \u001b[0mx\u001b[0m\u001b[0;34m\u001b[0m\u001b[0;34m\u001b[0m\u001b[0m\n\u001b[1;32m    514\u001b[0m     \u001b[0;32mreturn\u001b[0m \u001b[0mt\u001b[0m  \u001b[0;31m# Don't turn ragged or sparse tensors to NumPy.\u001b[0m\u001b[0;34m\u001b[0m\u001b[0;34m\u001b[0m\u001b[0m\n",
      "\u001b[0;32m/usr/local/lib64/python3.6/site-packages/tensorflow/python/framework/ops.py\u001b[0m in \u001b[0;36mnumpy\u001b[0;34m(self)\u001b[0m\n\u001b[1;32m   1092\u001b[0m     \"\"\"\n\u001b[1;32m   1093\u001b[0m     \u001b[0;31m# TODO(slebedev): Consider avoiding a copy for non-CPU or remote tensors.\u001b[0m\u001b[0;34m\u001b[0m\u001b[0;34m\u001b[0m\u001b[0;34m\u001b[0m\u001b[0m\n\u001b[0;32m-> 1094\u001b[0;31m     \u001b[0mmaybe_arr\u001b[0m \u001b[0;34m=\u001b[0m \u001b[0mself\u001b[0m\u001b[0;34m.\u001b[0m\u001b[0m_numpy\u001b[0m\u001b[0;34m(\u001b[0m\u001b[0;34m)\u001b[0m  \u001b[0;31m# pylint: disable=protected-access\u001b[0m\u001b[0;34m\u001b[0m\u001b[0;34m\u001b[0m\u001b[0m\n\u001b[0m\u001b[1;32m   1095\u001b[0m     \u001b[0;32mreturn\u001b[0m \u001b[0mmaybe_arr\u001b[0m\u001b[0;34m.\u001b[0m\u001b[0mcopy\u001b[0m\u001b[0;34m(\u001b[0m\u001b[0;34m)\u001b[0m \u001b[0;32mif\u001b[0m \u001b[0misinstance\u001b[0m\u001b[0;34m(\u001b[0m\u001b[0mmaybe_arr\u001b[0m\u001b[0;34m,\u001b[0m \u001b[0mnp\u001b[0m\u001b[0;34m.\u001b[0m\u001b[0mndarray\u001b[0m\u001b[0;34m)\u001b[0m \u001b[0;32melse\u001b[0m \u001b[0mmaybe_arr\u001b[0m\u001b[0;34m\u001b[0m\u001b[0;34m\u001b[0m\u001b[0m\n\u001b[1;32m   1096\u001b[0m \u001b[0;34m\u001b[0m\u001b[0m\n",
      "\u001b[0;32m/usr/local/lib64/python3.6/site-packages/tensorflow/python/framework/ops.py\u001b[0m in \u001b[0;36m_numpy\u001b[0;34m(self)\u001b[0m\n\u001b[1;32m   1058\u001b[0m   \u001b[0;32mdef\u001b[0m \u001b[0m_numpy\u001b[0m\u001b[0;34m(\u001b[0m\u001b[0mself\u001b[0m\u001b[0;34m)\u001b[0m\u001b[0;34m:\u001b[0m\u001b[0;34m\u001b[0m\u001b[0;34m\u001b[0m\u001b[0m\n\u001b[1;32m   1059\u001b[0m     \u001b[0;32mtry\u001b[0m\u001b[0;34m:\u001b[0m\u001b[0;34m\u001b[0m\u001b[0;34m\u001b[0m\u001b[0m\n\u001b[0;32m-> 1060\u001b[0;31m       \u001b[0;32mreturn\u001b[0m \u001b[0mself\u001b[0m\u001b[0;34m.\u001b[0m\u001b[0m_numpy_internal\u001b[0m\u001b[0;34m(\u001b[0m\u001b[0;34m)\u001b[0m\u001b[0;34m\u001b[0m\u001b[0;34m\u001b[0m\u001b[0m\n\u001b[0m\u001b[1;32m   1061\u001b[0m     \u001b[0;32mexcept\u001b[0m \u001b[0mcore\u001b[0m\u001b[0;34m.\u001b[0m\u001b[0m_NotOkStatusException\u001b[0m \u001b[0;32mas\u001b[0m \u001b[0me\u001b[0m\u001b[0;34m:\u001b[0m  \u001b[0;31m# pylint: disable=protected-access\u001b[0m\u001b[0;34m\u001b[0m\u001b[0;34m\u001b[0m\u001b[0m\n\u001b[1;32m   1062\u001b[0m       \u001b[0msix\u001b[0m\u001b[0;34m.\u001b[0m\u001b[0mraise_from\u001b[0m\u001b[0;34m(\u001b[0m\u001b[0mcore\u001b[0m\u001b[0;34m.\u001b[0m\u001b[0m_status_to_exception\u001b[0m\u001b[0;34m(\u001b[0m\u001b[0me\u001b[0m\u001b[0;34m.\u001b[0m\u001b[0mcode\u001b[0m\u001b[0;34m,\u001b[0m \u001b[0me\u001b[0m\u001b[0;34m.\u001b[0m\u001b[0mmessage\u001b[0m\u001b[0;34m)\u001b[0m\u001b[0;34m,\u001b[0m \u001b[0;32mNone\u001b[0m\u001b[0;34m)\u001b[0m  \u001b[0;31m# pylint: disable=protected-access\u001b[0m\u001b[0;34m\u001b[0m\u001b[0;34m\u001b[0m\u001b[0m\n",
      "\u001b[0;31mKeyboardInterrupt\u001b[0m: "
     ]
    }
   ],
   "source": [
    "%%time\n",
    "history = compile_and_fit(lstm_model, \"LSTM_bigger\",wide_window,patience = inf)\n",
    "\n",
    "IPython.display.clear_output()\n",
    "\n",
    "val_performance['LSTM'] = lstm_model.evaluate(wide_window.val)\n",
    "performance['LSTM'] = lstm_model.evaluate(wide_window.test, verbose=0)"
   ]
  },
  {
   "cell_type": "code",
   "execution_count": 27,
   "metadata": {},
   "outputs": [
    {
     "data": {
      "image/png": "[encoded data removed]",
      "text/plain": [
       "<Figure size 864x576 with 3 Axes>"
      ]
     },
     "metadata": {
      "needs_background": "light"
     },
     "output_type": "display_data"
    }
   ],
   "source": [
    "wide_window.plot(lstm_model)"
   ]
  },
  {
   "cell_type": "markdown",
   "metadata": {},
   "source": [
    "# MULTIPLE WINDOW"
   ]
  },
  {
   "cell_type": "code",
   "execution_count": 38,
   "metadata": {},
   "outputs": [
    {
     "data": {
      "text/plain": [
       "Total window size: 39\n",
       "Input indices: [ 0  1  2  3  4  5  6  7  8  9 10 11 12 13 14 15 16 17 18 19 20 21 22 23]\n",
       "Label indices: [24 25 26 27 28 29 30 31 32 33 34 35 36 37 38]"
      ]
     },
     "execution_count": 38,
     "metadata": {},
     "output_type": "execute_result"
    },
    {
     "data": {
      "image/png": "[encoded data removed]",
      "text/plain": [
       "<Figure size 864x576 with 3 Axes>"
      ]
     },
     "metadata": {
      "needs_background": "light"
     },
     "output_type": "display_data"
    }
   ],
   "source": [
    "OUT_STEPS = 15\n",
    "multi_window = WindowGenerator(input_width=24,\n",
    "                               label_width=OUT_STEPS,\n",
    "                               shift=OUT_STEPS)\n",
    "\n",
    "multi_window.plot()\n",
    "multi_window"
   ]
  },
  {
   "cell_type": "code",
   "execution_count": 39,
   "metadata": {},
   "outputs": [],
   "source": [
    "class FeedBack(tf.keras.Model):\n",
    "  def __init__(self, units, out_steps):\n",
    "    super().__init__()\n",
    "    self.out_steps = out_steps\n",
    "    self.units = units\n",
    "\n",
    "    self.l1 = LSTM(units, activation='tanh', return_sequences=True,return_state=True,name = \"LSTM1\")\n",
    "    self.l2 = LeakyReLU(alpha=0.4,name = \"LR1\")\n",
    "    self.l3 = LSTM(units, activation='tanh', return_sequences=True,return_state=True,name = \"LSTM2\")\n",
    "    self.l4 = LeakyReLU(alpha=0.4,name = \"LR2\")\n",
    "    self.l5 = Flatten(name = \"Flat\")\n",
    "    self.l6 = Dense(units,activation=None, use_bias=True,name=\"Dense1\")\n",
    "    self.l7 = LeakyReLU(alpha=0.4,name = \"LR3\")\n",
    "    self.l8 = Dense(units=1,name=\"Output\")\n",
    "\n"
   ]
  },
  {
   "cell_type": "code",
   "execution_count": 40,
   "metadata": {},
   "outputs": [],
   "source": [
    "feedback_model = FeedBack(units=256, out_steps=OUT_STEPS)"
   ]
  },
  {
   "cell_type": "code",
   "execution_count": 41,
   "metadata": {},
   "outputs": [],
   "source": [
    "def warmup(self, inputs):\n",
    "  inp = inputs                                 #Input        => inputs.shape      => (batch, time, features)\n",
    "  x, *carry_state1 = self.l1(inp) #LSTM 1       => x.shape           => (batch, timesteps,lstm_units)\n",
    "  x = self.l2(x)                               #LEAKY RELU 1 => x.shape           => (batch, timesteps,lstm_units)\n",
    "  x, *carry_state2  = self.l3(x)  #LSTM_2       => x.shape           => (batch, timesteps,lstm_units)\n",
    "  x = self.l4(x)                               #Leaky_ReLU_2 => x.shape           => (batch, timesteps,lstm_units)\n",
    "  x = self.l5(x)                               #Flatten      => x.shape           => (batch, timesteps * lstm_units)\n",
    "  x = self.l6(x)                               #Dense_1      => x.shape           => (batch, lstm_units)\n",
    "  x = self.l7(x)                               #Leaky_ReLU_3 => x.shape           => (batch, lstm_units)\n",
    "  prediction = self.l8(x)                      #Dense_2      => predictions.shape => (batch, 1)\n",
    "  \n",
    "  return prediction , carry_state1 ,carry_state2\n",
    "\n",
    "FeedBack.warmup = warmup"
   ]
  },
  {
   "cell_type": "code",
   "execution_count": 42,
   "metadata": {},
   "outputs": [
    {
     "name": "stdout",
     "output_type": "stream",
     "text": [
      "Input shape: (700, 24, 1)\n",
      "Output shape: (700, 1)\n"
     ]
    }
   ],
   "source": [
    "prediction, state1, state2 = feedback_model.warmup(multi_window.example[0])\n",
    "print('Input shape:', multi_window.example[0].shape)\n",
    "print('Output shape:', prediction.shape)"
   ]
  },
  {
   "cell_type": "code",
   "execution_count": 43,
   "metadata": {},
   "outputs": [],
   "source": [
    "def call(self, inputs, training=None):\n",
    "  # Use a TensorArray to capture dynamically unrolled outputs.\n",
    "  predictions = inputs\n",
    "  # Initialize the LSTM state.\n",
    "  prediction, carry_state1, carry_state2 = self.warmup(inputs)\n",
    "  # Insert the first prediction.\n",
    "  predictions = tf.concat(axis=1, values = [predictions,tf.expand_dims(prediction,axis=2)]) # <<<< note the cast\n",
    "  # Run the rest of the prediction steps.\n",
    "  for n in range(1, self.out_steps):\n",
    "    # Use the last prediction as input.\n",
    "    inp = predictions[:,n:,:]\n",
    "    # Execute one lstm step.\n",
    "    x, *carry_state1 = self.l1(inp , initial_state= [*carry_state1],\n",
    "                                            training=training) #LSTM\n",
    "    x = self.l2(x) #LEAKY RELU\n",
    "    x, *carry_state2 = self.l3(x, initial_state= [*carry_state2], \n",
    "                                            training=training) #LSTM\n",
    "    x = self.l4(x) #LEAKY RELU\n",
    "    x = self.l5(x) #FLATEN\n",
    "    x = self.l6(x) #DENSE/\n",
    "    x = self.l7(x) #LEAKY RELU\n",
    "    prediction = self.l8(x) #DENSELOL\n",
    "\n",
    "    predictions = tf.concat(axis=1, values = [predictions,tf.expand_dims(prediction,axis=2)]) # <<<< note the cast\n",
    "\n",
    "  # predictions.shape => (time, batch, features)\n",
    "  return predictions[:,-OUT_STEPS:,:]\n",
    "\n",
    "FeedBack.call = call"
   ]
  },
  {
   "cell_type": "code",
   "execution_count": 44,
   "metadata": {},
   "outputs": [
    {
     "name": "stdout",
     "output_type": "stream",
     "text": [
      "Output shape (batch, time, features):  (700, 15, 1)\n"
     ]
    }
   ],
   "source": [
    "print('Output shape (batch, time, features): ', feedback_model(multi_window.example[0]).shape)"
   ]
  },
  {
   "cell_type": "code",
   "execution_count": 45,
   "metadata": {},
   "outputs": [],
   "source": [
    "multi_val_performance = {}\n",
    "multi_performance = {}"
   ]
  },
  {
   "cell_type": "code",
   "execution_count": 46,
   "metadata": {},
   "outputs": [
    {
     "data": {
      "image/png": "[encoded data removed]",
      "text/plain": [
       "<Figure size 864x576 with 3 Axes>"
      ]
     },
     "metadata": {
      "needs_background": "light"
     },
     "output_type": "display_data"
    }
   ],
   "source": [
    "multi_window.plot(feedback_model)"
   ]
  },
  {
   "cell_type": "code",
   "execution_count": 47,
   "metadata": {},
   "outputs": [
    {
     "name": "stdout",
     "output_type": "stream",
     "text": [
      "Epoch 1/500\n"
     ]
    }
   ],
   "source": [
    "%%time\n",
    "history = compile_and_fit(feedback_model,\n",
    "                          name=\"LSTM_AR100_giannos\",\n",
    "                          window =multi_window, \n",
    "                          patience =50, \n",
    "                          MAX_EPOCHS=500)\n",
    "\n",
    "IPython.display.clear_output()\n",
    "\n",
    "multi_val_performance['AR LSTM'] = feedback_model.evaluate(multi_window.val)\n",
    "multi_performance['AR LSTM'] = feedback_model.evaluate(multi_window.test, verbose=0)"
   ]
  },
  {
   "cell_type": "code",
   "execution_count": null,
   "metadata": {},
   "outputs": [],
   "source": [
    "multi_window.plot(feedback_model)"
   ]
  }
 ],
 "metadata": {
  "interpreter": {
   "hash": "31f2aee4e71d21fbe5cf8b01ff0e069b9275f58929596ceb00d14d90e3e16cd6"
  },
  "kernelspec": {
   "display_name": "Python 3.6.8 64-bit",
   "language": "python",
   "name": "python3"
  },
  "language_info": {
   "codemirror_mode": {
    "name": "ipython",
    "version": 3
   },
   "file_extension": ".py",
   "mimetype": "text/x-python",
   "name": "python",
   "nbconvert_exporter": "python",
   "pygments_lexer": "ipython3",
   "version": "3.6.8"
  },
  "orig_nbformat": 4
 },
 "nbformat": 4,
 "nbformat_minor": 2
}
