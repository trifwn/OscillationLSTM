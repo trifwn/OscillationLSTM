{
 "cells": [
  {
   "cell_type": "markdown",
   "metadata": {},
   "source": [
    "# Imports"
   ]
  },
  {
   "cell_type": "code",
   "execution_count": null,
   "metadata": {},
   "outputs": [],
   "source": [
    "import os\n",
    "import time\n",
    "from datetime import datetime\n",
    "\n",
    "from threading import Thread\n",
    "import IPython\n",
    "import IPython.display\n",
    "\n",
    "import numpy as np\n",
    "from math import *\n",
    "\n",
    "import tensorflow as tf\n",
    "from tensorflow.keras.layers import LSTM, LeakyReLU ,Flatten , Dense\n",
    "\n",
    "import matplotlib.pyplot as plt\n",
    "from pltfigure import pltfigure"
   ]
  },
  {
   "cell_type": "code",
   "execution_count": 2,
   "metadata": {},
   "outputs": [
    {
     "name": "stdout",
     "output_type": "stream",
     "text": [
      "2.6.0\n"
     ]
    }
   ],
   "source": [
    "print(tf.__version__)"
   ]
  },
  {
   "cell_type": "code",
   "execution_count": 6,
   "metadata": {},
   "outputs": [
    {
     "data": {
      "text/plain": [
       "True"
      ]
     },
     "execution_count": 6,
     "metadata": {},
     "output_type": "execute_result"
    }
   ],
   "source": [
    "gpus = tf.config.experimental.list_physical_devices('GPU')\n",
    "if gpus:\n",
    "    try:\n",
    "        # Currently, memory growth needs to be the same across GPUs\n",
    "        for gpu in gpus:\n",
    "            tf.config.experimental.set_memory_growth(gpu, True)\n",
    "        logical_gpus = tf.config.experimental.list_logical_devices('GPU')\n",
    "        print(len(gpus), \"Physical GPUs,\", len(logical_gpus), \"Logical GPUs\")\n",
    "    except RuntimeError as e:\n",
    "        # Memory growth must be set before GPUs have been initialized\n",
    "        print(e)\n",
    "tf.test.is_built_with_cuda()"
   ]
  },
  {
   "cell_type": "code",
   "execution_count": 7,
   "metadata": {},
   "outputs": [
    {
     "data": {
      "text/plain": [
       "True"
      ]
     },
     "execution_count": 7,
     "metadata": {},
     "output_type": "execute_result"
    }
   ],
   "source": [
    "tf.executing_eagerly()"
   ]
  },
  {
   "cell_type": "markdown",
   "metadata": {},
   "source": [
    "# DATASET"
   ]
  },
  {
   "cell_type": "code",
   "execution_count": 8,
   "metadata": {},
   "outputs": [
    {
     "name": "stdout",
     "output_type": "stream",
     "text": [
      "(100, 4)\n"
     ]
    }
   ],
   "source": [
    "#This is parameter space\n",
    "# m*x''+c*x'+mx = 0\n",
    "# => x'' + 2jwx' +w^2 x =0 , j = c/(2wm) , w = sqrt(k/m)\n",
    "w = np.linspace(0.01, 1, 10)\n",
    "z = np.linspace(0.01, 0.99, 10)\n",
    "x0 = 1\n",
    "v0 = 0\n",
    "\n",
    "t = np.linspace(0.1, 100, 1000)\n",
    "\n",
    "\n",
    "inputData = np.array(np.meshgrid(w,z,x0,v0)).T.reshape(-1, 4)\n",
    "print(np.shape(inputData))"
   ]
  },
  {
   "cell_type": "code",
   "execution_count": 9,
   "metadata": {},
   "outputs": [],
   "source": [
    "def finalsolution(W,Z,X0,V0,T):\n",
    "    # final sol is x = e^(-zwt) (x0cos(wnt)+ ((v0+z*wn*x0)/wn)*sin(wnt)) wn = w sqrt(1-z**2)\n",
    "    WN = W * np.sqrt(1-Z**2)\n",
    "    try:\n",
    "        res = np.exp(-Z*W*T) * (X0*np.cos(WN*T) + ((V0 + Z *WN *X0)/WN)*np.sin(WN *T))\n",
    "    except RuntimeWarning as e:\n",
    "        print(WN)\n",
    "    finally:\n",
    "        return res \n",
    "\n",
    "x = list()\n",
    "\n",
    "for case in inputData:\n",
    "    x.append(finalsolution(case[0],case[1],case[2],case[3],t))\n",
    "Data = np.array(x)\n",
    "Data = np.swapaxes(Data,0,1)"
   ]
  },
  {
   "cell_type": "code",
   "execution_count": 10,
   "metadata": {},
   "outputs": [
    {
     "data": {
      "image/png": "[encoded data removed]",
      "text/plain": [
       "<Figure size 432x288 with 1 Axes>"
      ]
     },
     "metadata": {
      "needs_background": "light"
     },
     "output_type": "display_data"
    }
   ],
   "source": [
    "plt.plot(t,Data[:,32])\n",
    "plt.grid()"
   ]
  },
  {
   "cell_type": "code",
   "execution_count": 11,
   "metadata": {},
   "outputs": [
    {
     "name": "stdout",
     "output_type": "stream",
     "text": [
      "(100, 1000) (1000, 1000)\n"
     ]
    }
   ],
   "source": [
    "zeroline = np.zeros((np.shape(x)[1],len(t)))\n",
    "print(np.shape(x),np.shape(zeroline))\n",
    "#pltfigure(zeroline,x,t,\"Dataset\",\"Zeroline\",'dataset2.gif')"
   ]
  },
  {
   "cell_type": "markdown",
   "metadata": {},
   "source": [
    "# Split The Data"
   ]
  },
  {
   "cell_type": "markdown",
   "metadata": {},
   "source": [
    "You'll use a (70%, 20%, 10%) split for the training, validation, and test sets. Note the data is not being randomly shuffled before splitting. This is for two reasons:\n",
    "\n",
    "    It ensures that chopping the data into windows of consecutive samples is still possible.\n",
    "    It ensures that the validation/test results are more realistic, being evaluated on the data collected after the model was trained.\n"
   ]
  },
  {
   "cell_type": "code",
   "execution_count": 12,
   "metadata": {},
   "outputs": [],
   "source": [
    "n = Data.shape[1]\n",
    "train_df = Data[:, 0:int(n*0.7):]\n",
    "val_df = Data[:,int(n*0.7):int(n*0.9):]\n",
    "test_df = Data[:,int(n*0.9):]\n",
    "\n",
    "num_features = Data.shape[1]\n"
   ]
  },
  {
   "cell_type": "markdown",
   "metadata": {},
   "source": [
    "# Normalize Data"
   ]
  },
  {
   "cell_type": "code",
   "execution_count": 13,
   "metadata": {},
   "outputs": [],
   "source": [
    "train_mean = train_df.mean()\n",
    "train_std = train_df.std()\n",
    "\n",
    "train_df = (train_df - train_mean) / train_std\n",
    "val_df = (val_df - train_mean) / train_std\n",
    "test_df = (test_df - train_mean) / train_std"
   ]
  },
  {
   "cell_type": "code",
   "execution_count": 14,
   "metadata": {},
   "outputs": [
    {
     "data": {
      "text/plain": [
       "[<matplotlib.lines.Line2D at 0x7fbc3bedec88>]"
      ]
     },
     "execution_count": 14,
     "metadata": {},
     "output_type": "execute_result"
    },
    {
     "data": {
      "image/png": "[encoded data removed]",
      "text/plain": [
       "<Figure size 432x288 with 1 Axes>"
      ]
     },
     "metadata": {
      "needs_background": "light"
     },
     "output_type": "display_data"
    }
   ],
   "source": [
    "example_ind = 32\n",
    "plt.plot(t,train_df[:,example_ind])\n"
   ]
  },
  {
   "cell_type": "markdown",
   "metadata": {},
   "source": [
    "# Data Windowing"
   ]
  },
  {
   "cell_type": "code",
   "execution_count": 15,
   "metadata": {},
   "outputs": [],
   "source": [
    "class WindowGenerator():\n",
    "  def __init__(self, input_width, label_width, shift,\n",
    "               train_df=train_df, val_df=val_df, test_df=test_df):\n",
    "    # Store the raw data.\n",
    "    self.train_df = train_df\n",
    "    self.val_df = val_df\n",
    "    self.test_df = test_df\n",
    "\n",
    "\n",
    "    # Work out the window parameters.\n",
    "    self.input_width = input_width\n",
    "    self.label_width = label_width\n",
    "    self.shift = shift\n",
    "\n",
    "    self.total_window_size = input_width + shift\n",
    "\n",
    "    self.input_slice = slice(0, input_width)\n",
    "    self.input_indices = np.arange(self.total_window_size)[self.input_slice]\n",
    "\n",
    "    self.label_start = self.total_window_size - self.label_width\n",
    "    self.labels_slice = slice(self.label_start, None)\n",
    "    self.label_indices = np.arange(self.total_window_size)[self.labels_slice]\n",
    "\n",
    "  def __repr__(self):\n",
    "    return '\\n'.join([\n",
    "        f'Total window size: {self.total_window_size}',\n",
    "        f'Input indices: {self.input_indices}',\n",
    "        f'Label indices: {self.label_indices}'])\n",
    "\n",
    "  def split_window(self, data):\n",
    "    inputs = tf.stack(\n",
    "      [data[:,self.input_slice,i] for i in range(0,data.shape[2]) ] , axis=0\n",
    "    )\n",
    "    labels = tf.stack(\n",
    "      [data[:,self.labels_slice,i] for i in range(0,data.shape[2]) ] , axis=0\n",
    "    )\n",
    "\n",
    "    shape = [tf.shape(inputs)[k] for k in range(3)]\n",
    "    inputs = tf.reshape(inputs, [shape[0]*shape[1], shape[2], 1])\n",
    "    shape = [tf.shape(labels)[k] for k in range(3)]\n",
    "    labels = tf.reshape(labels, [shape[0]*shape[1], shape[2], 1])\n",
    "\n",
    "    # Slicing doesn't preserve static shape information, so set the shapes\n",
    "    # manually. This way the `tf.data.Datasets` are easier to inspect.\n",
    "    inputs.set_shape([None, self.input_width,1])\n",
    "    labels.set_shape([None, self.label_width,1])\n",
    "\n",
    "    return inputs, labels\n",
    "\n",
    "  def plot(self, model=None, plot_col='x', max_subplots=3):\n",
    "    inputs, labels = self.example\n",
    "    plt.figure(figsize=(12, 8))\n",
    "    max_n = min(max_subplots, len(inputs))\n",
    "    for n in range(max_n):\n",
    "      plt.subplot(max_n, 1, n+1)\n",
    "      plt.ylabel(f'{plot_col} [normed]')\n",
    "      plt.plot(self.input_indices, inputs[n,:,:],\n",
    "                label='Inputs', marker='.', zorder=-10)\n",
    "      plt.scatter(self.label_indices, labels[n,:,:],\n",
    "                  edgecolors='k', label='Labels', c='#2ca02c', s=64)\n",
    "\n",
    "      if model is not None:\n",
    "        predictions = model(inputs)\n",
    "        plt.scatter(self.label_indices, predictions[n,:],\n",
    "                    marker='X', edgecolors='k', label='Predictions',\n",
    "                    c='#ff7f0e', s=64)\n",
    "\n",
    "      if n == 0:\n",
    "        plt.legend()\n",
    "\n",
    "    plt.xlabel('Timesteps')\n",
    "\n",
    "  def make_dataset(self, data,batch_size):\n",
    "    data = np.array(data, dtype=np.float32)\n",
    "\n",
    "    ds = tf.keras.preprocessing.timeseries_dataset_from_array(\n",
    "        data= data,\n",
    "        targets=None,\n",
    "        sequence_length=self.total_window_size,\n",
    "        sequence_stride=1,\n",
    "        shuffle=True,\n",
    "        batch_size=batch_size)\n",
    "    ds = ds.map(self.split_window)\n",
    "    return ds\n",
    "\n",
    "  @property\n",
    "  def train(self,batch_size=10):\n",
    "    return self.make_dataset(self.train_df,batch_size)\n",
    "\n",
    "  @property\n",
    "  def val(self,batch_size=10):\n",
    "    return self.make_dataset(self.val_df,batch_size)\n",
    "\n",
    "  @property\n",
    "  def test(self,batch_size=10):\n",
    "    return self.make_dataset(self.test_df,batch_size)\n",
    "\n",
    "  @property\n",
    "  def example(self):\n",
    "    \"\"\"Get and cache an example batch of `inputs, labels` for plotting.\"\"\"\n",
    "    result = getattr(self, '_example', None)\n",
    "    if result is None:\n",
    "      # No example batch was found, so get one from the `.train` dataset\n",
    "      result = next(iter(self.train))\n",
    "      # And cache it for next time\n",
    "      self._example = result\n",
    "    return result\n",
    "\n"
   ]
  },
  {
   "cell_type": "markdown",
   "metadata": {},
   "source": [
    "### Example of window"
   ]
  },
  {
   "cell_type": "code",
   "execution_count": 16,
   "metadata": {},
   "outputs": [],
   "source": [
    "w1 = WindowGenerator(input_width=30, label_width=1, shift=1)\n",
    "# w1.plot(lstm_model)"
   ]
  },
  {
   "cell_type": "markdown",
   "metadata": {},
   "source": [
    "### Example of slicing"
   ]
  },
  {
   "cell_type": "code",
   "execution_count": 17,
   "metadata": {},
   "outputs": [
    {
     "name": "stdout",
     "output_type": "stream",
     "text": [
      "Shapes are: (batch, time, features)\n",
      "Data shape: (3, 31, 70)\n",
      "Inputs shape: (210, 30, 1)\n",
      "Labels shape: (210, 1, 1)\n"
     ]
    }
   ],
   "source": [
    "# Stack three slices, the length of the total window.\n",
    "example_window = tf.stack([np.array(train_df[:w1.total_window_size,:]),\n",
    "                           np.array(train_df[100:100+w1.total_window_size,:]),\n",
    "                           np.array(train_df[200:200+w1.total_window_size,:])])\n",
    "example_inputs, example_labels = w1.split_window(example_window)\n",
    "\n",
    "print('Shapes are: (batch, time, features)')\n",
    "print(f'Data shape: {example_window.shape}')\n",
    "print(f'Inputs shape: {example_inputs.shape}')\n",
    "print(f'Labels shape: {example_labels.shape}')"
   ]
  },
  {
   "cell_type": "markdown",
   "metadata": {},
   "source": [
    "### Create tf.data.Datasets"
   ]
  },
  {
   "cell_type": "code",
   "execution_count": 18,
   "metadata": {},
   "outputs": [
    {
     "data": {
      "text/plain": [
       "(TensorSpec(shape=(None, 30, 1), dtype=tf.float32, name=None),\n",
       " TensorSpec(shape=(None, 1, 1), dtype=tf.float32, name=None))"
      ]
     },
     "execution_count": 18,
     "metadata": {},
     "output_type": "execute_result"
    }
   ],
   "source": [
    "w1.train.element_spec"
   ]
  },
  {
   "cell_type": "markdown",
   "metadata": {},
   "source": [
    "### Plot/Example"
   ]
  },
  {
   "cell_type": "code",
   "execution_count": 19,
   "metadata": {},
   "outputs": [
    {
     "name": "stdout",
     "output_type": "stream",
     "text": [
      "Inputs shape (batch, timesteps,features): (700, 30, 1)\n",
      "Labels shape (batch, timesteps,features): (700, 1, 1)\n"
     ]
    }
   ],
   "source": [
    "example_inputs, example_labels = w1.example\n",
    "print(f'Inputs shape (batch, timesteps,features): {example_inputs.shape}')\n",
    "print(f'Labels shape (batch, timesteps,features): {example_labels.shape}')\n"
   ]
  },
  {
   "cell_type": "code",
   "execution_count": 20,
   "metadata": {},
   "outputs": [
    {
     "name": "stdout",
     "output_type": "stream",
     "text": [
      "Using matplotlib backend: Qt5Agg\n"
     ]
    }
   ],
   "source": [
    "%matplotlib auto\n",
    "w1.plot()"
   ]
  },
  {
   "cell_type": "markdown",
   "metadata": {},
   "source": [
    "# LSTM MODEL 1 TimeStep Train"
   ]
  },
  {
   "cell_type": "code",
   "execution_count": 21,
   "metadata": {},
   "outputs": [],
   "source": [
    "lstm_model = tf.keras.models.Sequential([\n",
    "    # Shape [batch, time] => [batch, time, lstm_units]\n",
    "    LSTM(101, activation='tanh', return_sequences=True,name = \"LSTM1\"),\n",
    "    LeakyReLU(alpha=0.4,name = \"LR1\"),\n",
    "    LSTM(101, activation='tanh', return_sequences=True,name = \"LSTM2\"),\n",
    "    LeakyReLU(alpha=0.4,name = \"LR2\"),\n",
    "    Flatten(name = \"Flat\"),\n",
    "    Dense(101,activation=None, use_bias=True,name=\"Dense1\"),\n",
    "    LeakyReLU(alpha=0.4,name = \"LR3\"),\n",
    "    Dense(units=1,name=\"Output\")\n",
    "])"
   ]
  },
  {
   "cell_type": "code",
   "execution_count": 22,
   "metadata": {},
   "outputs": [
    {
     "name": "stdout",
     "output_type": "stream",
     "text": [
      "Input shape: (700, 30, 1)\n",
      "Output shape: (700, 1)\n"
     ]
    }
   ],
   "source": [
    "wide_window = WindowGenerator(\n",
    "    input_width=30, label_width=1, shift=1)\n",
    "\n",
    "print('Input shape:', wide_window.example[0].shape)\n",
    "print('Output shape:', lstm_model(wide_window.example[0]).shape)"
   ]
  },
  {
   "cell_type": "code",
   "execution_count": 23,
   "metadata": {},
   "outputs": [],
   "source": [
    "def compile_and_fit(model, window, patience=10,MAX_EPOCHS = 500):\n",
    "  early_stopping = tf.keras.callbacks.EarlyStopping(monitor='val_loss',\n",
    "                                                    patience=patience,\n",
    "                                                    mode='min')\n",
    "\n",
    "  model.compile(loss=tf.losses.MeanSquaredError(),\n",
    "                optimizer=tf.optimizers.Adam(),\n",
    "                metrics=[tf.metrics.MeanAbsoluteError()])\n",
    "\n",
    "  history = model.fit(window.train, epochs=MAX_EPOCHS,\n",
    "                      validation_data=window.val,\n",
    "                      batch_size=16,\n",
    "                      callbacks=[early_stopping])\n",
    "  return history\n",
    "\n",
    "val_performance = {}\n",
    "performance = {}"
   ]
  },
  {
   "cell_type": "code",
   "execution_count": 24,
   "metadata": {},
   "outputs": [
    {
     "name": "stdout",
     "output_type": "stream",
     "text": [
      "Epoch 1/500\n",
      "97/97 [==============================] - 21s 192ms/step - loss: 0.0596 - mean_absolute_error: 0.1118 - val_loss: 0.0447 - val_mean_absolute_error: 0.0811\n",
      "Epoch 2/500\n",
      "97/97 [==============================] - 18s 183ms/step - loss: 0.0044 - mean_absolute_error: 0.0307 - val_loss: 0.0188 - val_mean_absolute_error: 0.0459\n",
      "Epoch 3/500\n",
      "97/97 [==============================] - 19s 193ms/step - loss: 0.0019 - mean_absolute_error: 0.0240 - val_loss: 0.0060 - val_mean_absolute_error: 0.0395\n",
      "Epoch 4/500\n",
      "97/97 [==============================] - 18s 188ms/step - loss: 5.3151e-04 - mean_absolute_error: 0.0121 - val_loss: 0.0044 - val_mean_absolute_error: 0.0247\n",
      "Epoch 5/500\n",
      "97/97 [==============================] - 19s 195ms/step - loss: 2.4444e-04 - mean_absolute_error: 0.0083 - val_loss: 0.0032 - val_mean_absolute_error: 0.0201\n",
      "Epoch 6/500\n",
      "97/97 [==============================] - 19s 196ms/step - loss: 2.4380e-04 - mean_absolute_error: 0.0087 - val_loss: 0.0024 - val_mean_absolute_error: 0.0165\n",
      "Epoch 7/500\n",
      " 2/97 [..............................] - ETA: 16s - loss: 1.5773e-04 - mean_absolute_error: 0.0069"
     ]
    }
   ],
   "source": [
    "%%time\n",
    "history = compile_and_fit(lstm_model, wide_window,patience = 20)\n",
    "\n",
    "IPython.display.clear_output()\n",
    "\n",
    "val_performance['LSTM'] = lstm_model.evaluate(wide_window.val)\n",
    "performance['LSTM'] = lstm_model.evaluate(wide_window.test, verbose=0)"
   ]
  },
  {
   "cell_type": "code",
   "execution_count": null,
   "metadata": {},
   "outputs": [],
   "source": [
    "wide_window.plot(lstm_model)"
   ]
  },
  {
   "cell_type": "markdown",
   "metadata": {},
   "source": [
    "# Save Model"
   ]
  },
  {
   "cell_type": "code",
   "execution_count": null,
   "metadata": {},
   "outputs": [],
   "source": [
    "# datetime object containing current date and time\n",
    "now = datetime.now()\n",
    "dt_string = now.strftime(\"%d-%m-%Y-%H:%M\")\n",
    "\n",
    "model_name = 'lstm'+dt_string+'.h5'\n",
    "model_name = os.path.join(\"Models\", model_name)\n",
    "lstm_model.save(model_name)"
   ]
  },
  {
   "cell_type": "markdown",
   "metadata": {},
   "source": [
    "# MULTIPLE WINDOW"
   ]
  },
  {
   "cell_type": "code",
   "execution_count": null,
   "metadata": {},
   "outputs": [],
   "source": [
    "OUT_STEPS = 30\n",
    "multi_window = WindowGenerator(input_width=24,\n",
    "                               label_width=OUT_STEPS,\n",
    "                               shift=OUT_STEPS)\n",
    "\n",
    "multi_window.plot()\n",
    "multi_window"
   ]
  },
  {
   "cell_type": "code",
   "execution_count": null,
   "metadata": {},
   "outputs": [],
   "source": [
    "class FeedBack(tf.keras.Model):\n",
    "  def __init__(self, units, out_steps):\n",
    "    super().__init__()\n",
    "    self.out_steps = out_steps\n",
    "    self.units = units\n",
    "\n",
    "    self.l1 = LSTM(units, activation='tanh', return_sequences=True,return_state=True,name = \"LSTM1\")\n",
    "    self.l2 = LeakyReLU(alpha=0.4,name = \"LR1\")\n",
    "    self.l3 = LSTM(units, activation='tanh', return_sequences=True,return_state=True,name = \"LSTM2\")\n",
    "    self.l4 = LeakyReLU(alpha=0.4,name = \"LR2\")\n",
    "    self.l5 = Flatten(name = \"Flat\")\n",
    "    self.l6 = Dense(units,activation=None, use_bias=True,name=\"Dense1\")\n",
    "    self.l7 = LeakyReLU(alpha=0.4,name = \"LR3\")\n",
    "    self.l8 = Dense(units=1,name=\"Output\")\n",
    "\n"
   ]
  },
  {
   "cell_type": "code",
   "execution_count": null,
   "metadata": {},
   "outputs": [],
   "source": [
    "feedback_model = FeedBack(units=32, out_steps=OUT_STEPS)"
   ]
  },
  {
   "cell_type": "code",
   "execution_count": null,
   "metadata": {},
   "outputs": [],
   "source": [
    "def warmup(self, inputs):\n",
    "  inp = inputs                                 #Input        => inputs.shape      => (batch, time, features)\n",
    "  x, *carry_state1 = self.l1(inp) #LSTM 1       => x.shape           => (batch, timesteps,lstm_units)\n",
    "  x = self.l2(x)                               #LEAKY RELU 1 => x.shape           => (batch, timesteps,lstm_units)\n",
    "  x, *carry_state2  = self.l3(x)  #LSTM_2       => x.shape           => (batch, timesteps,lstm_units)\n",
    "  x = self.l4(x)                               #Leaky_ReLU_2 => x.shape           => (batch, timesteps,lstm_units)\n",
    "  x = self.l5(x)                               #Flatten      => x.shape           => (batch, timesteps * lstm_units)\n",
    "  x = self.l6(x)                               #Dense_1      => x.shape           => (batch, lstm_units)\n",
    "  x = self.l7(x)                               #Leaky_ReLU_3 => x.shape           => (batch, lstm_units)\n",
    "  prediction = self.l8(x)                      #Dense_2      => predictions.shape => (batch, 1)\n",
    "  \n",
    "  return prediction , carry_state1 ,carry_state2\n",
    "\n",
    "FeedBack.warmup = warmup"
   ]
  },
  {
   "cell_type": "code",
   "execution_count": null,
   "metadata": {},
   "outputs": [],
   "source": [
    "prediction, state1, state2 = feedback_model.warmup(multi_window.example[0])\n",
    "print('Input shape:', multi_window.example[0].shape)\n",
    "print('Output shape:', prediction.shape)"
   ]
  },
  {
   "cell_type": "code",
   "execution_count": null,
   "metadata": {},
   "outputs": [],
   "source": [
    "def call(self, inputs, training=None):\n",
    "  # Use a TensorArray to capture dynamically unrolled outputs.\n",
    "  predictions = inputs\n",
    "  # Initialize the LSTM state.\n",
    "  prediction, carry_state1, carry_state2 = self.warmup(inputs)\n",
    "  # Insert the first prediction.\n",
    "  predictions = tf.concat(axis=1, values = [predictions,tf.expand_dims(prediction,axis=2)]) # <<<< note the cast\n",
    "  # Run the rest of the prediction steps.\n",
    "  for n in range(1, self.out_steps):\n",
    "    # Use the last prediction as input.\n",
    "    inp = predictions[:,n:,:]\n",
    "    # Execute one lstm step.\n",
    "    x, *carry_state1 = self.l1(inp , initial_state= [*carry_state1],\n",
    "                                            training=training) #LSTM\n",
    "    x = self.l2(x) #LEAKY RELU\n",
    "    x, *carry_state2 = self.l3(x, initial_state= [*carry_state2], \n",
    "                                            training=training) #LSTM\n",
    "    x = self.l4(x) #LEAKY RELU\n",
    "    x = self.l5(x) #FLATEN\n",
    "    x = self.l6(x) #DENSE/\n",
    "    x = self.l7(x) #LEAKY RELU\n",
    "    prediction = self.l8(x) #DENSELOL\n",
    "\n",
    "    predictions = tf.concat(axis=1, values = [predictions,tf.expand_dims(prediction,axis=2)]) # <<<< note the cast\n",
    "\n",
    "  # predictions.shape => (time, batch, features)\n",
    "  return predictions[:,-OUT_STEPS:,:]\n",
    "\n",
    "FeedBack.call = call"
   ]
  },
  {
   "cell_type": "code",
   "execution_count": null,
   "metadata": {},
   "outputs": [],
   "source": [
    "print('Output shape (batch, time, features): ', feedback_model(multi_window.example[0]).shape)"
   ]
  },
  {
   "cell_type": "code",
   "execution_count": null,
   "metadata": {},
   "outputs": [],
   "source": [
    "multi_val_performance = {}\n",
    "multi_performance = {}"
   ]
  },
  {
   "cell_type": "code",
   "execution_count": null,
   "metadata": {},
   "outputs": [],
   "source": [
    "multi_window.plot(feedback_model)"
   ]
  },
  {
   "cell_type": "code",
   "execution_count": null,
   "metadata": {},
   "outputs": [],
   "source": [
    "%%time\n",
    "history = compile_and_fit(feedback_model, multi_window,patience =10,MAX_EPOCHS=50)\n",
    "\n",
    "IPython.display.clear_output()\n",
    "\n",
    "multi_val_performance['AR LSTM'] = feedback_model.evaluate(multi_window.val)\n",
    "multi_performance['AR LSTM'] = feedback_model.evaluate(multi_window.test, verbose=0)\n",
    "multi_window.plot(feedback_model)"
   ]
  },
  {
   "cell_type": "code",
   "execution_count": null,
   "metadata": {},
   "outputs": [],
   "source": []
  }
 ],
 "metadata": {
  "interpreter": {
   "hash": "31f2aee4e71d21fbe5cf8b01ff0e069b9275f58929596ceb00d14d90e3e16cd6"
  },
  "kernelspec": {
   "display_name": "Python 3.6.8 64-bit",
   "language": "python",
   "name": "python3"
  },
  "language_info": {
   "codemirror_mode": {
    "name": "ipython",
    "version": 3
   },
   "file_extension": ".py",
   "mimetype": "text/x-python",
   "name": "python",
   "nbconvert_exporter": "python",
   "pygments_lexer": "ipython3",
   "version": "3.6.13"
  },
  "orig_nbformat": 4
 },
 "nbformat": 4,
 "nbformat_minor": 2
}
