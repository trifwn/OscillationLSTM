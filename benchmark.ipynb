{
 "cells": [
  {
   "cell_type": "markdown",
   "metadata": {},
   "source": [
    "# Imports"
   ]
  },
  {
   "cell_type": "code",
   "execution_count": null,
   "metadata": {},
   "outputs": [],
   "source": [
    "%load_ext autoreload\n",
    "%autoreload 2"
   ]
  },
  {
   "cell_type": "code",
   "execution_count": null,
   "metadata": {},
   "outputs": [],
   "source": [
    "import os\n",
    "import time\n",
    "from datetime import datetime\n",
    "\n",
    "from threading import Thread\n",
    "import IPython\n",
    "import IPython.display\n",
    "\n",
    "import numpy as np\n",
    "from math import *\n",
    "\n",
    "import tensorflow as tf\n",
    "from tensorflow.keras.layers import LSTM, LeakyReLU ,Flatten , Dense,Dropout\n",
    "from tensorflow.keras.callbacks import TensorBoard, ModelCheckpoint\n",
    "\n",
    "import matplotlib.pyplot as plt\n",
    "from pltfigure import pltfigure"
   ]
  },
  {
   "cell_type": "markdown",
   "metadata": {},
   "source": [
    "# Tensorflow Check"
   ]
  },
  {
   "cell_type": "code",
   "execution_count": null,
   "metadata": {},
   "outputs": [],
   "source": [
    "print(tf.__version__)"
   ]
  },
  {
   "cell_type": "code",
   "execution_count": null,
   "metadata": {},
   "outputs": [],
   "source": [
    "gpus = tf.config.experimental.list_physical_devices('GPU')\n",
    "if gpus:\n",
    "    try:\n",
    "        # Currently, memory growth needs to be the same across GPUs\n",
    "        for gpu in gpus:\n",
    "            tf.config.experimental.set_memory_growth(gpu, True)\n",
    "        logical_gpus = tf.config.experimental.list_logical_devices('GPU')\n",
    "        print(len(gpus), \"Physical GPUs,\", len(logical_gpus), \"Logical GPUs\")\n",
    "    except RuntimeError as e:\n",
    "        # Memory growth must be set before GPUs have been initialized\n",
    "        print(e)\n",
    "tf.test.is_built_with_cuda()"
   ]
  },
  {
   "cell_type": "code",
   "execution_count": null,
   "metadata": {},
   "outputs": [],
   "source": [
    "tf.executing_eagerly()"
   ]
  },
  {
   "cell_type": "markdown",
   "metadata": {},
   "source": [
    "# DATASET"
   ]
  },
  {
   "cell_type": "code",
   "execution_count": null,
   "metadata": {},
   "outputs": [],
   "source": [
    "InputData = np.genfromtxt('Data/InputDataBenchmark.csv',delimiter=\",\")\n",
    "t = np.genfromtxt('Data/timeBenchmark.csv',delimiter=\",\")\n",
    "Data = np.genfromtxt('Data/OutputDataBenchmark.csv',delimiter=\",\")\n",
    "print(f\"OutData: %s, \\nInputData: %s, \\nTime: %s\" %(np.shape(Data),np.shape(InputData),np.shape(t)))"
   ]
  },
  {
   "cell_type": "code",
   "execution_count": null,
   "metadata": {},
   "outputs": [],
   "source": [
    "example_ind = 5\n",
    "\n",
    "plt.plot(t,Data[:,example_ind])\n",
    "plt.grid()"
   ]
  },
  {
   "cell_type": "markdown",
   "metadata": {},
   "source": [
    "# Simple Pipeline"
   ]
  },
  {
   "cell_type": "code",
   "execution_count": null,
   "metadata": {},
   "outputs": [],
   "source": [
    "from InputPipeline import SimplePipeline"
   ]
  },
  {
   "cell_type": "markdown",
   "metadata": {},
   "source": [
    "## Apply Pipeline to make Data"
   ]
  },
  {
   "cell_type": "code",
   "execution_count": null,
   "metadata": {},
   "outputs": [],
   "source": [
    "pipe = SimplePipeline(num_samples=np.shape(InputData)[0], n_steps=20, xshape=np.shape(t)[0],val_cases = 2,use_metadata=True)"
   ]
  },
  {
   "cell_type": "code",
   "execution_count": null,
   "metadata": {},
   "outputs": [],
   "source": [
    "x_inp, y_out= pipe.makeData(data=Data.T,metadata=InputData)\n",
    "print(f\"Input X Shape: {x_inp.shape}\")\n",
    "print(f\"Output Y Shape: {y_out.shape}\")\n",
    "print(f\"Metadata Added Shape: {InputData.shape}\")"
   ]
  },
  {
   "cell_type": "markdown",
   "metadata": {},
   "source": [
    "## Plot Data"
   ]
  },
  {
   "cell_type": "code",
   "execution_count": null,
   "metadata": {},
   "outputs": [],
   "source": [
    "pipe.plotAlldata(Data.T,t)"
   ]
  },
  {
   "cell_type": "markdown",
   "metadata": {},
   "source": [
    "## Split Data"
   ]
  },
  {
   "cell_type": "code",
   "execution_count": null,
   "metadata": {},
   "outputs": [],
   "source": [
    "x_inp_train ,y_out_train ,x_inp_val  ,y_out_val = pipe.split_data(x_inp,y_out)\n",
    "print(x_inp_train.shape, y_out_train.shape, x_inp_val.shape, y_out_val.shape)"
   ]
  },
  {
   "cell_type": "code",
   "execution_count": null,
   "metadata": {},
   "outputs": [],
   "source": [
    "x_inp_train = x_inp_train.reshape(x_inp_train.shape[0],x_inp_train.shape[1],1)"
   ]
  },
  {
   "cell_type": "markdown",
   "metadata": {},
   "source": [
    "# Training LSTM 1 Timestep"
   ]
  },
  {
   "cell_type": "code",
   "execution_count": null,
   "metadata": {},
   "outputs": [],
   "source": [
    "from network import lstm_benchmark_model\n",
    "model = lstm_benchmark_model(units = 64)"
   ]
  },
  {
   "cell_type": "code",
   "execution_count": null,
   "metadata": {},
   "outputs": [],
   "source": [
    "def compile_and_fit(model, name, xtrain,ytrain,xval,yval, patience=10, MAX_EPOCHS=500, record=True):\n",
    "\n",
    "    now = datetime.now()\n",
    "    dt_string = now.strftime(\"%d-%m-%Y-%H-%M\")\n",
    "\n",
    "    NAME = name + \"@\"+str(MAX_EPOCHS)+\"@\"+dt_string\n",
    "    filename = os.path.join(\"Models\",  NAME + '.h5')\n",
    "    early_stopping = tf.keras.callbacks.EarlyStopping(monitor='val_loss',\n",
    "                                                      patience=patience,\n",
    "                                                      mode='min')\n",
    "    if record == True:\n",
    "        tensorboard = TensorBoard(log_dir= os.path.join(\"logs\",NAME))\n",
    "        checkpoint = ModelCheckpoint(filename, monitor='val_loss', verbose=0,\n",
    "                                     save_best_only=True, mode='min', save_weights_only=True)\n",
    "        callbacks = [early_stopping, tensorboard, checkpoint]\n",
    "    else:\n",
    "        callbacks = [early_stopping]\n",
    "\n",
    "    model.compile(loss=tf.losses.MeanAbsoluteError(),\n",
    "                  optimizer=tf.optimizers.Adam(learning_rate=0.001),\n",
    "                  metrics=[tf.metrics.MeanSquaredError()])\n",
    "\n",
    "    history = model.fit(xtrain,ytrain, epochs=MAX_EPOCHS,\n",
    "                        validation_data=(xval,yval),\n",
    "                        callbacks=callbacks, batch_size=int(1000))  # ,tensorboard,checkpoint])\n",
    "    return history\n",
    "\n",
    "\n",
    "val_performance = {}\n",
    "performance = {}\n"
   ]
  },
  {
   "cell_type": "code",
   "execution_count": null,
   "metadata": {},
   "outputs": [],
   "source": [
    "model = lstm_benchmark_model(units = 64)\n",
    "print('Input shape:', x_inp_train.shape)\n",
    "print('Output shape:', model(x_inp_train).shape)"
   ]
  },
  {
   "cell_type": "code",
   "execution_count": null,
   "metadata": {},
   "outputs": [],
   "source": [
    "model.summary()"
   ]
  },
  {
   "cell_type": "code",
   "execution_count": null,
   "metadata": {},
   "outputs": [],
   "source": [
    "%%time\n",
    "history = compile_and_fit(model, \"BenchmarkLSTM\",x_inp_train,y_out_train,x_inp_val,y_out_val,MAX_EPOCHS=800 ,patience = 30,record = True)\n",
    "\n",
    "IPython.display.clear_output()\n",
    "\n",
    "val_performance['LSTM'] = model.evaluate(x_inp_val,y_out_val)"
   ]
  },
  {
   "cell_type": "code",
   "execution_count": null,
   "metadata": {},
   "outputs": [],
   "source": [
    "for i in range(x_inp_train.shape[0]):\n",
    "    if(i % 100 == 0):\n",
    "        print(f\"{i}/{x_inp_train.shape[0]}\")\n",
    "    temp = np.squeeze(model.predict(np.expand_dims(x_inp_train[i, :], axis=0)))\n",
    "    # y_out_pred[i] = temp\n",
    "    # print(i, i % (pipe.num_samples - 1))\n",
    "    if (i + 1) % (pipe.xshape-pipe.n_steps) == 0:\n",
    "        pass\n",
    "    else:\n",
    "        x_inp_train[i + 1, -InputData.shape[1] - 1] = temp\n",
    "model.fit(x_inp_train, y_out_train, validation_data=(x_inp_val, y_out_val), epochs=500,\n",
    "          verbose=2,\n",
    "          callbacks=tf.keras.callbacks.EarlyStopping(monitor='val_loss',\n",
    "                                                      patience=30,\n",
    "                                                      mode='min'),\n",
    "          batch_size=int(1000))\n",
    "# model.save(model_name)\n",
    "# model=load_model(model_name)\n",
    "print(model.evaluate(x_inp_val, y_out_val))"
   ]
  },
  {
   "cell_type": "code",
   "execution_count": null,
   "metadata": {},
   "outputs": [],
   "source": [
    "y_out_pred = np.zeros_like(y_out_val)\n",
    "for i in range(x_inp_val.shape[0]):\n",
    "    if(i % 100 == 0):\n",
    "        print(f\"{i}/{x_inp_val.shape[0]}\")\n",
    "    temp = np.squeeze(model.predict(np.expand_dims(x_inp_val[i, :], axis=0)))\n",
    "    y_out_pred[i] = temp\n",
    "    # print(i, i % (pipe.num_samples - 1))\n",
    "    if (i + 1) % (pipe.xshape-pipe.n_steps) == 0:\n",
    "        pass\n",
    "    else:\n",
    "        x_inp_val[i + 1, -InputData.shape[1] - 1] = temp\n",
    "\n",
    "# y_out_pred = model.predict(x_inp_val)\n",
    "\n",
    "# plt.plot(x[n_steps:], y_out_pred[:pipe.num_samples], label=\"prediction\")\n",
    "# plt.plot(x[n_steps:], y_out_val[:pipe.num_samples], label=\"target\")\n",
    "# if use_a:\n",
    "#     plt.plot(x[:n_steps], x_inp_val[0, :-6], label=\"input\")\n",
    "# else:\n",
    "#     plt.plot(x[:n_steps], x_inp_val[0, :], label=\"input\")"
   ]
  },
  {
   "cell_type": "code",
   "execution_count": null,
   "metadata": {},
   "outputs": [],
   "source": [
    "from sklearn.metrics import mean_absolute_error as mae\n",
    "print(mae(y_out_val[pipe.num_samples:], y_out_pred[pipe.num_samples:]))\n",
    "n_samp = int((pipe.xshape - pipe.n_steps))\n",
    "\n",
    "plt.plot(t[pipe.n_steps:], y_out_pred[n_samp:], label=\"Prediction\")\n",
    "plt.plot(t[:pipe.n_steps], x_inp_val[n_samp, :-6], label=\"Input\")\n",
    "plt.plot(t[pipe.n_steps:], y_out_val[n_samp:], lw=0.7, label=\"Target\")\n",
    "# plt.legend(bbox_to_anchor=(1.05, 1), loc='upper left')\n",
    "plt.grid()\n",
    "plt.xlabel(\"x\")\n",
    "plt.ylabel(\"y\")\n",
    "plt.show()\n",
    "\n",
    "plt.plot(t[pipe.n_steps:], y_out_pred[:n_samp], label=\"Prediction\")\n",
    "plt.plot(t[:pipe.n_steps], x_inp_val[0, :-6], label=\"Input\")\n",
    "plt.plot(t[pipe.n_steps:], y_out_val[:n_samp],  lw=0.7,label=\"Target\")\n",
    "# plt.legend(bbox_to_anchor=(1.05, 1), loc='upper left')\n",
    "plt.grid()\n",
    "plt.xlabel(\"x\")\n",
    "plt.ylabel(\"y\")\n",
    "plt.show()\n"
   ]
  },
  {
   "cell_type": "code",
   "execution_count": null,
   "metadata": {},
   "outputs": [],
   "source": []
  }
 ],
 "metadata": {
  "interpreter": {
   "hash": "5b133ee5cb18f072dabda68ed31822078e220381c811459782bde7df6c3c27af"
  },
  "kernelspec": {
   "display_name": "Python 3.9.12 ('ml')",
   "language": "python",
   "name": "python3"
  },
  "language_info": {
   "codemirror_mode": {
    "name": "ipython",
    "version": 3
   },
   "file_extension": ".py",
   "mimetype": "text/x-python",
   "name": "python",
   "nbconvert_exporter": "python",
   "pygments_lexer": "ipython3",
   "version": "3.9.12"
  },
  "orig_nbformat": 4
 },
 "nbformat": 4,
 "nbformat_minor": 2
}
