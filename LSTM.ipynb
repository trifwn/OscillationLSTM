{
 "cells": [
  {
   "cell_type": "markdown",
   "metadata": {},
   "source": [
    "# Import Libraries"
   ]
  },
  {
   "cell_type": "code",
   "execution_count": 3,
   "metadata": {
    "ExecuteTime": {
     "end_time": "2021-04-19T16:25:04.479621Z",
     "start_time": "2021-04-19T16:25:04.368397Z"
    },
    "scrolled": true
   },
   "outputs": [],
   "source": [
    "import os\n",
    "import time\n",
    "from threading import Thread\n",
    "\n",
    "import numpy as np\n",
    "from math import *\n",
    "\n",
    "import tensorflow as tf\n",
    "from tensorflow import keras\n",
    "from tensorflow.keras.callbacks import *\n",
    "from tensorflow.keras.layers import Input, Dense, Flatten, LSTM\n",
    "from tensorflow.keras.layers import LeakyReLU\n",
    "from tensorflow.keras.models import Model, load_model\n",
    "from tensorflow.keras.optimizers import Adam\n",
    "\n",
    "import matplotlib.pyplot as plt\n",
    "from pltfigure import pltfigure"
   ]
  },
  {
   "cell_type": "code",
   "execution_count": 4,
   "metadata": {},
   "outputs": [
    {
     "name": "stdout",
     "output_type": "stream",
     "text": [
      "3 Physical GPUs, 3 Logical GPUs\n"
     ]
    },
    {
     "data": {
      "text/plain": [
       "True"
      ]
     },
     "execution_count": 4,
     "metadata": {},
     "output_type": "execute_result"
    }
   ],
   "source": [
    "gpus = tf.config.experimental.list_physical_devices('GPU')\n",
    "if gpus:\n",
    "    try:\n",
    "        # Currently, memory growth needs to be the same across GPUs\n",
    "        for gpu in gpus:\n",
    "            tf.config.experimental.set_memory_growth(gpu, True)\n",
    "        logical_gpus = tf.config.experimental.list_logical_devices('GPU')\n",
    "        print(len(gpus), \"Physical GPUs,\", len(logical_gpus), \"Logical GPUs\")\n",
    "    except RuntimeError as e:\n",
    "        # Memory growth must be set before GPUs have been initialized\n",
    "        print(e)\n",
    "tf.test.is_built_with_cuda()"
   ]
  },
  {
   "cell_type": "code",
   "execution_count": 5,
   "metadata": {},
   "outputs": [],
   "source": [
    "class ThreadWithReturnValue(Thread):\n",
    "    def __init__(self, group=None, target=None, name=None,\n",
    "args=(), kwargs={}, Verbose=None):\n",
    "        Thread.__init__(self, group, target, name, args, kwargs)\n",
    "        self._return = None\n",
    "    def run(self):\n",
    "        if self._target is not None:\n",
    "            self._return = self._target(*self._args,\n",
    "                                                **self._kwargs)\n",
    "    def join(self, *args):\n",
    "        Thread.join(self, *args)\n",
    "        return self._return"
   ]
  },
  {
   "cell_type": "markdown",
   "metadata": {},
   "source": [
    "# Functions"
   ]
  },
  {
   "cell_type": "code",
   "execution_count": 6,
   "metadata": {
    "ExecuteTime": {
     "end_time": "2021-04-19T16:11:20.559388Z",
     "start_time": "2021-04-19T16:11:20.557115Z"
    }
   },
   "outputs": [],
   "source": [
    "#This is parameter space\n",
    "# m*x''+c*x'+mx = 0\n",
    "# => x'' + 2jwx' +w^2 x =0 , j = c/(2wm) , w = sqrt(k/m)\n",
    "w = np.linspace(0.01, 1, 10)\n",
    "z = np.linspace(0.01, 0.99, 10)\n",
    "x0 = np.linspace(0, 1, 10)\n",
    "v0 = np.linspace(0, 1, 10)\n",
    "\n",
    "t = np.linspace(0.1, 100, 1000)\n",
    "\n",
    "\n",
    "inputData = np.array(np.meshgrid(w,z,x0,v0)).T.reshape(-1, 4)"
   ]
  },
  {
   "cell_type": "markdown",
   "metadata": {},
   "source": [
    "# OUR DIFFERENTIAL EQ."
   ]
  },
  {
   "cell_type": "code",
   "execution_count": 7,
   "metadata": {},
   "outputs": [],
   "source": [
    "def finalsolution(W,Z,X0,V0,T):\n",
    "    # final sol is x = e^(-zwt) (x0cos(wnt)+ ((v0+z*wn*x0)/wn)*sin(wnt)) wn = w sqrt(1-z**2)\n",
    "    WN = W * np.sqrt(1-Z**2)\n",
    "    try:\n",
    "        res = np.exp(-Z*W*T) * (X0*np.cos(WN*T) + ((V0 + Z *WN *X0)/WN)*np.sin(WN *T))\n",
    "    except RuntimeWarning as e:\n",
    "        print(WN)\n",
    "    finally:\n",
    "        return res \n",
    "\n",
    "x = list()\n",
    "\n",
    "for case in inputData:\n",
    "    x.append(finalsolution(case[0],case[1],case[2],case[3],t))\n",
    "x = np.array(x)\n"
   ]
  },
  {
   "cell_type": "code",
   "execution_count": 8,
   "metadata": {},
   "outputs": [
    {
     "data": {
      "image/png": "[encoded data removed]",
      "text/plain": [
       "<Figure size 432x288 with 1 Axes>"
      ]
     },
     "metadata": {
      "needs_background": "light"
     },
     "output_type": "display_data"
    }
   ],
   "source": [
    "plt.plot(t,x[1402,:])\n",
    "plt.grid()"
   ]
  },
  {
   "cell_type": "code",
   "execution_count": 7,
   "metadata": {},
   "outputs": [
    {
     "name": "stdout",
     "output_type": "stream",
     "text": [
      "(10000, 1000) (10000, 1000)\n"
     ]
    }
   ],
   "source": [
    "zeroline = np.zeros((np.shape(x)[0],len(t)))\n",
    "print(np.shape(x),np.shape(zeroline))\n",
    "#pltfigure(zeroline,x,t,\"Dataset\",\"Zeroline\",'dataset2.gif')"
   ]
  },
  {
   "cell_type": "code",
   "execution_count": 8,
   "metadata": {},
   "outputs": [],
   "source": [
    "def scale(ar, ar_scaled_min, ar_scaled_max):\n",
    "    ar_min = np.amin(ar)\n",
    "    ar_max = np.amax(ar)\n",
    "    ar_scaled = ((ar - ar_min) / (ar_max - ar_min)) * (ar_scaled_max - ar_scaled_min) + ar_scaled_min\n",
    "    return ar_min, ar_max, ar_scaled"
   ]
  },
  {
   "cell_type": "markdown",
   "metadata": {},
   "source": [
    "# Split Data"
   ]
  },
  {
   "cell_type": "code",
   "execution_count": 9,
   "metadata": {},
   "outputs": [],
   "source": [
    "randomChoise = np.random.choice(range(inputData.shape[0]), size=(round(0.75*len(inputData)),), replace=False)\n",
    "train_ind = [i for i in range(0,x.shape[0]) if i not in randomChoise]\n",
    "test_ind = [i for i in range(0,x.shape[0]) if i in randomChoise]\n",
    "\n",
    "randomChoise2 = np.random.choice(range(len(test_ind)), size=(round((9.97/10)*len(test_ind)),), replace=False)\n",
    "\n",
    "valid_ind = [test_ind[i] for i in range(0,len(test_ind)) if i not in randomChoise2]\n",
    "test_ind = [test_ind[i] for i in range(0,len(test_ind)) if i in randomChoise2]"
   ]
  },
  {
   "cell_type": "code",
   "execution_count": 10,
   "metadata": {},
   "outputs": [],
   "source": [
    "textfile = open(\"dataIndexes.dat\",\"w\")\n",
    "for element in train_ind:\n",
    "    textfile.write(str(element) + \" \")\n",
    "textfile.write('\\n')\n",
    "for element in valid_ind:\n",
    "    textfile.write(str(element) + \" \")\n",
    "textfile.write('\\n')\n",
    "for element in test_ind:\n",
    "    textfile.write(str(element) + \" \")\n",
    "textfile.close()"
   ]
  },
  {
   "cell_type": "code",
   "execution_count": 11,
   "metadata": {},
   "outputs": [],
   "source": [
    "split = 250\n",
    "xTrain_ind = np.array_split(train_ind,split,axis=0)\n",
    "xTest_ind = np.array_split(test_ind,split,axis=0)"
   ]
  },
  {
   "cell_type": "code",
   "execution_count": 12,
   "metadata": {},
   "outputs": [
    {
     "data": {
      "text/plain": [
       "((22,), (2500,), (7478,))"
      ]
     },
     "execution_count": 12,
     "metadata": {},
     "output_type": "execute_result"
    }
   ],
   "source": [
    "np.shape(valid_ind),np.shape(train_ind) , np.shape(test_ind)"
   ]
  },
  {
   "cell_type": "markdown",
   "metadata": {},
   "source": [
    "# Concatenate Dataset for Input"
   ]
  },
  {
   "cell_type": "code",
   "execution_count": 13,
   "metadata": {},
   "outputs": [],
   "source": [
    "n_steps = 30\n",
    "tNodes = len(t)"
   ]
  },
  {
   "cell_type": "code",
   "execution_count": 14,
   "metadata": {},
   "outputs": [],
   "source": [
    "def makeFasterInputData(ind):\n",
    "    #allocate whole array\n",
    "    X = np.empty(((tNodes-n_steps)* len(ind) ,n_steps,1))\n",
    "    Y = np.empty(((tNodes-n_steps)* len(ind)))\n",
    "    for j in range(len(ind)): \n",
    "        for k in range(tNodes-n_steps):\n",
    "            X[(tNodes-n_steps)*j+k,:,0] = x[ind[j],k:k+n_steps]\n",
    "            Y[(tNodes-n_steps)*j+k] = x[ind[j],k+n_steps]\n",
    "    return X , Y"
   ]
  },
  {
   "cell_type": "code",
   "execution_count": 15,
   "metadata": {},
   "outputs": [
    {
     "data": {
      "text/plain": [
       "((9700, 30, 1), (9700,))"
      ]
     },
     "execution_count": 15,
     "metadata": {},
     "output_type": "execute_result"
    }
   ],
   "source": [
    "a ,b = makeFasterInputData(xTrain_ind[2])\n",
    "np.shape(a) , np.shape(b)"
   ]
  },
  {
   "cell_type": "markdown",
   "metadata": {},
   "source": [
    "# Create Model Name"
   ]
  },
  {
   "cell_type": "code",
   "execution_count": null,
   "metadata": {
    "ExecuteTime": {
     "end_time": "2021-04-19T16:12:12.451819Z",
     "start_time": "2021-04-19T16:12:12.447840Z"
    }
   },
   "outputs": [],
   "source": [
    "from datetime import datetime\n",
    "\n",
    "# datetime object containing current date and time\n",
    "now = datetime.now()\n",
    "dt_string = now.strftime(\"%d-%m-%Y-%H:%M\")\n",
    "\n",
    "model_name = 'lstm'+dt_string+'.h5'\n",
    "model_name = os.path.join(\"Models\", model_name)"
   ]
  },
  {
   "cell_type": "markdown",
   "metadata": {},
   "source": [
    "# Create Model"
   ]
  },
  {
   "cell_type": "code",
   "execution_count": null,
   "metadata": {
    "ExecuteTime": {
     "end_time": "2021-04-19T16:17:11.879786Z",
     "start_time": "2021-04-19T16:17:11.867002Z"
    }
   },
   "outputs": [],
   "source": [
    "def LSTM_DNN(name_model):\n",
    "    inp = Input(shape=(n_steps, 1))\n",
    "    x1 = LSTM(101, activation='tanh', return_sequences=True, use_bias=True)(inp)\n",
    "    x2 = LeakyReLU(alpha=0.4)(x1)\n",
    "    x3 = LSTM(101, activation='tanh', use_bias=True)(x2)\n",
    "    x4 = LeakyReLU(alpha=0.4)(x3)\n",
    "    flat = Flatten()(x4)\n",
    "    x5 = Dense(101, activation=None, use_bias=True)(flat)\n",
    "    x6 = LeakyReLU(alpha=0.4)(x5)\n",
    "    x7 = Dense(1, activation='linear', use_bias=True)(x6)\n",
    "    model = Model(inputs=[inp], outputs=x7)\n",
    "\n",
    "    model.summary()\n",
    "    #model.save(name_model)\n",
    "    return model"
   ]
  },
  {
   "cell_type": "code",
   "execution_count": null,
   "metadata": {
    "ExecuteTime": {
     "end_time": "2021-04-19T16:17:16.287439Z",
     "start_time": "2021-04-19T16:17:14.973982Z"
    },
    "scrolled": true
   },
   "outputs": [],
   "source": [
    "lstm_model = LSTM_DNN(model_name)\n",
    "print(lstm_model)"
   ]
  },
  {
   "cell_type": "markdown",
   "metadata": {},
   "source": [
    "# Train Model With Callbacks to File"
   ]
  },
  {
   "cell_type": "code",
   "execution_count": null,
   "metadata": {
    "ExecuteTime": {
     "end_time": "2021-04-19T16:27:38.086275Z",
     "start_time": "2021-04-19T16:25:18.208657Z"
    },
    "scrolled": true,
    "tags": []
   },
   "outputs": [],
   "source": [
    "optimizer = keras.optimizers.Adam()\n",
    "\n",
    "loss_fn = keras.losses.Huber(name='huber_loss')\n",
    "train_acc_metric = keras.metrics.MeanAbsoluteError(name='mean_absolute_error', dtype=None)\n",
    "val_acc_metric = keras.metrics.MeanAbsoluteError(name='mean_absolute_error', dtype=None)\n",
    "\n",
    "@tf.function\n",
    "def train_step(x, y):\n",
    "    with tf.GradientTape() as tape:\n",
    "        logits = lstm_model(x, training=True)\n",
    "        loss_value = loss_fn(y, logits)\n",
    "    grads = tape.gradient(loss_value, lstm_model.trainable_weights)\n",
    "    optimizer.apply_gradients(zip(grads, lstm_model.trainable_weights))\n",
    "    train_acc_metric.update_state(y, logits)\n",
    "    return loss_value\n",
    "\n",
    "@tf.function\n",
    "def test_step(x, y):\n",
    "    val_logits = lstm_model(x, training=False)\n",
    "    val_acc_metric.update_state(y, val_logits)"
   ]
  },
  {
   "cell_type": "code",
   "execution_count": null,
   "metadata": {
    "tags": []
   },
   "outputs": [],
   "source": [
    "# Training Parallel Loop\n",
    "num_epochs = 250\n",
    "\n",
    "start_time = time.time()\n",
    "for epoch in range(num_epochs):\n",
    "    print(\"\\n#########\\nStart of epoch %d \\n#########\" % (epoch,))\n",
    "    epoch_time = time.time()\n",
    "    \n",
    "    x_batch ,y_batch= makeFasterInputData(xTrain_ind[0])\n",
    "    for i in range(1,split-1):\n",
    "        batch_start_time = time.time()\n",
    "        threadBatch = ThreadWithReturnValue(target=makeFasterInputData, args=(xTrain_ind[i],))\n",
    "        threadFit = ThreadWithReturnValue(target=train_step, args=(x_batch, y_batch,))\n",
    "        \n",
    "        threadBatch.start()\n",
    "        threadFit.start()\n",
    "\n",
    "        x_batch , y_batch= threadBatch.join()\n",
    "        loss_value = threadFit.join()\n",
    "        print(f\"Epoch: {epoch} Batch: {i} Loss: {loss_value}, Time: {round((time.time() - batch_start_time),3)}\")\n",
    "\n",
    "    loss_value = train_step(x_batch, y_batch)\n",
    "    # Display metrics at the end of each epoch.\n",
    "    train_acc = train_acc_metric.result()\n",
    "    print(\"Training MAE over epoch: %.4f\" % (float(train_acc),))\n",
    "\n",
    "    # Reset training metrics at the end of each epoch\n",
    "    train_acc_metric.reset_states()\n",
    "\n",
    "    # Run a validation loop at the end of each epoch.\n",
    "    x_batch_val ,y_batch_val = makeFasterInputData(valid_ind)\n",
    "    test_step(x_batch_val, y_batch_val)\n",
    "\n",
    "    val_acc = val_acc_metric.result()\n",
    "    val_acc_metric.reset_states()\n",
    "    print(\"Validation acc: %.4f\" % (float(val_acc),))\n",
    "    print(\"Time taken: %.2fs\" % round((time.time() - epoch_time),3))\n",
    "\n",
    "print(f\"Total Time taken for {num_epochs} epochs: %.2fs\" % round((time.time() - start_time),3))"
   ]
  },
  {
   "cell_type": "code",
   "execution_count": null,
   "metadata": {},
   "outputs": [],
   "source": [
    "lstm_model.save(model_name)"
   ]
  },
  {
   "cell_type": "code",
   "execution_count": null,
   "metadata": {},
   "outputs": [],
   "source": [
    "# Test Loop\n",
    "x_batch ,y_batch= makeFasterInputData(xTest_ind[0])\n",
    "totalTrain_acc = 0\n",
    "for i in range(split-1):\n",
    "    x_batch ,y_batch= makeFasterInputData(xTest_ind[i])\n",
    "    y_pred = lstm_model(x_batch, training=False)\n",
    "    train_acc_metric.update_state(y_batch, y_pred)\n",
    "\n",
    "    train_acc = train_acc_metric.result()\n",
    "    totalTrain_acc = totalTrain_acc + train_acc\n",
    "    print(f\"Accuracy over batch: {train_acc}\")\n",
    "    train_acc_metric.reset_states()\n",
    "print(f\"Accuracy over the Whole Test Set: {totalTrain_acc}\")\n"
   ]
  },
  {
   "cell_type": "markdown",
   "metadata": {},
   "source": [
    "# Further Training WIth Its Predictions"
   ]
  },
  {
   "cell_type": "code",
   "execution_count": null,
   "metadata": {},
   "outputs": [],
   "source": [
    "# def func(index,x_ind):\n",
    "\n",
    "#     xModelRT = x[index,:n_steps,:]\n",
    "#     xModel = x[index,:n_steps,:]\n",
    "#     yModelPred = x[index,:n_steps,:]\n",
    "#     yModelPredRT = x[index,:n_steps,:]\n",
    "\n",
    "#     for j in range(t.shape[0] - n_steps):\n",
    "#         if j%390 == 0:\n",
    "#             print(f\"index: {index}: {j/(t.shape[0] - n_steps)*100}\")\n",
    "\n",
    "#         predRT = lstm_model.predict(np.expand_dims(xModelRT, axis=0))\n",
    "#         predRT = np.squeeze(predRT)\n",
    "#         yModelPredRT = np.vstack([yModelPredRT,predRT])\n",
    "#         xModelRT = yModelPredRT[-n_steps:,:]\n",
    "\n",
    "#         pred = lstm_model.predict(np.expand_dims(xModel, axis=0))\n",
    "#         pred = np.squeeze(pred)\n",
    "#         yModelPred = np.vstack([yModelPred,pred])\n",
    "#         xModel = u[i,j:n_steps+j,:]"
   ]
  },
  {
   "cell_type": "code",
   "execution_count": null,
   "metadata": {},
   "outputs": [],
   "source": [
    "# start_super_calcs= time.time()\n",
    "# x_index = 40\n",
    "# if __name__ == \"__main__\":\n",
    "  \n",
    "#     # print ID of current process\n",
    "#     print(\"ID of process running main program: {}\".format(os.getpid()))\n",
    "  \n",
    "#     # print name of main thread\n",
    "#     print(\"Main thread name: {}\".format(threading.current_thread().name))\n",
    "#     threads = []\n",
    "#     for i in something:\n",
    "#         thread = threading.Thread(target=func, args=(i,x_index,))\n",
    "#         threads.append(thread)\n",
    "        \n",
    "#     for i in range(len(something)):\n",
    "#         threads[i].start()\n",
    "    \n",
    "#     for i in range(len(something)):\n",
    "#         threads[i].join()\n",
    "\n",
    "# print(f\"it took {(time.time() - start_super_calcs)}\")"
   ]
  }
 ],
 "metadata": {
  "hide_input": false,
  "interpreter": {
   "hash": "28fbec8fadb835c5e3e19a5d0a8c1b7ba25d59f9a9b2f359891ea05d68bf98d2"
  },
  "kernelspec": {
   "display_name": "Python 3.8.0 64-bit ('tf2.4': conda)",
   "name": "python3"
  },
  "language_info": {
   "codemirror_mode": {
    "name": "ipython",
    "version": 3
   },
   "file_extension": ".py",
   "mimetype": "text/x-python",
   "name": "python",
   "nbconvert_exporter": "python",
   "pygments_lexer": "ipython3",
   "version": "3.6.8"
  },
  "nbTranslate": {
   "displayLangs": [
    "*"
   ],
   "hotkey": "alt-t",
   "langInMainMenu": true,
   "sourceLang": "en",
   "targetLang": "fr",
   "useGoogleTranslate": true
  },
  "varInspector": {
   "cols": {
    "lenName": 16,
    "lenType": 16,
    "lenVar": 40
   },
   "kernels_config": {
    "python": {
     "delete_cmd_postfix": "",
     "delete_cmd_prefix": "del ",
     "library": "var_list.py",
     "varRefreshCmd": "print(var_dic_list())"
    },
    "r": {
     "delete_cmd_postfix": ") ",
     "delete_cmd_prefix": "rm(",
     "library": "var_list.r",
     "varRefreshCmd": "cat(var_dic_list()) "
    }
   },
   "position": {
    "height": "629.85px",
    "left": "1548px",
    "right": "20px",
    "top": "120px",
    "width": "352px"
   },
   "types_to_exclude": [
    "module",
    "function",
    "builtin_function_or_method",
    "instance",
    "_Feature"
   ],
   "window_display": true
  }
 },
 "nbformat": 4,
 "nbformat_minor": 4
}
