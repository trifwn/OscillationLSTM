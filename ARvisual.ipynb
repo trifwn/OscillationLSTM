{
 "cells": [
  {
   "cell_type": "code",
   "execution_count": null,
   "metadata": {},
   "outputs": [],
   "source": [
    "%load_ext autoreload\n",
    "%autoreload 2"
   ]
  },
  {
   "cell_type": "code",
   "execution_count": null,
   "metadata": {},
   "outputs": [],
   "source": [
    "import IPython\n",
    "import IPython.display\n",
    "import os\n",
    "\n",
    "import numpy as np\n",
    "\n",
    "import tensorflow as tf\n",
    "\n",
    "import matplotlib.pyplot as plt\n",
    "from profiling import cumTimer"
   ]
  },
  {
   "cell_type": "code",
   "execution_count": null,
   "metadata": {},
   "outputs": [],
   "source": [
    "print(tf.__version__)"
   ]
  },
  {
   "cell_type": "code",
   "execution_count": null,
   "metadata": {},
   "outputs": [],
   "source": [
    "gpus = tf.config.experimental.list_physical_devices('GPU')\n",
    "if gpus:\n",
    "    try:\n",
    "        # Currently, memory growth needs to be the same across GPUs\n",
    "        for gpu in gpus:\n",
    "            tf.config.experimental.set_memory_growth(gpu, True)\n",
    "        logical_gpus = tf.config.experimental.list_logical_devices('GPU')\n",
    "        print(len(gpus), \"Physical GPUs,\", len(logical_gpus), \"Logical GPUs\")\n",
    "    except RuntimeError as e:\n",
    "        # Memory growth must be set before GPUs have been initialized\n",
    "        print(e)\n",
    "tf.test.is_built_with_cuda()"
   ]
  },
  {
   "cell_type": "markdown",
   "metadata": {},
   "source": [
    "# Import Data"
   ]
  },
  {
   "cell_type": "code",
   "execution_count": null,
   "metadata": {},
   "outputs": [],
   "source": [
    "InputData = np.genfromtxt('Data/InputDataBenchmark.csv',delimiter=\",\")\n",
    "t = np.genfromtxt('Data/timeBenchmark.csv',delimiter=\",\")\n",
    "Data = np.genfromtxt('Data/OutputDataBenchmark.csv',delimiter=\",\")\n",
    "print(f\"OutData: %s, \\nInputData: %s, \\nTime: %s\" %(np.shape(Data),np.shape(InputData),np.shape(t)))"
   ]
  },
  {
   "cell_type": "markdown",
   "metadata": {},
   "source": [
    "# Split The Data"
   ]
  },
  {
   "cell_type": "code",
   "execution_count": null,
   "metadata": {},
   "outputs": [],
   "source": [
    "from InputPipeline import DataPipeline"
   ]
  },
  {
   "cell_type": "code",
   "execution_count": null,
   "metadata": {},
   "outputs": [],
   "source": [
    "pipe = DataPipeline(Data,InputData)\n",
    "pipe.splitData(0.8,0.1,0.1)"
   ]
  },
  {
   "cell_type": "code",
   "execution_count": null,
   "metadata": {},
   "outputs": [],
   "source": [
    "example_ind = 5\n",
    "plt.plot(t,pipe.train_df[:,example_ind])\n",
    "plt.grid()\n",
    "plt.show()"
   ]
  },
  {
   "cell_type": "markdown",
   "metadata": {},
   "source": [
    "# Data Windowing"
   ]
  },
  {
   "cell_type": "code",
   "execution_count": null,
   "metadata": {},
   "outputs": [],
   "source": [
    "from InputPipeline import WindowGenerator"
   ]
  },
  {
   "cell_type": "code",
   "execution_count": null,
   "metadata": {},
   "outputs": [],
   "source": [
    "OUT_STEPS = 30\n",
    "multi_window = WindowGenerator(input_width=20,\n",
    "                               label_width=OUT_STEPS,\n",
    "                               shift=OUT_STEPS,\n",
    "                               train_df=pipe.train_df,\n",
    "                               val_df=pipe.val_df,\n",
    "                               test_df=pipe.test_df,\n",
    "                               md_train_df= pipe.meta_train_df,\n",
    "                               md_test_df= pipe.meta_test_df,\n",
    "                               md_val_df= pipe.meta_val_df,\n",
    "                               batch_size = 500)\n",
    "\n",
    "multi_window.plotexample()\n",
    "multi_window"
   ]
  },
  {
   "cell_type": "markdown",
   "metadata": {},
   "source": [
    "# Models"
   ]
  },
  {
   "cell_type": "code",
   "execution_count": null,
   "metadata": {},
   "outputs": [],
   "source": [
    "from network import FeedBack, lstm_benchmark_model"
   ]
  },
  {
   "cell_type": "markdown",
   "metadata": {},
   "source": [
    "## Normal"
   ]
  },
  {
   "cell_type": "code",
   "execution_count": null,
   "metadata": {},
   "outputs": [],
   "source": [
    "model = lstm_benchmark_model(units = 64)\n",
    "print(f\"Input Shape: {multi_window.example[0].shape}\")\n",
    "print(f'Output Shape: {model(multi_window.example[0]).shape}')"
   ]
  },
  {
   "cell_type": "code",
   "execution_count": null,
   "metadata": {},
   "outputs": [],
   "source": [
    "model.summary()"
   ]
  },
  {
   "cell_type": "markdown",
   "metadata": {},
   "source": [
    "## Autoregressive Model"
   ]
  },
  {
   "cell_type": "code",
   "execution_count": null,
   "metadata": {},
   "outputs": [],
   "source": [
    "ARmodel =  FeedBack(units=64, out_steps=OUT_STEPS)\n",
    "print(f\"Input Shape: {multi_window.example[0].shape}\")\n",
    "print(f'Output Shape: {ARmodel(multi_window.example[0]).shape}')"
   ]
  },
  {
   "cell_type": "code",
   "execution_count": null,
   "metadata": {},
   "outputs": [],
   "source": [
    "ARmodel.summary()"
   ]
  },
  {
   "cell_type": "markdown",
   "metadata": {},
   "source": [
    "## Load Weights"
   ]
  },
  {
   "cell_type": "code",
   "execution_count": null,
   "metadata": {},
   "outputs": [],
   "source": [
    "models = os.listdir(\"Models/\")\n",
    "print(models)\n",
    "print(f\"Models/{models[0]}\")"
   ]
  },
  {
   "cell_type": "code",
   "execution_count": null,
   "metadata": {},
   "outputs": [],
   "source": [
    "ARmodel.load_weights(os.path.join(\"Models\", models[0]))"
   ]
  },
  {
   "cell_type": "markdown",
   "metadata": {},
   "source": [
    "# Plot Case"
   ]
  },
  {
   "cell_type": "code",
   "execution_count": null,
   "metadata": {},
   "outputs": [],
   "source": [
    "%%time\n",
    "predictions = multi_window.CalcCase(pipe.val_df[:,0],pipe.meta_val_df[:,0],t,ARmodel)"
   ]
  },
  {
   "cell_type": "code",
   "execution_count": null,
   "metadata": {},
   "outputs": [],
   "source": [
    "example_ind = 2"
   ]
  },
  {
   "cell_type": "code",
   "execution_count": null,
   "metadata": {},
   "outputs": [],
   "source": [
    "steps = 1\n",
    "predictions = multi_window.plotCase(pipe.val_df[:,example_ind],\n",
    "                                    timesteps = t[:multi_window.input_width+multi_window.label_width*steps],\n",
    "                                    metadata= pipe.meta_val_df[:,example_ind],\n",
    "                                    model= ARmodel,\n",
    "                                    options={\"showLines\" : False,  \"yLabel\" :'x', \"xLabel\" :'Timesteps'})"
   ]
  },
  {
   "cell_type": "code",
   "execution_count": null,
   "metadata": {},
   "outputs": [],
   "source": [
    "predictions = multi_window.plotCase(pipe.val_df[:,example_ind],timesteps = t,\n",
    "                                    metadata = pipe.meta_val_df[:,example_ind],\n",
    "                                    model=ARmodel)"
   ]
  },
  {
   "cell_type": "markdown",
   "metadata": {},
   "source": [
    "# Create Animation"
   ]
  },
  {
   "cell_type": "code",
   "execution_count": null,
   "metadata": {},
   "outputs": [],
   "source": [
    "from alive_progress import alive_bar"
   ]
  },
  {
   "cell_type": "code",
   "execution_count": null,
   "metadata": {},
   "outputs": [],
   "source": [
    "from pltfigure import pltfigure\n",
    "def animateDataset(dataset,metadataset,timesteps,name):\n",
    "    predData = []\n",
    "    tFinal = multi_window.input_width+multi_window.label_width*timesteps\n",
    "    with alive_bar(dataset.shape[1]) as bar:\n",
    "        for i in range(dataset.shape[1]):\n",
    "            print(\"\\nTest Case:{}\".format(i))\n",
    "            testCase = dataset[:,i]\n",
    "            ts  = multi_window.CalcCase(testCase,metadataset[:,i],t[:tFinal],model)\n",
    "            predData.append(ts)\n",
    "            bar()\n",
    "        predData =np.array(predData)\n",
    "    pltfigure(dataset[:tFinal,:].T,predData,range(tFinal),\"Data\",\"Prediction\",name)"
   ]
  },
  {
   "cell_type": "code",
   "execution_count": null,
   "metadata": {},
   "outputs": [],
   "source": [
    "steps = 10\n",
    "animateDataset(pipe.val_df,pipe.meta_val_df,steps,f\"Graphs/Prediction@{steps}Steps.gif\")"
   ]
  },
  {
   "cell_type": "code",
   "execution_count": null,
   "metadata": {},
   "outputs": [],
   "source": []
  }
 ],
 "metadata": {
  "interpreter": {
   "hash": "916dbcbb3f70747c44a77c7bcd40155683ae19c65e1c03b4aa3499c5328201f1"
  },
  "kernelspec": {
   "display_name": "Python 3.6.8 64-bit",
   "language": "python",
   "name": "python3"
  },
  "language_info": {
   "codemirror_mode": {
    "name": "ipython",
    "version": 3
   },
   "file_extension": ".py",
   "mimetype": "text/x-python",
   "name": "python",
   "nbconvert_exporter": "python",
   "pygments_lexer": "ipython3",
   "version": "3.9.7"
  },
  "orig_nbformat": 4
 },
 "nbformat": 4,
 "nbformat_minor": 2
}
