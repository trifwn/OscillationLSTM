{
 "cells": [
  {
   "cell_type": "code",
   "execution_count": 1,
   "metadata": {},
   "outputs": [],
   "source": [
    "import tensorflow as tf\n",
    "import matplotlib.pyplot as plt\n",
    "import numpy as np"
   ]
  },
  {
   "cell_type": "code",
   "execution_count": 2,
   "metadata": {},
   "outputs": [
    {
     "name": "stdout",
     "output_type": "stream",
     "text": [
      "OutData: (1000, 100), \n",
      "InputData: (100, 4), \n",
      "Time: (1000,)\n"
     ]
    }
   ],
   "source": [
    "InputData = np.genfromtxt('Data/InputData.csv',delimiter=\",\")\n",
    "t = np.genfromtxt('Data/time.csv',delimiter=\",\")\n",
    "Data = np.genfromtxt('Data/OutputData.csv',delimiter=\",\")\n",
    "print(f\"OutData: %s, \\nInputData: %s, \\nTime: %s\" %(np.shape(Data),np.shape(InputData),np.shape(t)))"
   ]
  },
  {
   "cell_type": "code",
   "execution_count": 3,
   "metadata": {},
   "outputs": [],
   "source": [
    "n = Data.shape[1]\n",
    "train_df = Data[:, 0:int(n*0.7):]\n",
    "val_df = Data[:,int(n*0.7):int(n*0.9):]\n",
    "test_df = Data[:,int(n*0.9):]\n",
    "\n",
    "num_features = Data.shape[1]\n"
   ]
  },
  {
   "cell_type": "code",
   "execution_count": 4,
   "metadata": {},
   "outputs": [],
   "source": [
    "train_mean = train_df.mean()\n",
    "train_std = train_df.std()\n",
    "\n",
    "train_df = (train_df - train_mean) / train_std\n",
    "val_df = (val_df - train_mean) / train_std\n",
    "test_df = (test_df - train_mean) / train_std"
   ]
  },
  {
   "cell_type": "code",
   "execution_count": 5,
   "metadata": {},
   "outputs": [
    {
     "data": {
      "text/plain": [
       "[<matplotlib.lines.Line2D at 0x7fa024353550>]"
      ]
     },
     "execution_count": 5,
     "metadata": {},
     "output_type": "execute_result"
    },
    {
     "data": {
      "image/png": "[encoded data removed]",
      "text/plain": [
       "<Figure size 432x288 with 1 Axes>"
      ]
     },
     "metadata": {
      "needs_background": "light"
     },
     "output_type": "display_data"
    }
   ],
   "source": [
    "example_ind = 61\n",
    "plt.plot(t,train_df[:,example_ind])\n"
   ]
  },
  {
   "cell_type": "code",
   "execution_count": 48,
   "metadata": {},
   "outputs": [],
   "source": [
    "class WindowGenerator():\n",
    "  def __init__(self, input_width, label_width, shift,\n",
    "               train_df, val_df, test_df):\n",
    "    # Store the raw data.\n",
    "    self.train_df = train_df\n",
    "    self.val_df = val_df\n",
    "    self.test_df = test_df\n",
    "\n",
    "\n",
    "    # Work out the window parameters.\n",
    "    self.input_width = input_width\n",
    "    self.label_width = label_width\n",
    "    self.shift = shift\n",
    "\n",
    "    self.total_window_size = input_width + shift\n",
    "\n",
    "    self.input_slice = slice(0, input_width)\n",
    "    self.input_indices = np.arange(self.total_window_size)[self.input_slice]\n",
    "\n",
    "    self.label_start = self.total_window_size - self.label_width\n",
    "    self.labels_slice = slice(self.label_start, None)\n",
    "    self.label_indices = np.arange(self.total_window_size)[self.labels_slice]\n",
    "\n",
    "  def __repr__(self):\n",
    "    return '\\n'.join([\n",
    "        f'Total window size: {self.total_window_size}',\n",
    "        f'Input indices: {self.input_indices}',\n",
    "        f'Label indices: {self.label_indices}'])\n"
   ]
  },
  {
   "cell_type": "code",
   "execution_count": 49,
   "metadata": {},
   "outputs": [],
   "source": [
    "def split_window(self, data):\n",
    "    inputs = tf.stack(\n",
    "      [data[:,self.input_slice,i] for i in range(0,data.shape[2]) ] , axis=0\n",
    "    )\n",
    "    labels = tf.stack(\n",
    "      [data[:,self.labels_slice,i] for i in range(0,data.shape[2]) ] , axis=0\n",
    "    )\n",
    "\n",
    "    shape = [tf.shape(inputs)[k] for k in range(3)]\n",
    "    inputs = tf.reshape(inputs, [shape[0]*shape[1], shape[2], 1])\n",
    "    shape = [tf.shape(labels)[k] for k in range(3)]\n",
    "    labels = tf.reshape(labels, [shape[0]*shape[1], shape[2], 1])\n",
    "\n",
    "    # Slicing doesn't preserve static shape information, so set the shapes\n",
    "    # manually. This way the `tf.data.Datasets` are easier to inspect.\n",
    "    inputs.set_shape([None, self.input_width,1])\n",
    "    labels.set_shape([None, self.label_width,1])\n",
    "\n",
    "    return inputs, labels\n",
    "\n",
    "WindowGenerator.split_window = split_window\n"
   ]
  },
  {
   "cell_type": "code",
   "execution_count": 50,
   "metadata": {},
   "outputs": [],
   "source": [
    "def make_dataset(self, data,batch_size):\n",
    "    data = np.array(data, dtype=np.float32)\n",
    "\n",
    "    ds = tf.keras.preprocessing.timeseries_dataset_from_array(\n",
    "        data= data,\n",
    "        targets=None,\n",
    "        sequence_length=self.total_window_size,\n",
    "        sequence_stride=1,\n",
    "        shuffle=True,\n",
    "        batch_size=batch_size)\n",
    "    ds = ds.map(self.split_window)\n",
    "    return ds\n",
    "\n",
    "@property\n",
    "def train(self,batch_size=10):\n",
    "    return self.make_dataset(self.train_df,batch_size)\n",
    "\n",
    "@property\n",
    "def val(self,batch_size=10):\n",
    "    return self.make_dataset(self.val_df,batch_size)\n",
    "\n",
    "@property\n",
    "def test(self,batch_size=10):\n",
    "    return self.make_dataset(self.test_df,batch_size)\n",
    "\n",
    "\n",
    "WindowGenerator.make_dataset = make_dataset\n",
    "WindowGenerator.train = train\n",
    "WindowGenerator.val = val\n",
    "WindowGenerator.test = test"
   ]
  },
  {
   "cell_type": "code",
   "execution_count": 51,
   "metadata": {},
   "outputs": [],
   "source": [
    "@property\n",
    "def example(self):\n",
    "    \"\"\"Get and cache an example batch of `inputs, labels` for plotting.\"\"\"\n",
    "    result = getattr(self, '_example', None)\n",
    "    if result is None:\n",
    "    # No example batch was found, so get one from the `.train` dataset\n",
    "        result = next(iter(self.train))\n",
    "        # And cache it for next time\n",
    "        self._example = result\n",
    "    return result\n",
    "WindowGenerator.example = example"
   ]
  },
  {
   "cell_type": "code",
   "execution_count": 52,
   "metadata": {},
   "outputs": [],
   "source": [
    "def plotexample(self, model=None, plot_col='x', max_subplots=3):\n",
    "  inputs, labels = self.example\n",
    "  plt.figure(figsize=(12, 8))\n",
    "  max_n = min(max_subplots, len(inputs))\n",
    "  for n in range(max_n):\n",
    "    plt.subplot(max_n, 1, n+1)\n",
    "    plt.ylabel(f'{plot_col} [normed]')\n",
    "    plt.plot(self.input_indices, inputs[n,:,:],\n",
    "              label='Inputs', marker='.', zorder=-10)\n",
    "    plt.scatter(self.label_indices, labels[n,:,:],\n",
    "                edgecolors='k', label='Labels', c='#2ca02c', s=64)\n",
    "\n",
    "    if model is not None:\n",
    "      predictions = model(inputs)\n",
    "      plt.scatter(self.label_indices, predictions[n,:],\n",
    "                  marker='X', edgecolors='k', label='Predictions',\n",
    "                  c='#ff7f0e', s=64)\n",
    "\n",
    "    if n == 0:\n",
    "      plt.legend()\n",
    "\n",
    "  plt.xlabel('Timesteps')\n",
    "\n",
    "WindowGenerator.plotexample = plotexample"
   ]
  },
  {
   "cell_type": "code",
   "execution_count": 62,
   "metadata": {},
   "outputs": [],
   "source": [
    "def plot(self,model=None, plot_col='x',index=61):\n",
    "    inputs = train_df[:,index]\n",
    "    print(tf.shape(inputs))\n",
    "    plt.figure(figsize=(12, 8))\n",
    "    plt.subplot(1, 1, 1)\n",
    "    plt.ylabel(f'{plot_col} [normed]')\n",
    "    plt.plot(self.input_indices, inputs[:self.input_width],\n",
    "                label='Inputs', marker='.', zorder=-10)\n",
    "    print(self.label_indices)\n",
    "    plt.scatter(self.label_indices, inputs[self.input_width:self.input_width+self.label_width],\n",
    "                edgecolors='k', label='Labels', c='#2ca02c', s=64)\n",
    "\n",
    "    if model is not None:\n",
    "        predictions = model(inputs[:self.input_width])\n",
    "        plt.scatter(self.label_indices, predictions[:],\n",
    "                    marker='X', edgecolors='k', label='Predictions',\n",
    "                    c='#ff7f0e', s=64)\n",
    "\n",
    "    if n == 0:\n",
    "        plt.legend()\n",
    "\n",
    "    plt.xlabel('Timesteps')\n",
    "\n",
    "WindowGenerator.plot = plot"
   ]
  }
 ],
 "metadata": {
  "interpreter": {
   "hash": "916dbcbb3f70747c44a77c7bcd40155683ae19c65e1c03b4aa3499c5328201f1"
  },
  "kernelspec": {
   "display_name": "Python 3.9.7 64-bit",
   "language": "python",
   "name": "python3"
  },
  "language_info": {
   "codemirror_mode": {
    "name": "ipython",
    "version": 3
   },
   "file_extension": ".py",
   "mimetype": "text/x-python",
   "name": "python",
   "nbconvert_exporter": "python",
   "pygments_lexer": "ipython3",
   "version": "3.6.8"
  },
  "orig_nbformat": 4
 },
 "nbformat": 4,
 "nbformat_minor": 2
}
